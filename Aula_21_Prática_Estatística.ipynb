{
  "nbformat": 4,
  "nbformat_minor": 0,
  "metadata": {
    "colab": {
      "provenance": [],
      "include_colab_link": true
    },
    "kernelspec": {
      "name": "python3",
      "display_name": "Python 3"
    },
    "language_info": {
      "name": "python"
    }
  },
  "cells": [
    {
      "cell_type": "markdown",
      "metadata": {
        "id": "view-in-github",
        "colab_type": "text"
      },
      "source": [
        "<a href=\"https://colab.research.google.com/github/BeatrizPCandido/pretalab-ciclo14-git-github/blob/main/Aula_21_Pr%C3%A1tica_Estat%C3%ADstica.ipynb\" target=\"_parent\"><img src=\"https://colab.research.google.com/assets/colab-badge.svg\" alt=\"Open In Colab\"/></a>"
      ]
    },
    {
      "cell_type": "markdown",
      "source": [
        "# Prática de exercícios de estatística em Python"
      ],
      "metadata": {
        "id": "idWAeK3E8wG6"
      }
    },
    {
      "cell_type": "markdown",
      "source": [
        "## Objetivos\n",
        "\n",
        "* Aplicar conceitos de estatística descritiva ao dataset Coffee Sales\n",
        "* Analisar distribuições e probabilidades\n",
        "* Realizar amostragem e testes de hipóteses\n",
        "* Interpretar resultados de forma crítica e aplicada"
      ],
      "metadata": {
        "id": "ABviFDaf9-tV"
      }
    },
    {
      "cell_type": "markdown",
      "source": [
        "## Dataset: `vendas_cafeteria.csv`\n",
        "\n",
        "Cada linha representa uma venda individual em uma cafeteria, incluindo:\n",
        "- Data e hora da compra  \n",
        "- Tipo de café vendido  \n",
        "- Valor pago  \n",
        "- Tipo de pagamento  \n",
        "- Período do dia, dia da semana e mês  \n",
        "\n",
        "Arquivo: https://drive.google.com/file/d/1JUF9uI-nC0bbcWjBw8hnPWRcGNLfWNqI/view?usp=sharing"
      ],
      "metadata": {
        "id": "9H2Q2oCdGwcX"
      }
    },
    {
      "cell_type": "code",
      "execution_count": 1,
      "metadata": {
        "id": "3_hMqLpT8sgA"
      },
      "outputs": [],
      "source": [
        "#Bibliotecas\n",
        "import pandas as pd\n",
        "import numpy as np\n",
        "import matplotlib.pyplot as plt\n",
        "import seaborn as sns\n",
        "from scipy import stats\n",
        "\n",
        "# Configurações\n",
        "sns.set(style=\"whitegrid\", palette=\"Set2\")\n",
        "plt.rcParams['figure.figsize'] = (8,4)\n",
        "pd.options.plotting.backend = \"plotly\""
      ]
    },
    {
      "cell_type": "code",
      "source": [
        "# Carregar o dataset\n",
        "df = pd.read_csv(\"/content/.config/vendas_cafeteria (2).csv\")"
      ],
      "metadata": {
        "id": "qoxeT3V88zNb"
      },
      "execution_count": 3,
      "outputs": []
    },
    {
      "cell_type": "markdown",
      "source": [
        "## Aquecimento\n",
        "\n",
        "\n",
        "1. Mostrar as 5 primeiras linhas.\n",
        "2. Exibir informações e tipos de dados (.info())."
      ],
      "metadata": {
        "id": "2lAF-49U-Viz"
      }
    },
    {
      "cell_type": "code",
      "source": [
        "df.head()"
      ],
      "metadata": {
        "colab": {
          "base_uri": "https://localhost:8080/",
          "height": 206
        },
        "id": "KcxXuO2U-bLZ",
        "outputId": "4cc2f455-da24-496a-aeae-f847b23ffbcd"
      },
      "execution_count": 4,
      "outputs": [
        {
          "output_type": "execute_result",
          "data": {
            "text/plain": [
              "   hora_do_dia tipo_pagamento  valor         nome_cafe periodo_do_dia  \\\n",
              "0           10         cartão   38.7             Latte          Manhã   \n",
              "1           12         cartão   38.7  Chocolate Quente          Tarde   \n",
              "2           12         cartão   38.7  Chocolate Quente          Tarde   \n",
              "3           13         cartão   28.9    Café Americano          Tarde   \n",
              "4           13         cartão   38.7             Latte          Tarde   \n",
              "\n",
              "  dia_da_semana    mes  ordem_dia  ordem_mes        data             hora  \n",
              "0           Sex  Março          5          3  2024-03-01  10:15:50.520000  \n",
              "1           Sex  Março          5          3  2024-03-01  12:19:22.539000  \n",
              "2           Sex  Março          5          3  2024-03-01  12:20:18.089000  \n",
              "3           Sex  Março          5          3  2024-03-01  13:46:33.006000  \n",
              "4           Sex  Março          5          3  2024-03-01  13:48:14.626000  "
            ],
            "text/html": [
              "\n",
              "  <div id=\"df-3c16a27c-d33f-465e-b4c3-992180ffdb4a\" class=\"colab-df-container\">\n",
              "    <div>\n",
              "<style scoped>\n",
              "    .dataframe tbody tr th:only-of-type {\n",
              "        vertical-align: middle;\n",
              "    }\n",
              "\n",
              "    .dataframe tbody tr th {\n",
              "        vertical-align: top;\n",
              "    }\n",
              "\n",
              "    .dataframe thead th {\n",
              "        text-align: right;\n",
              "    }\n",
              "</style>\n",
              "<table border=\"1\" class=\"dataframe\">\n",
              "  <thead>\n",
              "    <tr style=\"text-align: right;\">\n",
              "      <th></th>\n",
              "      <th>hora_do_dia</th>\n",
              "      <th>tipo_pagamento</th>\n",
              "      <th>valor</th>\n",
              "      <th>nome_cafe</th>\n",
              "      <th>periodo_do_dia</th>\n",
              "      <th>dia_da_semana</th>\n",
              "      <th>mes</th>\n",
              "      <th>ordem_dia</th>\n",
              "      <th>ordem_mes</th>\n",
              "      <th>data</th>\n",
              "      <th>hora</th>\n",
              "    </tr>\n",
              "  </thead>\n",
              "  <tbody>\n",
              "    <tr>\n",
              "      <th>0</th>\n",
              "      <td>10</td>\n",
              "      <td>cartão</td>\n",
              "      <td>38.7</td>\n",
              "      <td>Latte</td>\n",
              "      <td>Manhã</td>\n",
              "      <td>Sex</td>\n",
              "      <td>Março</td>\n",
              "      <td>5</td>\n",
              "      <td>3</td>\n",
              "      <td>2024-03-01</td>\n",
              "      <td>10:15:50.520000</td>\n",
              "    </tr>\n",
              "    <tr>\n",
              "      <th>1</th>\n",
              "      <td>12</td>\n",
              "      <td>cartão</td>\n",
              "      <td>38.7</td>\n",
              "      <td>Chocolate Quente</td>\n",
              "      <td>Tarde</td>\n",
              "      <td>Sex</td>\n",
              "      <td>Março</td>\n",
              "      <td>5</td>\n",
              "      <td>3</td>\n",
              "      <td>2024-03-01</td>\n",
              "      <td>12:19:22.539000</td>\n",
              "    </tr>\n",
              "    <tr>\n",
              "      <th>2</th>\n",
              "      <td>12</td>\n",
              "      <td>cartão</td>\n",
              "      <td>38.7</td>\n",
              "      <td>Chocolate Quente</td>\n",
              "      <td>Tarde</td>\n",
              "      <td>Sex</td>\n",
              "      <td>Março</td>\n",
              "      <td>5</td>\n",
              "      <td>3</td>\n",
              "      <td>2024-03-01</td>\n",
              "      <td>12:20:18.089000</td>\n",
              "    </tr>\n",
              "    <tr>\n",
              "      <th>3</th>\n",
              "      <td>13</td>\n",
              "      <td>cartão</td>\n",
              "      <td>28.9</td>\n",
              "      <td>Café Americano</td>\n",
              "      <td>Tarde</td>\n",
              "      <td>Sex</td>\n",
              "      <td>Março</td>\n",
              "      <td>5</td>\n",
              "      <td>3</td>\n",
              "      <td>2024-03-01</td>\n",
              "      <td>13:46:33.006000</td>\n",
              "    </tr>\n",
              "    <tr>\n",
              "      <th>4</th>\n",
              "      <td>13</td>\n",
              "      <td>cartão</td>\n",
              "      <td>38.7</td>\n",
              "      <td>Latte</td>\n",
              "      <td>Tarde</td>\n",
              "      <td>Sex</td>\n",
              "      <td>Março</td>\n",
              "      <td>5</td>\n",
              "      <td>3</td>\n",
              "      <td>2024-03-01</td>\n",
              "      <td>13:48:14.626000</td>\n",
              "    </tr>\n",
              "  </tbody>\n",
              "</table>\n",
              "</div>\n",
              "    <div class=\"colab-df-buttons\">\n",
              "\n",
              "  <div class=\"colab-df-container\">\n",
              "    <button class=\"colab-df-convert\" onclick=\"convertToInteractive('df-3c16a27c-d33f-465e-b4c3-992180ffdb4a')\"\n",
              "            title=\"Convert this dataframe to an interactive table.\"\n",
              "            style=\"display:none;\">\n",
              "\n",
              "  <svg xmlns=\"http://www.w3.org/2000/svg\" height=\"24px\" viewBox=\"0 -960 960 960\">\n",
              "    <path d=\"M120-120v-720h720v720H120Zm60-500h600v-160H180v160Zm220 220h160v-160H400v160Zm0 220h160v-160H400v160ZM180-400h160v-160H180v160Zm440 0h160v-160H620v160ZM180-180h160v-160H180v160Zm440 0h160v-160H620v160Z\"/>\n",
              "  </svg>\n",
              "    </button>\n",
              "\n",
              "  <style>\n",
              "    .colab-df-container {\n",
              "      display:flex;\n",
              "      gap: 12px;\n",
              "    }\n",
              "\n",
              "    .colab-df-convert {\n",
              "      background-color: #E8F0FE;\n",
              "      border: none;\n",
              "      border-radius: 50%;\n",
              "      cursor: pointer;\n",
              "      display: none;\n",
              "      fill: #1967D2;\n",
              "      height: 32px;\n",
              "      padding: 0 0 0 0;\n",
              "      width: 32px;\n",
              "    }\n",
              "\n",
              "    .colab-df-convert:hover {\n",
              "      background-color: #E2EBFA;\n",
              "      box-shadow: 0px 1px 2px rgba(60, 64, 67, 0.3), 0px 1px 3px 1px rgba(60, 64, 67, 0.15);\n",
              "      fill: #174EA6;\n",
              "    }\n",
              "\n",
              "    .colab-df-buttons div {\n",
              "      margin-bottom: 4px;\n",
              "    }\n",
              "\n",
              "    [theme=dark] .colab-df-convert {\n",
              "      background-color: #3B4455;\n",
              "      fill: #D2E3FC;\n",
              "    }\n",
              "\n",
              "    [theme=dark] .colab-df-convert:hover {\n",
              "      background-color: #434B5C;\n",
              "      box-shadow: 0px 1px 3px 1px rgba(0, 0, 0, 0.15);\n",
              "      filter: drop-shadow(0px 1px 2px rgba(0, 0, 0, 0.3));\n",
              "      fill: #FFFFFF;\n",
              "    }\n",
              "  </style>\n",
              "\n",
              "    <script>\n",
              "      const buttonEl =\n",
              "        document.querySelector('#df-3c16a27c-d33f-465e-b4c3-992180ffdb4a button.colab-df-convert');\n",
              "      buttonEl.style.display =\n",
              "        google.colab.kernel.accessAllowed ? 'block' : 'none';\n",
              "\n",
              "      async function convertToInteractive(key) {\n",
              "        const element = document.querySelector('#df-3c16a27c-d33f-465e-b4c3-992180ffdb4a');\n",
              "        const dataTable =\n",
              "          await google.colab.kernel.invokeFunction('convertToInteractive',\n",
              "                                                    [key], {});\n",
              "        if (!dataTable) return;\n",
              "\n",
              "        const docLinkHtml = 'Like what you see? Visit the ' +\n",
              "          '<a target=\"_blank\" href=https://colab.research.google.com/notebooks/data_table.ipynb>data table notebook</a>'\n",
              "          + ' to learn more about interactive tables.';\n",
              "        element.innerHTML = '';\n",
              "        dataTable['output_type'] = 'display_data';\n",
              "        await google.colab.output.renderOutput(dataTable, element);\n",
              "        const docLink = document.createElement('div');\n",
              "        docLink.innerHTML = docLinkHtml;\n",
              "        element.appendChild(docLink);\n",
              "      }\n",
              "    </script>\n",
              "  </div>\n",
              "\n",
              "\n",
              "    <div id=\"df-c0997645-4df3-4185-9e29-20a227420fc7\">\n",
              "      <button class=\"colab-df-quickchart\" onclick=\"quickchart('df-c0997645-4df3-4185-9e29-20a227420fc7')\"\n",
              "                title=\"Suggest charts\"\n",
              "                style=\"display:none;\">\n",
              "\n",
              "<svg xmlns=\"http://www.w3.org/2000/svg\" height=\"24px\"viewBox=\"0 0 24 24\"\n",
              "     width=\"24px\">\n",
              "    <g>\n",
              "        <path d=\"M19 3H5c-1.1 0-2 .9-2 2v14c0 1.1.9 2 2 2h14c1.1 0 2-.9 2-2V5c0-1.1-.9-2-2-2zM9 17H7v-7h2v7zm4 0h-2V7h2v10zm4 0h-2v-4h2v4z\"/>\n",
              "    </g>\n",
              "</svg>\n",
              "      </button>\n",
              "\n",
              "<style>\n",
              "  .colab-df-quickchart {\n",
              "      --bg-color: #E8F0FE;\n",
              "      --fill-color: #1967D2;\n",
              "      --hover-bg-color: #E2EBFA;\n",
              "      --hover-fill-color: #174EA6;\n",
              "      --disabled-fill-color: #AAA;\n",
              "      --disabled-bg-color: #DDD;\n",
              "  }\n",
              "\n",
              "  [theme=dark] .colab-df-quickchart {\n",
              "      --bg-color: #3B4455;\n",
              "      --fill-color: #D2E3FC;\n",
              "      --hover-bg-color: #434B5C;\n",
              "      --hover-fill-color: #FFFFFF;\n",
              "      --disabled-bg-color: #3B4455;\n",
              "      --disabled-fill-color: #666;\n",
              "  }\n",
              "\n",
              "  .colab-df-quickchart {\n",
              "    background-color: var(--bg-color);\n",
              "    border: none;\n",
              "    border-radius: 50%;\n",
              "    cursor: pointer;\n",
              "    display: none;\n",
              "    fill: var(--fill-color);\n",
              "    height: 32px;\n",
              "    padding: 0;\n",
              "    width: 32px;\n",
              "  }\n",
              "\n",
              "  .colab-df-quickchart:hover {\n",
              "    background-color: var(--hover-bg-color);\n",
              "    box-shadow: 0 1px 2px rgba(60, 64, 67, 0.3), 0 1px 3px 1px rgba(60, 64, 67, 0.15);\n",
              "    fill: var(--button-hover-fill-color);\n",
              "  }\n",
              "\n",
              "  .colab-df-quickchart-complete:disabled,\n",
              "  .colab-df-quickchart-complete:disabled:hover {\n",
              "    background-color: var(--disabled-bg-color);\n",
              "    fill: var(--disabled-fill-color);\n",
              "    box-shadow: none;\n",
              "  }\n",
              "\n",
              "  .colab-df-spinner {\n",
              "    border: 2px solid var(--fill-color);\n",
              "    border-color: transparent;\n",
              "    border-bottom-color: var(--fill-color);\n",
              "    animation:\n",
              "      spin 1s steps(1) infinite;\n",
              "  }\n",
              "\n",
              "  @keyframes spin {\n",
              "    0% {\n",
              "      border-color: transparent;\n",
              "      border-bottom-color: var(--fill-color);\n",
              "      border-left-color: var(--fill-color);\n",
              "    }\n",
              "    20% {\n",
              "      border-color: transparent;\n",
              "      border-left-color: var(--fill-color);\n",
              "      border-top-color: var(--fill-color);\n",
              "    }\n",
              "    30% {\n",
              "      border-color: transparent;\n",
              "      border-left-color: var(--fill-color);\n",
              "      border-top-color: var(--fill-color);\n",
              "      border-right-color: var(--fill-color);\n",
              "    }\n",
              "    40% {\n",
              "      border-color: transparent;\n",
              "      border-right-color: var(--fill-color);\n",
              "      border-top-color: var(--fill-color);\n",
              "    }\n",
              "    60% {\n",
              "      border-color: transparent;\n",
              "      border-right-color: var(--fill-color);\n",
              "    }\n",
              "    80% {\n",
              "      border-color: transparent;\n",
              "      border-right-color: var(--fill-color);\n",
              "      border-bottom-color: var(--fill-color);\n",
              "    }\n",
              "    90% {\n",
              "      border-color: transparent;\n",
              "      border-bottom-color: var(--fill-color);\n",
              "    }\n",
              "  }\n",
              "</style>\n",
              "\n",
              "      <script>\n",
              "        async function quickchart(key) {\n",
              "          const quickchartButtonEl =\n",
              "            document.querySelector('#' + key + ' button');\n",
              "          quickchartButtonEl.disabled = true;  // To prevent multiple clicks.\n",
              "          quickchartButtonEl.classList.add('colab-df-spinner');\n",
              "          try {\n",
              "            const charts = await google.colab.kernel.invokeFunction(\n",
              "                'suggestCharts', [key], {});\n",
              "          } catch (error) {\n",
              "            console.error('Error during call to suggestCharts:', error);\n",
              "          }\n",
              "          quickchartButtonEl.classList.remove('colab-df-spinner');\n",
              "          quickchartButtonEl.classList.add('colab-df-quickchart-complete');\n",
              "        }\n",
              "        (() => {\n",
              "          let quickchartButtonEl =\n",
              "            document.querySelector('#df-c0997645-4df3-4185-9e29-20a227420fc7 button');\n",
              "          quickchartButtonEl.style.display =\n",
              "            google.colab.kernel.accessAllowed ? 'block' : 'none';\n",
              "        })();\n",
              "      </script>\n",
              "    </div>\n",
              "\n",
              "    </div>\n",
              "  </div>\n"
            ],
            "application/vnd.google.colaboratory.intrinsic+json": {
              "type": "dataframe",
              "variable_name": "df",
              "summary": "{\n  \"name\": \"df\",\n  \"rows\": 3547,\n  \"fields\": [\n    {\n      \"column\": \"hora_do_dia\",\n      \"properties\": {\n        \"dtype\": \"number\",\n        \"std\": 4,\n        \"min\": 6,\n        \"max\": 22,\n        \"num_unique_values\": 17,\n        \"samples\": [\n          10,\n          12,\n          18\n        ],\n        \"semantic_type\": \"\",\n        \"description\": \"\"\n      }\n    },\n    {\n      \"column\": \"tipo_pagamento\",\n      \"properties\": {\n        \"dtype\": \"category\",\n        \"num_unique_values\": 2,\n        \"samples\": [\n          \"dinheiro\",\n          \"cart\\u00e3o\"\n        ],\n        \"semantic_type\": \"\",\n        \"description\": \"\"\n      }\n    },\n    {\n      \"column\": \"valor\",\n      \"properties\": {\n        \"dtype\": \"number\",\n        \"std\": 4.877753703590957,\n        \"min\": 18.12,\n        \"max\": 38.7,\n        \"num_unique_values\": 13,\n        \"samples\": [\n          25.96,\n          35.76\n        ],\n        \"semantic_type\": \"\",\n        \"description\": \"\"\n      }\n    },\n    {\n      \"column\": \"nome_cafe\",\n      \"properties\": {\n        \"dtype\": \"category\",\n        \"num_unique_values\": 8,\n        \"samples\": [\n          \"Chocolate Quente\",\n          \"Cortado\"\n        ],\n        \"semantic_type\": \"\",\n        \"description\": \"\"\n      }\n    },\n    {\n      \"column\": \"periodo_do_dia\",\n      \"properties\": {\n        \"dtype\": \"category\",\n        \"num_unique_values\": 3,\n        \"samples\": [\n          \"Manh\\u00e3\",\n          \"Tarde\"\n        ],\n        \"semantic_type\": \"\",\n        \"description\": \"\"\n      }\n    },\n    {\n      \"column\": \"dia_da_semana\",\n      \"properties\": {\n        \"dtype\": \"category\",\n        \"num_unique_values\": 7,\n        \"samples\": [\n          \"Sex\",\n          \"S\\u00e1b\"\n        ],\n        \"semantic_type\": \"\",\n        \"description\": \"\"\n      }\n    },\n    {\n      \"column\": \"mes\",\n      \"properties\": {\n        \"dtype\": \"category\",\n        \"num_unique_values\": 12,\n        \"samples\": [\n          \"Janeiro\",\n          \"Dezembro\"\n        ],\n        \"semantic_type\": \"\",\n        \"description\": \"\"\n      }\n    },\n    {\n      \"column\": \"ordem_dia\",\n      \"properties\": {\n        \"dtype\": \"number\",\n        \"std\": 1,\n        \"min\": 1,\n        \"max\": 7,\n        \"num_unique_values\": 7,\n        \"samples\": [\n          5,\n          6\n        ],\n        \"semantic_type\": \"\",\n        \"description\": \"\"\n      }\n    },\n    {\n      \"column\": \"ordem_mes\",\n      \"properties\": {\n        \"dtype\": \"number\",\n        \"std\": 3,\n        \"min\": 1,\n        \"max\": 12,\n        \"num_unique_values\": 12,\n        \"samples\": [\n          1,\n          12\n        ],\n        \"semantic_type\": \"\",\n        \"description\": \"\"\n      }\n    },\n    {\n      \"column\": \"data\",\n      \"properties\": {\n        \"dtype\": \"object\",\n        \"num_unique_values\": 381,\n        \"samples\": [\n          \"2024-11-25\",\n          \"2024-09-12\"\n        ],\n        \"semantic_type\": \"\",\n        \"description\": \"\"\n      }\n    },\n    {\n      \"column\": \"hora\",\n      \"properties\": {\n        \"dtype\": \"object\",\n        \"num_unique_values\": 3547,\n        \"samples\": [\n          \"19:43:26.234000\",\n          \"21:57:30.270000\"\n        ],\n        \"semantic_type\": \"\",\n        \"description\": \"\"\n      }\n    }\n  ]\n}"
            }
          },
          "metadata": {},
          "execution_count": 4
        }
      ]
    },
    {
      "cell_type": "code",
      "source": [
        "df.info()"
      ],
      "metadata": {
        "colab": {
          "base_uri": "https://localhost:8080/"
        },
        "id": "1nXeVKvfC4fk",
        "outputId": "666fddc7-97f2-466f-b6ca-c73993e5e4e1"
      },
      "execution_count": 5,
      "outputs": [
        {
          "output_type": "stream",
          "name": "stdout",
          "text": [
            "<class 'pandas.core.frame.DataFrame'>\n",
            "RangeIndex: 3547 entries, 0 to 3546\n",
            "Data columns (total 11 columns):\n",
            " #   Column          Non-Null Count  Dtype  \n",
            "---  ------          --------------  -----  \n",
            " 0   hora_do_dia     3547 non-null   int64  \n",
            " 1   tipo_pagamento  2698 non-null   object \n",
            " 2   valor           3547 non-null   float64\n",
            " 3   nome_cafe       3547 non-null   object \n",
            " 4   periodo_do_dia  3547 non-null   object \n",
            " 5   dia_da_semana   3547 non-null   object \n",
            " 6   mes             3547 non-null   object \n",
            " 7   ordem_dia       3547 non-null   int64  \n",
            " 8   ordem_mes       3547 non-null   int64  \n",
            " 9   data            3547 non-null   object \n",
            " 10  hora            3547 non-null   object \n",
            "dtypes: float64(1), int64(3), object(7)\n",
            "memory usage: 304.9+ KB\n"
          ]
        }
      ]
    },
    {
      "cell_type": "markdown",
      "source": [
        "## Exercício 1 — Estatística descritiva\n",
        "\n",
        "\n",
        "1. Calcule as estatísticas descritivas (.describe()) e observe as medidas de posição e dispersão (média, mediana, desvio padrão). Responda:\n",
        "- O que a média representa?\n",
        "\n",
        "- O que o desvio padrão mostra sobre as vendas?\n",
        "\n",
        "- Compare o valor da média com o da mediana\n",
        "\n",
        "2. Escolha uma das variáveis, visualize suas estatísticas com diagrama de caixa (BoxPlot) e responda: os dados são mais concentrados ou dispersos? existem valores atípicos (outliers)?"
      ],
      "metadata": {
        "id": "oD01wSiS-g-D"
      }
    },
    {
      "cell_type": "code",
      "source": [
        "df.describe()"
      ],
      "metadata": {
        "colab": {
          "base_uri": "https://localhost:8080/",
          "height": 300
        },
        "id": "rqxFG0kf-wYA",
        "outputId": "c6ec0681-877c-42e3-8307-2fe162545856"
      },
      "execution_count": 6,
      "outputs": [
        {
          "output_type": "execute_result",
          "data": {
            "text/plain": [
              "       hora_do_dia        valor    ordem_dia    ordem_mes\n",
              "count  3547.000000  3547.000000  3547.000000  3547.000000\n",
              "mean     14.185791    31.645216     3.845785     6.453905\n",
              "std       4.234010     4.877754     1.971501     3.500754\n",
              "min       6.000000    18.120000     1.000000     1.000000\n",
              "25%      10.000000    27.920000     2.000000     3.000000\n",
              "50%      14.000000    32.820000     4.000000     7.000000\n",
              "75%      18.000000    35.760000     6.000000    10.000000\n",
              "max      22.000000    38.700000     7.000000    12.000000"
            ],
            "text/html": [
              "\n",
              "  <div id=\"df-9fad1b91-b72b-4dfb-b1ae-1328fd8c8343\" class=\"colab-df-container\">\n",
              "    <div>\n",
              "<style scoped>\n",
              "    .dataframe tbody tr th:only-of-type {\n",
              "        vertical-align: middle;\n",
              "    }\n",
              "\n",
              "    .dataframe tbody tr th {\n",
              "        vertical-align: top;\n",
              "    }\n",
              "\n",
              "    .dataframe thead th {\n",
              "        text-align: right;\n",
              "    }\n",
              "</style>\n",
              "<table border=\"1\" class=\"dataframe\">\n",
              "  <thead>\n",
              "    <tr style=\"text-align: right;\">\n",
              "      <th></th>\n",
              "      <th>hora_do_dia</th>\n",
              "      <th>valor</th>\n",
              "      <th>ordem_dia</th>\n",
              "      <th>ordem_mes</th>\n",
              "    </tr>\n",
              "  </thead>\n",
              "  <tbody>\n",
              "    <tr>\n",
              "      <th>count</th>\n",
              "      <td>3547.000000</td>\n",
              "      <td>3547.000000</td>\n",
              "      <td>3547.000000</td>\n",
              "      <td>3547.000000</td>\n",
              "    </tr>\n",
              "    <tr>\n",
              "      <th>mean</th>\n",
              "      <td>14.185791</td>\n",
              "      <td>31.645216</td>\n",
              "      <td>3.845785</td>\n",
              "      <td>6.453905</td>\n",
              "    </tr>\n",
              "    <tr>\n",
              "      <th>std</th>\n",
              "      <td>4.234010</td>\n",
              "      <td>4.877754</td>\n",
              "      <td>1.971501</td>\n",
              "      <td>3.500754</td>\n",
              "    </tr>\n",
              "    <tr>\n",
              "      <th>min</th>\n",
              "      <td>6.000000</td>\n",
              "      <td>18.120000</td>\n",
              "      <td>1.000000</td>\n",
              "      <td>1.000000</td>\n",
              "    </tr>\n",
              "    <tr>\n",
              "      <th>25%</th>\n",
              "      <td>10.000000</td>\n",
              "      <td>27.920000</td>\n",
              "      <td>2.000000</td>\n",
              "      <td>3.000000</td>\n",
              "    </tr>\n",
              "    <tr>\n",
              "      <th>50%</th>\n",
              "      <td>14.000000</td>\n",
              "      <td>32.820000</td>\n",
              "      <td>4.000000</td>\n",
              "      <td>7.000000</td>\n",
              "    </tr>\n",
              "    <tr>\n",
              "      <th>75%</th>\n",
              "      <td>18.000000</td>\n",
              "      <td>35.760000</td>\n",
              "      <td>6.000000</td>\n",
              "      <td>10.000000</td>\n",
              "    </tr>\n",
              "    <tr>\n",
              "      <th>max</th>\n",
              "      <td>22.000000</td>\n",
              "      <td>38.700000</td>\n",
              "      <td>7.000000</td>\n",
              "      <td>12.000000</td>\n",
              "    </tr>\n",
              "  </tbody>\n",
              "</table>\n",
              "</div>\n",
              "    <div class=\"colab-df-buttons\">\n",
              "\n",
              "  <div class=\"colab-df-container\">\n",
              "    <button class=\"colab-df-convert\" onclick=\"convertToInteractive('df-9fad1b91-b72b-4dfb-b1ae-1328fd8c8343')\"\n",
              "            title=\"Convert this dataframe to an interactive table.\"\n",
              "            style=\"display:none;\">\n",
              "\n",
              "  <svg xmlns=\"http://www.w3.org/2000/svg\" height=\"24px\" viewBox=\"0 -960 960 960\">\n",
              "    <path d=\"M120-120v-720h720v720H120Zm60-500h600v-160H180v160Zm220 220h160v-160H400v160Zm0 220h160v-160H400v160ZM180-400h160v-160H180v160Zm440 0h160v-160H620v160ZM180-180h160v-160H180v160Zm440 0h160v-160H620v160Z\"/>\n",
              "  </svg>\n",
              "    </button>\n",
              "\n",
              "  <style>\n",
              "    .colab-df-container {\n",
              "      display:flex;\n",
              "      gap: 12px;\n",
              "    }\n",
              "\n",
              "    .colab-df-convert {\n",
              "      background-color: #E8F0FE;\n",
              "      border: none;\n",
              "      border-radius: 50%;\n",
              "      cursor: pointer;\n",
              "      display: none;\n",
              "      fill: #1967D2;\n",
              "      height: 32px;\n",
              "      padding: 0 0 0 0;\n",
              "      width: 32px;\n",
              "    }\n",
              "\n",
              "    .colab-df-convert:hover {\n",
              "      background-color: #E2EBFA;\n",
              "      box-shadow: 0px 1px 2px rgba(60, 64, 67, 0.3), 0px 1px 3px 1px rgba(60, 64, 67, 0.15);\n",
              "      fill: #174EA6;\n",
              "    }\n",
              "\n",
              "    .colab-df-buttons div {\n",
              "      margin-bottom: 4px;\n",
              "    }\n",
              "\n",
              "    [theme=dark] .colab-df-convert {\n",
              "      background-color: #3B4455;\n",
              "      fill: #D2E3FC;\n",
              "    }\n",
              "\n",
              "    [theme=dark] .colab-df-convert:hover {\n",
              "      background-color: #434B5C;\n",
              "      box-shadow: 0px 1px 3px 1px rgba(0, 0, 0, 0.15);\n",
              "      filter: drop-shadow(0px 1px 2px rgba(0, 0, 0, 0.3));\n",
              "      fill: #FFFFFF;\n",
              "    }\n",
              "  </style>\n",
              "\n",
              "    <script>\n",
              "      const buttonEl =\n",
              "        document.querySelector('#df-9fad1b91-b72b-4dfb-b1ae-1328fd8c8343 button.colab-df-convert');\n",
              "      buttonEl.style.display =\n",
              "        google.colab.kernel.accessAllowed ? 'block' : 'none';\n",
              "\n",
              "      async function convertToInteractive(key) {\n",
              "        const element = document.querySelector('#df-9fad1b91-b72b-4dfb-b1ae-1328fd8c8343');\n",
              "        const dataTable =\n",
              "          await google.colab.kernel.invokeFunction('convertToInteractive',\n",
              "                                                    [key], {});\n",
              "        if (!dataTable) return;\n",
              "\n",
              "        const docLinkHtml = 'Like what you see? Visit the ' +\n",
              "          '<a target=\"_blank\" href=https://colab.research.google.com/notebooks/data_table.ipynb>data table notebook</a>'\n",
              "          + ' to learn more about interactive tables.';\n",
              "        element.innerHTML = '';\n",
              "        dataTable['output_type'] = 'display_data';\n",
              "        await google.colab.output.renderOutput(dataTable, element);\n",
              "        const docLink = document.createElement('div');\n",
              "        docLink.innerHTML = docLinkHtml;\n",
              "        element.appendChild(docLink);\n",
              "      }\n",
              "    </script>\n",
              "  </div>\n",
              "\n",
              "\n",
              "    <div id=\"df-4a299035-810d-46eb-a527-fb61ada86a73\">\n",
              "      <button class=\"colab-df-quickchart\" onclick=\"quickchart('df-4a299035-810d-46eb-a527-fb61ada86a73')\"\n",
              "                title=\"Suggest charts\"\n",
              "                style=\"display:none;\">\n",
              "\n",
              "<svg xmlns=\"http://www.w3.org/2000/svg\" height=\"24px\"viewBox=\"0 0 24 24\"\n",
              "     width=\"24px\">\n",
              "    <g>\n",
              "        <path d=\"M19 3H5c-1.1 0-2 .9-2 2v14c0 1.1.9 2 2 2h14c1.1 0 2-.9 2-2V5c0-1.1-.9-2-2-2zM9 17H7v-7h2v7zm4 0h-2V7h2v10zm4 0h-2v-4h2v4z\"/>\n",
              "    </g>\n",
              "</svg>\n",
              "      </button>\n",
              "\n",
              "<style>\n",
              "  .colab-df-quickchart {\n",
              "      --bg-color: #E8F0FE;\n",
              "      --fill-color: #1967D2;\n",
              "      --hover-bg-color: #E2EBFA;\n",
              "      --hover-fill-color: #174EA6;\n",
              "      --disabled-fill-color: #AAA;\n",
              "      --disabled-bg-color: #DDD;\n",
              "  }\n",
              "\n",
              "  [theme=dark] .colab-df-quickchart {\n",
              "      --bg-color: #3B4455;\n",
              "      --fill-color: #D2E3FC;\n",
              "      --hover-bg-color: #434B5C;\n",
              "      --hover-fill-color: #FFFFFF;\n",
              "      --disabled-bg-color: #3B4455;\n",
              "      --disabled-fill-color: #666;\n",
              "  }\n",
              "\n",
              "  .colab-df-quickchart {\n",
              "    background-color: var(--bg-color);\n",
              "    border: none;\n",
              "    border-radius: 50%;\n",
              "    cursor: pointer;\n",
              "    display: none;\n",
              "    fill: var(--fill-color);\n",
              "    height: 32px;\n",
              "    padding: 0;\n",
              "    width: 32px;\n",
              "  }\n",
              "\n",
              "  .colab-df-quickchart:hover {\n",
              "    background-color: var(--hover-bg-color);\n",
              "    box-shadow: 0 1px 2px rgba(60, 64, 67, 0.3), 0 1px 3px 1px rgba(60, 64, 67, 0.15);\n",
              "    fill: var(--button-hover-fill-color);\n",
              "  }\n",
              "\n",
              "  .colab-df-quickchart-complete:disabled,\n",
              "  .colab-df-quickchart-complete:disabled:hover {\n",
              "    background-color: var(--disabled-bg-color);\n",
              "    fill: var(--disabled-fill-color);\n",
              "    box-shadow: none;\n",
              "  }\n",
              "\n",
              "  .colab-df-spinner {\n",
              "    border: 2px solid var(--fill-color);\n",
              "    border-color: transparent;\n",
              "    border-bottom-color: var(--fill-color);\n",
              "    animation:\n",
              "      spin 1s steps(1) infinite;\n",
              "  }\n",
              "\n",
              "  @keyframes spin {\n",
              "    0% {\n",
              "      border-color: transparent;\n",
              "      border-bottom-color: var(--fill-color);\n",
              "      border-left-color: var(--fill-color);\n",
              "    }\n",
              "    20% {\n",
              "      border-color: transparent;\n",
              "      border-left-color: var(--fill-color);\n",
              "      border-top-color: var(--fill-color);\n",
              "    }\n",
              "    30% {\n",
              "      border-color: transparent;\n",
              "      border-left-color: var(--fill-color);\n",
              "      border-top-color: var(--fill-color);\n",
              "      border-right-color: var(--fill-color);\n",
              "    }\n",
              "    40% {\n",
              "      border-color: transparent;\n",
              "      border-right-color: var(--fill-color);\n",
              "      border-top-color: var(--fill-color);\n",
              "    }\n",
              "    60% {\n",
              "      border-color: transparent;\n",
              "      border-right-color: var(--fill-color);\n",
              "    }\n",
              "    80% {\n",
              "      border-color: transparent;\n",
              "      border-right-color: var(--fill-color);\n",
              "      border-bottom-color: var(--fill-color);\n",
              "    }\n",
              "    90% {\n",
              "      border-color: transparent;\n",
              "      border-bottom-color: var(--fill-color);\n",
              "    }\n",
              "  }\n",
              "</style>\n",
              "\n",
              "      <script>\n",
              "        async function quickchart(key) {\n",
              "          const quickchartButtonEl =\n",
              "            document.querySelector('#' + key + ' button');\n",
              "          quickchartButtonEl.disabled = true;  // To prevent multiple clicks.\n",
              "          quickchartButtonEl.classList.add('colab-df-spinner');\n",
              "          try {\n",
              "            const charts = await google.colab.kernel.invokeFunction(\n",
              "                'suggestCharts', [key], {});\n",
              "          } catch (error) {\n",
              "            console.error('Error during call to suggestCharts:', error);\n",
              "          }\n",
              "          quickchartButtonEl.classList.remove('colab-df-spinner');\n",
              "          quickchartButtonEl.classList.add('colab-df-quickchart-complete');\n",
              "        }\n",
              "        (() => {\n",
              "          let quickchartButtonEl =\n",
              "            document.querySelector('#df-4a299035-810d-46eb-a527-fb61ada86a73 button');\n",
              "          quickchartButtonEl.style.display =\n",
              "            google.colab.kernel.accessAllowed ? 'block' : 'none';\n",
              "        })();\n",
              "      </script>\n",
              "    </div>\n",
              "\n",
              "    </div>\n",
              "  </div>\n"
            ],
            "application/vnd.google.colaboratory.intrinsic+json": {
              "type": "dataframe",
              "summary": "{\n  \"name\": \"df\",\n  \"rows\": 8,\n  \"fields\": [\n    {\n      \"column\": \"hora_do_dia\",\n      \"properties\": {\n        \"dtype\": \"number\",\n        \"std\": 1249.601852184631,\n        \"min\": 4.23400956057577,\n        \"max\": 3547.0,\n        \"num_unique_values\": 8,\n        \"samples\": [\n          14.18579080913448,\n          14.0,\n          3547.0\n        ],\n        \"semantic_type\": \"\",\n        \"description\": \"\"\n      }\n    },\n    {\n      \"column\": \"valor\",\n      \"properties\": {\n        \"dtype\": \"number\",\n        \"std\": 1244.5134603376905,\n        \"min\": 4.877753703590957,\n        \"max\": 3547.0,\n        \"num_unique_values\": 8,\n        \"samples\": [\n          31.64521567521849,\n          32.82,\n          3547.0\n        ],\n        \"semantic_type\": \"\",\n        \"description\": \"\"\n      }\n    },\n    {\n      \"column\": \"ordem_dia\",\n      \"properties\": {\n        \"dtype\": \"number\",\n        \"std\": 1252.75158620645,\n        \"min\": 1.0,\n        \"max\": 3547.0,\n        \"num_unique_values\": 8,\n        \"samples\": [\n          3.845785170566676,\n          4.0,\n          3547.0\n        ],\n        \"semantic_type\": \"\",\n        \"description\": \"\"\n      }\n    },\n    {\n      \"column\": \"ordem_mes\",\n      \"properties\": {\n        \"dtype\": \"number\",\n        \"std\": 1251.889663204858,\n        \"min\": 1.0,\n        \"max\": 3547.0,\n        \"num_unique_values\": 8,\n        \"samples\": [\n          6.453904708204116,\n          7.0,\n          3547.0\n        ],\n        \"semantic_type\": \"\",\n        \"description\": \"\"\n      }\n    }\n  ]\n}"
            }
          },
          "metadata": {},
          "execution_count": 6
        }
      ]
    },
    {
      "cell_type": "code",
      "source": [
        "plt.boxplot(df['valor'], vert=False)\n",
        "plt.title('BoxPlot - Valor das Vendas')\n",
        "plt.xlabel('Valor')"
      ],
      "metadata": {
        "colab": {
          "base_uri": "https://localhost:8080/",
          "height": 436
        },
        "id": "Gr7nQApcIEA4",
        "outputId": "78c903ee-a380-44ca-9203-2801bf4cc2b2"
      },
      "execution_count": 7,
      "outputs": [
        {
          "output_type": "execute_result",
          "data": {
            "text/plain": [
              "Text(0.5, 0, 'Valor')"
            ]
          },
          "metadata": {},
          "execution_count": 7
        },
        {
          "output_type": "display_data",
          "data": {
            "text/plain": [
              "<Figure size 800x400 with 1 Axes>"
            ],
            "image/png": "[encoded data removed]"
          },
          "metadata": {}
        }
      ]
    },
    {
      "cell_type": "code",
      "source": [
        "plt.boxplot(df['hora_do_dia'], vert=False)"
      ],
      "metadata": {
        "colab": {
          "base_uri": "https://localhost:8080/",
          "height": 512
        },
        "id": "ngi0w0lnMCNz",
        "outputId": "f6403232-b983-4b77-d431-b00ad5a0e441"
      },
      "execution_count": 8,
      "outputs": [
        {
          "output_type": "execute_result",
          "data": {
            "text/plain": [
              "{'whiskers': [<matplotlib.lines.Line2D at 0x781814212a20>,\n",
              "  <matplotlib.lines.Line2D at 0x781814212cc0>],\n",
              " 'caps': [<matplotlib.lines.Line2D at 0x781814212f60>,\n",
              "  <matplotlib.lines.Line2D at 0x7818142132c0>],\n",
              " 'boxes': [<matplotlib.lines.Line2D at 0x781814212720>],\n",
              " 'medians': [<matplotlib.lines.Line2D at 0x781814213470>],\n",
              " 'fliers': [<matplotlib.lines.Line2D at 0x781814213890>],\n",
              " 'means': []}"
            ]
          },
          "metadata": {},
          "execution_count": 8
        },
        {
          "output_type": "display_data",
          "data": {
            "text/plain": [
              "<Figure size 800x400 with 1 Axes>"
            ],
            "image/png": "[encoded data removed]"
          },
          "metadata": {}
        }
      ]
    },
    {
      "cell_type": "markdown",
      "source": [
        "## Exercício 2 — Distribuição de Probabilidade\n",
        "\n",
        "1. Analise o comportamento da variável `valor` e responda:\n",
        "* A distribuição é simétrica ou assimétrica?\n",
        "\n",
        "* Existem valores atípicos (outliers)?\n",
        "\n",
        "* O comportamento se aproxima de uma distribuição normal?"
      ],
      "metadata": {
        "id": "rdY5KMZ4_WoL"
      }
    },
    {
      "cell_type": "code",
      "source": [
        "df['valor'].plot(kind='hist', title='Histograma Valor de Vendas')"
      ],
      "metadata": {
        "colab": {
          "base_uri": "https://localhost:8080/",
          "height": 542
        },
        "id": "Byv7i65W_AwK",
        "outputId": "09b6fef3-1a7b-44c7-e2da-f89b700a87f3"
      },
      "execution_count": 9,
      "outputs": [
        {
          "output_type": "display_data",
          "data": {
            "text/html": [
              "<html>\n",
              "<head><meta charset=\"utf-8\" /></head>\n",
              "<body>\n",
              "    <div>            <script src=\"https://cdnjs.cloudflare.com/ajax/libs/mathjax/2.7.5/MathJax.js?config=TeX-AMS-MML_SVG\"></script><script type=\"text/javascript\">if (window.MathJax && window.MathJax.Hub && window.MathJax.Hub.Config) {window.MathJax.Hub.Config({SVG: {font: \"STIX-Web\"}});}</script>                <script type=\"text/javascript\">window.PlotlyConfig = {MathJaxConfig: 'local'};</script>\n",
              "        <script charset=\"utf-8\" src=\"https://cdn.plot.ly/plotly-2.35.2.min.js\"></script>                <div id=\"bcb4e3ce-ed7c-4541-bcda-8c5de993a62a\" class=\"plotly-graph-div\" style=\"height:525px; width:100%;\"></div>            <script type=\"text/javascript\">                                    window.PLOTLYENV=window.PLOTLYENV || {};                                    if (document.getElementById(\"bcb4e3ce-ed7c-4541-bcda-8c5de993a62a\")) {                    Plotly.newPlot(                        \"bcb4e3ce-ed7c-4541-bcda-8c5de993a62a\",                        [{\"alignmentgroup\":\"True\",\"bingroup\":\"x\",\"hovertemplate\":\"variable=valor\\u003cbr\\u003evalue=%{x}\\u003cbr\\u003ecount=%{y}\\u003cextra\\u003e\\u003c\\u002fextra\\u003e\",\"legendgroup\":\"valor\",\"marker\":{\"color\":\"#636efa\",\"pattern\":{\"shape\":\"\"}},\"name\":\"valor\",\"offsetgroup\":\"valor\",\"orientation\":\"v\",\"showlegend\":true,\"x\":[38.7,38.7,38.7,28.9,38.7,33.8,38.7,33.8,38.7,33.8,33.8,28.9,33.8,33.8,28.9,33.8,28.9,38.7,28.9,28.9,38.7,38.7,28.9,33.8,33.8,38.7,38.7,38.7,33.8,24.0,38.7,38.7,38.7,38.7,38.7,38.7,38.7,28.9,38.7,28.9,28.9,38.7,38.7,38.7,38.7,28.9,33.8,28.9,38.7,28.9,28.9,28.9,33.8,38.7,38.7,24.0,28.9,38.7,28.9,28.9,38.7,33.8,28.9,38.7,33.8,38.7,38.7,38.7,24.0,38.7,28.9,38.7,28.9,38.7,28.9,28.9,28.9,38.7,33.8,28.9,28.9,38.7,28.9,28.9,28.9,33.8,24.0,24.0,24.0,38.7,38.7,28.9,28.9,33.8,24.0,38.7,33.8,24.0,38.7,28.9,38.7,28.9,33.8,28.9,28.9,28.9,28.9,33.8,28.9,28.9,28.9,28.9,28.9,38.7,38.7,38.7,33.8,28.9,28.9,38.7,38.7,38.7,28.9,38.7,28.9,38.7,33.8,33.8,28.9,24.0,28.9,38.7,33.8,38.7,38.7,33.8,38.7,33.8,28.9,38.7,38.7,38.7,38.7,33.8,38.7,38.7,38.7,38.7,28.9,28.9,28.9,28.9,28.9,38.7,38.7,38.7,28.9,33.8,33.8,38.7,38.7,28.9,28.9,28.9,28.9,28.9,38.7,38.7,38.7,38.7,38.7,38.7,38.7,33.8,38.7,28.9,33.8,33.8,33.8,33.8,38.7,38.7,28.9,28.9,28.9,28.9,38.7,38.7,38.7,38.7,28.9,28.9,28.9,28.9,33.8,38.7,28.9,24.0,33.8,38.7,28.9,38.7,38.7,38.7,38.7,28.9,24.0,38.7,33.8,33.8,38.7,28.9,38.7,38.7,28.9,33.8,38.7,38.7,38.7,38.7,24.0,38.7,38.7,28.9,28.9,38.7,38.7,33.8,38.7,28.9,38.7,28.9,38.7,38.7,38.7,38.7,38.7,28.9,28.9,28.9,28.9,38.7,28.9,38.7,38.7,28.9,28.9,33.8,33.8,33.8,38.7,28.9,28.9,33.8,38.7,38.7,28.9,24.0,38.7,38.7,28.9,28.9,28.9,33.8,28.9,38.7,38.7,38.7,38.7,38.7,38.7,38.7,33.8,38.7,38.7,38.7,38.7,33.8,33.8,33.8,28.9,33.8,38.7,38.7,33.8,32.82,32.82,37.72,37.72,37.72,37.72,27.92,27.92,32.82,37.72,37.72,32.82,37.72,32.82,32.82,37.72,32.82,32.82,32.82,32.82,32.82,32.82,37.72,27.92,37.72,27.92,27.92,37.72,37.72,37.72,27.92,27.92,27.92,27.92,37.72,37.72,37.72,37.72,37.72,27.92,27.92,37.72,27.92,27.92,27.92,27.92,32.82,37.72,37.72,37.72,37.72,32.82,32.82,27.92,32.82,37.72,32.82,37.72,27.92,32.82,37.72,32.82,37.72,37.72,37.72,37.72,27.92,37.72,32.82,27.92,27.92,27.92,27.92,37.72,37.72,37.72,27.92,27.92,37.72,27.92,37.72,37.72,37.72,37.72,37.72,37.72,27.92,37.72,37.72,37.72,27.92,27.92,27.92,32.82,37.72,37.72,37.72,32.82,37.72,37.72,32.82,37.72,37.72,37.72,37.72,27.92,37.72,32.82,32.82,32.82,32.82,32.82,27.92,27.92,27.92,37.72,37.72,37.72,37.72,32.82,27.92,32.82,37.72,37.72,37.72,23.02,27.92,27.92,27.92,27.92,32.82,27.92,27.92,23.02,37.72,32.82,32.82,32.82,37.72,37.72,37.72,37.72,27.92,32.82,32.82,37.72,37.72,27.92,37.72,37.72,37.72,37.72,32.82,32.82,32.82,32.82,37.72,27.92,27.92,37.72,32.82,27.92,32.82,32.82,23.02,37.72,37.72,37.72,37.72,32.82,37.72,37.72,27.92,27.92,27.92,27.92,32.82,37.72,37.72,37.72,32.82,37.72,27.92,32.82,32.82,37.72,37.72,23.02,37.72,37.72,37.72,32.82,27.92,32.82,27.92,27.92,32.82,37.72,37.72,37.72,37.72,37.72,23.02,37.72,37.72,37.72,37.72,37.72,37.72,27.92,37.72,37.72,37.72,37.72,37.72,32.82,27.92,27.92,27.92,37.72,27.92,27.92,32.82,37.72,32.82,32.82,32.82,32.82,27.92,37.72,32.82,27.92,32.82,37.72,37.72,37.72,27.92,37.72,37.72,37.72,27.92,37.72,37.72,37.72,27.92,32.82,37.72,27.92,27.92,37.72,27.92,37.72,37.72,32.82,37.72,32.82,32.82,37.72,37.72,37.72,27.92,27.92,37.72,32.82,27.92,37.72,37.72,27.92,37.72,37.72,37.72,27.92,37.72,37.72,37.72,37.72,37.72,32.82,37.72,32.82,23.02,23.02,37.72,37.72,37.72,32.82,32.82,37.72,37.72,37.72,32.82,37.72,37.72,37.72,32.82,37.72,37.72,32.82,27.92,27.92,37.72,37.72,32.82,32.82,32.82,37.72,37.72,37.72,32.82,37.72,32.82,37.72,32.82,37.72,37.72,37.72,37.72,32.82,37.72,27.92,32.82,37.72,37.72,37.72,27.92,37.72,37.72,37.72,27.92,32.82,32.82,32.82,32.82,37.72,37.72,27.92,37.72,32.82,32.82,37.72,37.72,27.92,32.82,32.82,37.72,27.92,32.82,37.72,37.72,37.72,37.72,32.82,37.72,37.72,23.02,32.82,27.92,27.92,27.92,32.82,37.72,37.72,37.72,37.72,37.72,27.92,23.02,37.72,32.82,37.72,37.72,27.92,37.72,32.82,27.92,37.72,37.72,37.72,37.72,37.72,37.72,32.82,37.72,37.72,37.72,32.82,32.82,37.72,37.72,37.72,37.72,37.72,32.82,27.92,37.72,32.82,27.92,32.82,37.72,37.72,32.82,23.02,23.02,32.82,32.82,27.92,27.92,37.72,32.82,37.72,37.72,32.82,23.02,37.72,32.82,32.82,27.92,32.82,37.72,37.72,37.72,32.82,23.02,32.82,32.82,37.72,37.72,32.82,32.82,27.92,27.92,27.92,37.72,37.72,37.72,37.72,27.92,27.92,32.82,27.92,37.72,37.72,37.72,27.92,32.82,32.82,37.72,27.92,27.92,37.72,37.72,32.82,37.72,37.72,32.82,37.72,32.82,37.72,37.72,37.72,37.72,37.72,32.82,37.72,27.92,32.82,32.82,23.02,37.72,37.72,37.72,37.72,37.72,27.92,32.82,27.92,32.82,32.82,37.72,37.72,32.82,32.82,37.72,37.72,37.72,32.82,37.72,37.72,37.72,37.72,37.72,37.72,32.82,32.82,37.72,37.72,23.02,27.92,37.72,37.72,32.82,32.82,27.92,32.82,37.72,27.92,23.02,32.82,37.72,37.72,32.82,32.82,32.82,37.72,37.72,37.72,37.72,37.72,37.72,23.02,37.72,32.82,23.02,37.72,37.72,32.82,27.92,37.72,27.92,32.82,32.82,32.82,37.72,37.72,32.82,32.82,37.72,23.02,37.72,37.72,32.82,27.92,37.72,32.82,32.82,23.02,27.92,23.02,27.92,27.92,37.72,32.82,37.72,32.82,32.82,32.82,27.92,32.82,27.92,27.92,32.82,32.82,32.82,32.82,32.82,32.82,32.82,27.92,32.82,23.02,23.02,27.92,32.82,27.92,27.92,27.92,32.82,27.92,23.02,27.92,32.82,32.82,27.92,32.82,23.02,23.02,32.82,32.82,32.82,32.82,32.82,32.82,23.02,27.92,32.82,32.82,23.02,32.82,32.82,27.92,32.82,27.92,27.92,18.12,23.02,23.02,23.02,32.82,32.82,32.82,32.82,32.82,32.82,23.02,27.92,32.82,27.92,32.82,32.82,32.82,32.82,23.02,32.82,23.02,32.82,32.82,23.02,32.82,32.82,32.82,23.02,32.82,23.02,23.02,27.92,32.82,32.82,23.02,27.92,32.82,32.82,23.02,27.92,27.92,32.82,32.82,23.02,23.02,27.92,27.92,18.12,32.82,32.82,18.12,32.82,32.82,32.82,27.92,23.02,23.02,23.02,32.82,27.92,23.02,32.82,32.82,23.02,18.12,23.02,32.82,32.82,27.92,18.12,23.02,23.02,32.82,32.82,27.92,27.92,32.82,32.82,32.82,23.02,32.82,32.82,27.92,32.82,27.92,27.92,18.12,27.92,18.12,32.82,32.82,32.82,27.92,27.92,32.82,32.82,18.12,27.92,32.82,32.82,23.02,27.92,23.02,27.92,32.82,32.82,32.82,32.82,23.02,32.82,27.92,23.02,32.82,27.92,23.02,27.92,32.82,23.02,18.12,27.92,27.92,27.92,27.92,32.82,27.92,23.02,27.92,18.12,27.92,27.92,27.92,32.82,23.02,32.82,27.92,27.92,27.92,23.02,23.02,27.92,32.82,32.82,27.92,23.02,32.82,23.02,32.82,32.82,23.02,32.82,32.82,23.02,27.92,32.82,32.82,32.82,27.92,27.92,27.92,27.92,23.02,32.82,32.82,27.92,27.92,23.02,23.02,32.82,27.92,27.92,23.02,27.92,32.82,27.92,27.92,27.92,27.92,23.02,23.02,18.12,27.92,27.92,27.92,32.82,32.82,32.82,32.82,27.92,32.82,27.92,32.82,32.82,23.02,27.92,23.02,32.82,32.82,32.82,32.82,27.92,32.82,32.82,32.82,32.82,27.92,23.02,32.82,32.82,32.82,32.82,32.82,27.92,32.82,27.92,23.02,23.02,18.12,23.02,32.82,32.82,32.82,32.82,32.82,18.12,23.02,27.92,23.02,23.02,32.82,32.82,27.92,32.82,23.02,23.02,27.92,32.82,23.02,23.02,32.82,32.82,27.92,23.02,23.02,23.02,32.82,27.92,32.82,32.82,32.82,32.82,32.82,32.82,27.92,32.82,27.92,23.02,32.82,27.92,32.82,32.82,18.12,23.02,32.82,32.82,32.82,32.82,27.92,23.02,32.82,32.82,18.12,27.92,27.92,27.92,27.92,32.82,32.82,32.82,27.92,27.92,27.92,23.02,32.82,27.92,32.82,32.82,27.92,32.82,32.82,32.82,23.02,32.82,32.82,23.02,18.12,23.02,23.02,32.82,23.02,23.02,27.92,32.82,23.02,32.82,23.02,32.82,32.82,32.82,32.82,32.82,23.02,18.12,27.92,32.82,27.92,27.92,23.02,32.82,18.12,27.92,32.82,23.02,27.92,18.12,18.12,27.92,32.82,27.92,23.02,23.02,27.92,23.02,32.82,32.82,27.92,32.82,32.82,32.82,23.02,27.92,32.82,27.92,27.92,27.92,23.02,23.02,27.92,27.92,32.82,32.82,23.02,32.82,18.12,23.02,27.92,23.02,23.02,23.02,32.82,32.82,32.82,32.82,32.82,27.92,23.02,23.02,27.92,23.02,32.82,32.82,23.02,27.92,27.92,32.82,32.82,32.82,23.02,32.82,23.02,32.82,23.02,23.02,27.92,32.82,23.02,23.02,32.82,23.02,23.02,32.82,23.02,23.02,23.02,18.12,18.12,23.02,23.02,23.02,23.02,32.82,32.82,32.82,23.02,23.02,23.02,27.92,32.82,32.82,23.02,23.02,27.92,32.82,27.92,32.82,27.92,32.82,23.02,27.92,23.02,32.82,27.92,27.92,23.02,27.92,18.12,27.92,23.02,23.02,23.02,32.82,27.92,23.02,27.92,32.82,27.92,32.82,32.82,32.82,32.82,27.92,32.82,27.92,32.82,32.82,23.02,23.02,32.82,32.82,32.82,27.92,32.82,32.82,32.82,27.92,27.92,32.82,32.82,23.02,27.92,27.92,27.92,32.82,27.92,27.92,32.82,23.02,27.92,32.82,32.82,27.92,32.82,27.92,32.82,27.92,27.92,23.02,32.82,32.82,23.02,27.92,32.82,32.82,32.82,23.02,32.82,27.92,27.92,32.82,32.82,23.02,18.12,32.82,32.82,18.12,18.12,32.82,32.82,32.82,23.02,23.02,23.02,27.92,27.92,23.02,23.02,18.12,18.12,32.82,27.92,23.02,18.12,32.82,23.02,18.12,32.82,32.82,32.82,32.82,32.82,23.02,23.02,23.02,23.02,23.02,23.02,32.82,32.82,27.92,32.82,32.82,32.82,32.82,27.92,27.92,32.82,18.12,32.82,23.02,32.82,32.82,32.82,32.82,32.82,32.82,23.02,23.02,32.82,27.92,32.82,32.82,27.92,23.02,32.82,27.92,32.82,32.82,27.92,32.82,32.82,23.02,18.12,27.92,27.92,32.82,23.02,23.02,23.02,23.02,32.82,23.02,32.82,23.02,32.82,32.82,32.82,32.82,27.92,27.92,32.82,32.82,18.12,27.92,23.02,23.02,23.02,32.82,32.82,27.92,32.82,27.92,32.82,32.82,32.82,27.92,32.82,27.92,27.92,23.02,32.82,27.92,23.02,32.82,27.92,27.92,18.12,27.92,32.82,27.92,23.02,32.82,32.82,32.82,27.92,27.92,32.82,27.92,27.92,27.92,32.82,32.82,32.82,32.82,27.92,27.92,27.92,23.02,32.82,23.02,27.92,23.02,27.92,27.92,27.92,32.82,23.02,27.92,27.92,32.82,32.82,23.02,23.02,32.82,32.82,32.82,32.82,23.02,23.02,32.82,32.82,27.92,23.02,23.02,23.02,27.92,32.82,23.02,23.02,27.92,23.02,27.92,27.92,27.92,27.92,32.82,27.92,32.82,32.82,32.82,27.92,27.92,27.92,27.92,32.82,32.82,23.02,27.92,27.92,23.02,23.02,27.92,32.82,23.02,32.82,32.82,27.92,27.92,27.92,32.82,32.82,32.82,32.82,32.82,23.02,32.82,32.82,23.02,23.02,32.82,32.82,27.92,27.92,32.82,23.02,27.92,32.82,27.92,27.92,27.92,27.92,23.02,27.92,32.82,27.92,18.12,32.82,32.82,32.82,32.82,23.02,27.92,27.92,23.02,32.82,27.92,27.92,32.82,32.82,23.02,27.92,32.82,32.82,32.82,32.82,32.82,32.82,27.92,27.92,27.92,35.76,35.76,30.86,35.76,35.76,35.76,35.76,25.96,35.76,25.96,35.76,35.76,35.76,30.86,35.76,25.96,35.76,35.76,35.76,35.76,25.96,25.96,35.76,30.86,25.96,30.86,30.86,35.76,30.86,25.96,35.76,30.86,30.86,30.86,35.76,30.86,30.86,30.86,30.86,30.86,30.86,25.96,30.86,35.76,25.96,35.76,35.76,35.76,35.76,35.76,25.96,30.86,35.76,30.86,35.76,35.76,35.76,35.76,35.76,35.76,35.76,30.86,25.96,35.76,35.76,35.76,35.76,35.76,25.96,25.96,30.86,25.96,25.96,25.96,35.76,35.76,35.76,25.96,25.96,35.76,35.76,25.96,25.96,25.96,35.76,25.96,35.76,35.76,35.76,30.86,25.96,35.76,30.86,35.76,35.76,35.76,21.06,30.86,35.76,35.76,35.76,35.76,35.76,35.76,35.76,30.86,35.76,35.76,30.86,25.96,25.96,35.76,35.76,35.76,35.76,35.76,30.86,25.96,35.76,35.76,25.96,25.96,35.76,35.76,35.76,35.76,25.96,30.86,35.76,35.76,35.76,30.86,30.86,35.76,30.86,30.86,35.76,21.06,25.96,35.76,30.86,35.76,25.96,21.06,35.76,25.96,30.86,35.76,35.76,25.96,25.96,35.76,35.76,35.76,35.76,25.96,30.86,35.76,35.76,35.76,30.86,35.76,25.96,35.76,35.76,35.76,30.86,35.76,30.86,25.96,25.96,25.96,30.86,35.76,25.96,25.96,35.76,25.96,35.76,35.76,35.76,35.76,35.76,30.86,35.76,35.76,25.96,25.96,25.96,35.76,30.86,35.76,35.76,25.96,30.86,25.96,21.06,25.96,35.76,35.76,35.76,35.76,30.86,35.76,25.96,35.76,35.76,35.76,25.96,25.96,35.76,35.76,25.96,35.76,35.76,35.76,35.76,35.76,25.96,21.06,35.76,35.76,35.76,35.76,30.86,35.76,25.96,21.06,35.76,25.96,35.76,35.76,35.76,35.76,35.76,35.76,30.86,35.76,35.76,30.86,30.86,30.86,25.96,30.86,25.96,35.76,30.86,30.86,30.86,35.76,35.76,35.76,30.86,35.76,35.76,30.86,35.76,25.96,35.76,35.76,35.76,35.76,35.76,35.76,35.76,35.76,30.86,35.76,35.76,35.76,35.76,35.76,35.76,35.76,35.76,35.76,35.76,35.76,35.76,25.96,35.76,35.76,35.76,35.76,30.86,35.76,30.86,35.76,35.76,35.76,35.76,35.76,35.76,35.76,35.76,35.76,35.76,35.76,35.76,25.96,30.86,35.76,35.76,35.76,35.76,35.76,35.76,25.96,35.76,35.76,35.76,35.76,35.76,30.86,35.76,25.96,25.96,25.96,21.06,35.76,35.76,35.76,30.86,25.96,35.76,35.76,35.76,35.76,35.76,35.76,35.76,35.76,30.86,25.96,21.06,25.96,25.96,35.76,35.76,35.76,30.86,25.96,30.86,30.86,30.86,35.76,21.06,35.76,35.76,30.86,35.76,35.76,25.96,35.76,35.76,35.76,35.76,35.76,35.76,25.96,25.96,35.76,25.96,35.76,35.76,35.76,35.76,35.76,21.06,35.76,35.76,35.76,25.96,25.96,30.86,35.76,35.76,25.96,35.76,35.76,35.76,21.06,35.76,25.96,35.76,25.96,35.76,35.76,35.76,30.86,25.96,25.96,35.76,35.76,30.86,30.86,35.76,30.86,30.86,35.76,30.86,35.76,35.76,35.76,25.96,35.76,30.86,35.76,35.76,35.76,30.86,35.76,30.86,30.86,30.86,35.76,35.76,35.76,35.76,30.86,30.86,35.76,35.76,35.76,30.86,21.06,25.96,25.96,35.76,35.76,35.76,35.76,30.86,30.86,30.86,35.76,35.76,35.76,35.76,35.76,30.86,30.86,35.76,35.76,35.76,35.76,25.96,30.86,25.96,35.76,35.76,30.86,35.76,30.86,30.86,35.76,35.76,30.86,35.76,30.86,35.76,25.96,35.76,35.76,35.76,25.96,30.86,25.96,35.76,30.86,30.86,35.76,35.76,35.76,30.86,25.96,25.96,30.86,30.86,35.76,30.86,35.76,25.96,30.86,35.76,35.76,25.96,25.96,35.76,35.76,35.76,30.86,25.96,30.86,35.76,35.76,35.76,30.86,35.76,30.86,30.86,35.76,35.76,35.76,35.76,35.76,35.76,35.76,35.76,35.76,35.76,35.76,30.86,35.76,21.06,25.96,35.76,35.76,35.76,35.76,35.76,35.76,25.96,25.96,35.76,35.76,35.76,35.76,30.86,25.96,25.96,35.76,35.76,35.76,30.86,30.86,35.76,35.76,35.76,35.76,30.86,25.96,25.96,35.76,35.76,35.76,35.76,35.76,25.96,30.86,35.76,35.76,25.96,35.76,35.76,25.96,25.96,25.96,35.76,35.76,35.76,35.76,35.76,35.76,30.86,25.96,35.76,35.76,35.76,35.76,35.76,35.76,35.76,35.76,35.76,35.76,35.76,35.76,35.76,35.76,35.76,35.76,30.86,35.76,30.86,30.86,30.86,35.76,35.76,25.96,21.06,35.76,35.76,35.76,30.86,35.76,35.76,35.76,35.76,35.76,35.76,35.76,30.86,30.86,35.76,35.76,35.76,25.96,30.86,35.76,35.76,30.86,30.86,25.96,25.96,35.76,35.76,25.96,35.76,30.86,35.76,35.76,30.86,35.76,35.76,30.86,30.86,30.86,25.96,30.86,35.76,35.76,35.76,35.76,35.76,30.86,30.86,35.76,35.76,35.76,35.76,35.76,30.86,35.76,21.06,35.76,30.86,35.76,35.76,35.76,35.76,35.76,30.86,35.76,35.76,35.76,25.96,35.76,35.76,35.76,35.76,30.86,25.96,35.76,35.76,35.76,35.76,35.76,35.76,35.76,25.96,25.96,35.76,35.76,25.96,25.96,35.76,35.76,35.76,35.76,35.76,30.86,25.96,35.76,35.76,35.76,30.86,35.76,35.76,35.76,35.76,35.76,25.96,35.76,35.76,35.76,35.76,25.96,30.86,35.76,35.76,30.86,30.86,35.76,35.76,35.76,35.76,35.76,30.86,30.86,30.86,35.76,35.76,35.76,25.96,35.76,35.76,30.86,30.86,30.86,30.86,30.86,30.86,35.76,35.76,35.76,35.76,35.76,35.76,35.76,30.86,30.86,30.86,35.76,25.96,30.86,35.76,25.96,21.06,35.76,25.96,35.76,35.76,30.86,30.86,25.96,30.86,30.86,30.86,35.76,35.76,35.76,35.76,30.86,35.76,25.96,35.76,35.76,25.96,30.86,30.86,30.86,35.76,30.86,35.76,25.96,25.96,30.86,30.86,35.76,25.96,35.76,35.76,35.76,35.76,35.76,35.76,35.76,30.86,25.96,35.76,35.76,30.86,25.96,25.96,35.76,35.76,25.96,30.86,30.86,35.76,21.06,35.76,30.86,30.86,35.76,25.96,30.86,25.96,35.76,25.96,35.76,35.76,25.96,35.76,21.06,35.76,35.76,35.76,30.86,25.96,21.06,21.06,25.96,35.76,35.76,25.96,25.96,35.76,35.76,35.76,35.76,35.76,35.76,30.86,35.76,35.76,25.96,35.76,35.76,25.96,25.96,25.96,25.96,30.86,35.76,35.76,35.76,35.76,35.76,35.76,30.86,35.76,35.76,35.76,30.86,25.96,35.76,30.86,25.96,35.76,35.76,35.76,35.76,30.86,35.76,35.76,35.76,30.86,21.06,35.76,35.76,35.76,30.86,35.76,35.76,35.76,25.96,30.86,35.76,25.96,21.06,30.86,25.96,35.76,35.76,35.76,35.76,25.96,35.76,35.76,30.86,35.76,35.76,35.76,25.96,30.86,25.96,25.96,35.76,25.96,35.76,35.76,35.76,35.76,35.76,35.76,25.96,25.96,30.86,30.86,35.76,35.76,30.86,35.76,25.96,35.76,25.96,30.86,35.76,25.96,35.76,35.76,21.06,35.76,35.76,35.76,30.86,25.96,30.86,25.96,35.76,35.76,35.76,35.76,35.76,30.86,35.76,21.06,25.96,25.96,25.96,30.86,35.76,25.96,30.86,35.76,25.96,25.96,30.86,35.76,35.76,35.76,35.76,35.76,25.96,21.06,25.96,25.96,21.06,25.96,35.76,35.76,25.96,30.86,35.76,35.76,35.76,30.86,30.86,25.96,35.76,25.96,35.76,25.96,35.76,30.86,30.86,35.76,30.86,21.06,25.96,35.76,35.76,30.86,35.76,35.76,35.76,30.86,35.76,35.76,25.96,25.96,25.96,35.76,30.86,35.76,25.96,30.86,30.86,35.76,25.96,25.96,35.76,25.96,25.96,35.76,35.76,30.86,35.76,35.76,25.96,25.96,35.76,30.86,35.76,30.86,25.96,35.76,35.76,35.76,30.86,35.76,25.96,35.76,25.96,35.76,30.86,21.06,35.76,30.86,25.96,30.86,35.76,30.86,30.86,35.76,35.76,30.86,30.86,35.76,25.96,35.76,35.76,35.76,35.76,30.86,30.86,35.76,35.76,25.96,35.76,25.96,30.86,30.86,25.96,30.86,35.76,30.86,30.86,30.86,25.96,35.76,35.76,35.76,35.76,21.06,35.76,25.96,30.86,35.76,30.86,30.86,35.76,35.76,30.86,25.96,35.76,35.76,35.76,35.76,35.76,35.76,35.76,35.76,35.76,30.86,30.86,25.96,35.76,35.76,35.76,35.76,35.76,25.96,35.76,35.76,35.76,30.86,30.86,35.76,35.76,35.76,35.76,30.86,35.76,35.76,35.76,30.86,30.86,25.96,25.96,25.96,30.86,35.76,35.76,35.76,35.76,35.76,25.96,30.86,25.96,35.76,35.76,35.76,25.96,21.06,30.86,35.76,30.86,35.76,35.76,30.86,35.76,25.96,35.76,25.96,35.76,35.76,35.76,35.76,35.76,25.96,25.96,21.06,25.96,25.96,35.76,30.86,30.86,25.96,30.86,35.76,35.76,35.76,35.76,25.96,30.86,25.96,35.76,25.96,25.96,35.76,35.76,25.96,25.96,30.86,21.06,30.86,30.86,25.96,35.76,25.96,30.86,35.76,30.86,25.96,25.96,30.86,30.86,35.76,35.76,35.76,35.76,35.76,35.76,30.86,30.86,25.96,30.86,30.86,25.96,25.96,35.76,35.76,35.76,35.76,30.86,30.86,30.86,35.76,35.76,35.76,35.76,30.86,35.76,35.76,35.76,30.86,21.06,30.86,25.96,35.76,30.86,35.76,35.76,25.96,25.96,35.76,35.76,35.76,25.96,35.76,30.86,30.86,30.86,35.76,35.76,35.76,30.86,25.96,35.76,30.86,25.96,30.86,25.96,25.96,30.86,25.96,30.86,35.76,35.76,35.76,25.96,30.86,30.86,25.96,25.96,25.96,30.86,25.96,25.96,21.06,21.06,35.76,35.76,35.76,35.76,35.76,35.76,35.76,35.76,35.76,35.76,30.86,35.76,35.76,35.76,30.86,25.96,30.86,35.76,35.76,35.76,35.76,35.76,21.06,35.76,35.76,35.76,30.86,30.86,25.96,35.76,30.86,25.96,25.96,35.76,35.76,35.76,35.76,35.76,25.96,35.76,35.76,25.96,25.96,30.86,25.96,25.96,25.96,25.96,25.96,25.96,35.76,30.86,25.96,35.76,35.76,35.76,35.76,35.76,25.96,25.96,25.96,25.96,30.86,25.96,35.76,30.86,25.96,35.76,25.96,35.76,35.76,35.76,30.86,35.76,35.76,35.76,25.96,30.86,35.76,35.76,25.96,25.96,30.86,35.76,35.76,30.86,21.06,35.76,30.86,30.86,25.96,30.86,35.76,35.76,35.76,25.96,35.76,30.86,25.96,25.96,25.96,35.76,35.76,35.76,35.76,25.96,25.96,35.76,25.96,35.76,35.76,35.76,30.86,25.96,21.06,35.76,30.86,30.86,25.96,25.96,30.86,30.86,35.76,35.76,35.76,25.96,35.76,25.96,21.06,30.86,35.76,35.76,35.76,35.76,35.76,25.96,35.76,21.06,30.86,25.96,35.76,35.76,25.96,30.86,30.86,35.76,25.96,35.76,35.76,25.96,25.96,30.86,35.76,25.96,35.76,35.76,35.76,30.86,30.86,35.76,25.96,25.96,30.86,35.76,30.86,25.96,30.86,21.06,35.76,35.76,30.86,35.76,21.06,25.96,30.86,25.96,25.96,25.96,35.76,25.96,25.96,25.96,25.96,30.86,30.86,35.76,25.96,30.86,35.76,30.86,21.06,35.76,35.76,35.76,35.76,35.76,30.86,35.76,25.96,25.96,35.76,25.96,35.76,30.86,25.96,35.76,25.96,35.76,25.96,35.76,30.86,35.76,35.76,35.76,35.76,35.76,35.76,35.76,25.96,35.76,25.96,25.96,25.96,30.86,35.76,25.96,25.96,21.06,35.76,35.76,35.76,25.96,25.96,35.76,35.76,35.76,25.96,35.76,35.76,21.06,25.96,30.86,25.96,25.96,25.96,25.96,25.96,25.96,35.76,25.96,25.96,25.96,35.76,35.76,35.76,35.76,35.76,35.76,35.76,35.76,25.96,25.96,21.06,30.86,30.86,30.86,30.86,35.76,35.76,25.96,30.86,35.76,25.96,30.86,30.86,35.76,35.76,35.76,30.86,35.76,35.76,35.76,25.96,25.96,30.86,30.86,35.76,30.86,35.76,35.76,35.76,35.76,30.86,25.96,30.86,21.06,25.96,25.96,35.76,35.76,25.96,25.96,35.76,35.76,25.96,30.86,30.86,35.76,35.76,35.76,25.96,25.96,25.96,35.76,25.96,25.96,35.76,35.76,35.76,30.86,35.76,35.76,35.76,35.76,21.06,35.76,35.76,30.86,25.96,35.76,25.96,25.96,25.96,25.96,35.76,35.76,35.76,35.76,35.76,35.76,35.76,30.86,30.86,35.76,21.06,30.86,25.96,25.96,25.96,35.76,25.96,35.76,25.96,35.76,30.86,25.96,25.96,35.76,35.76,25.96,25.96,35.76,25.96,30.86,35.76,25.96,35.76,35.76,30.86,30.86,25.96,25.96,35.76,35.76,35.76,35.76,35.76,35.76,35.76,25.96,35.76,35.76,35.76,35.76,35.76,25.96,30.86,25.96,35.76,25.96,35.76,35.76,30.86,35.76,35.76,25.96,30.86,25.96,25.96,25.96,30.86,25.96,25.96,25.96,25.96,35.76,25.96,35.76,35.76,35.76,30.86,25.96,25.96,25.96,35.76,30.86,35.76,35.76,25.96,25.96,25.96,35.76,35.76,35.76,30.86,21.06,35.76,35.76,35.76,35.76,21.06,30.86,25.96,25.96,25.96,35.76,35.76,30.86,35.76,35.76,30.86,35.76,25.96,25.96,25.96,35.76,30.86,30.86,35.76,35.76,30.86,35.76,25.96,35.76,35.76,35.76,35.76,35.76,30.86,30.86,25.96,25.96,25.96,30.86,25.96,35.76,21.06,30.86,35.76,25.96,35.76,25.96,30.86,35.76,25.96,35.76,30.86,35.76,35.76,35.76,25.96,25.96,35.76,35.76,35.76,35.76,30.86,25.96,35.76,35.76,30.86,25.96,35.76,35.76,25.96,25.96,25.96,35.76,35.76,35.76,35.76,30.86,35.76,35.76,35.76,30.86,35.76,25.96,25.96,25.96,35.76,35.76,35.76,35.76,35.76,35.76,25.96,35.76,25.96,35.76,25.96,35.76,30.86,30.86,35.76,21.06,25.96,30.86,25.96,35.76,30.86,25.96,35.76,25.96,30.86,25.96,35.76,21.06,25.96,25.96,35.76,35.76,25.96,35.76,35.76,35.76,25.96,35.76,35.76,35.76,25.96,25.96,35.76,35.76,25.96,25.96,30.86,35.76,25.96,35.76,30.86,30.86,35.76,35.76,30.86,35.76,35.76,25.96,25.96,25.96,25.96,30.86,25.96,25.96,35.76,35.76,35.76,35.76,35.76,35.76,25.96,30.86,35.76,35.76,25.96,35.76,35.76,30.86,25.96,30.86,25.96,35.76,21.06,35.76,35.76,35.76,35.76,35.76,25.96,25.96,35.76,25.96,35.76,25.96,25.96,35.76,35.76,35.76,25.96,35.76,35.76,25.96,25.96,35.76,30.86,30.86,25.96,21.06,21.06,30.86,30.86,30.86,25.96,25.96,25.96,25.96,25.96,21.06,25.96,35.76,35.76,25.96,25.96,35.76,25.96,35.76,35.76,35.76,35.76,30.86,30.86,25.96,25.96,25.96,35.76,25.96,35.76,25.96,35.76,35.76,35.76,25.96,35.76,35.76,35.76,35.76,35.76,35.76,25.96,30.86,30.86,35.76,35.76,30.86,25.96,25.96,30.86,21.06,35.76,30.86,30.86,35.76,35.76,35.76,35.76,25.96,35.76],\"xaxis\":\"x\",\"yaxis\":\"y\",\"type\":\"histogram\"}],                        {\"template\":{\"data\":{\"histogram2dcontour\":[{\"type\":\"histogram2dcontour\",\"colorbar\":{\"outlinewidth\":0,\"ticks\":\"\"},\"colorscale\":[[0.0,\"#0d0887\"],[0.1111111111111111,\"#46039f\"],[0.2222222222222222,\"#7201a8\"],[0.3333333333333333,\"#9c179e\"],[0.4444444444444444,\"#bd3786\"],[0.5555555555555556,\"#d8576b\"],[0.6666666666666666,\"#ed7953\"],[0.7777777777777778,\"#fb9f3a\"],[0.8888888888888888,\"#fdca26\"],[1.0,\"#f0f921\"]]}],\"choropleth\":[{\"type\":\"choropleth\",\"colorbar\":{\"outlinewidth\":0,\"ticks\":\"\"}}],\"histogram2d\":[{\"type\":\"histogram2d\",\"colorbar\":{\"outlinewidth\":0,\"ticks\":\"\"},\"colorscale\":[[0.0,\"#0d0887\"],[0.1111111111111111,\"#46039f\"],[0.2222222222222222,\"#7201a8\"],[0.3333333333333333,\"#9c179e\"],[0.4444444444444444,\"#bd3786\"],[0.5555555555555556,\"#d8576b\"],[0.6666666666666666,\"#ed7953\"],[0.7777777777777778,\"#fb9f3a\"],[0.8888888888888888,\"#fdca26\"],[1.0,\"#f0f921\"]]}],\"heatmap\":[{\"type\":\"heatmap\",\"colorbar\":{\"outlinewidth\":0,\"ticks\":\"\"},\"colorscale\":[[0.0,\"#0d0887\"],[0.1111111111111111,\"#46039f\"],[0.2222222222222222,\"#7201a8\"],[0.3333333333333333,\"#9c179e\"],[0.4444444444444444,\"#bd3786\"],[0.5555555555555556,\"#d8576b\"],[0.6666666666666666,\"#ed7953\"],[0.7777777777777778,\"#fb9f3a\"],[0.8888888888888888,\"#fdca26\"],[1.0,\"#f0f921\"]]}],\"heatmapgl\":[{\"type\":\"heatmapgl\",\"colorbar\":{\"outlinewidth\":0,\"ticks\":\"\"},\"colorscale\":[[0.0,\"#0d0887\"],[0.1111111111111111,\"#46039f\"],[0.2222222222222222,\"#7201a8\"],[0.3333333333333333,\"#9c179e\"],[0.4444444444444444,\"#bd3786\"],[0.5555555555555556,\"#d8576b\"],[0.6666666666666666,\"#ed7953\"],[0.7777777777777778,\"#fb9f3a\"],[0.8888888888888888,\"#fdca26\"],[1.0,\"#f0f921\"]]}],\"contourcarpet\":[{\"type\":\"contourcarpet\",\"colorbar\":{\"outlinewidth\":0,\"ticks\":\"\"}}],\"contour\":[{\"type\":\"contour\",\"colorbar\":{\"outlinewidth\":0,\"ticks\":\"\"},\"colorscale\":[[0.0,\"#0d0887\"],[0.1111111111111111,\"#46039f\"],[0.2222222222222222,\"#7201a8\"],[0.3333333333333333,\"#9c179e\"],[0.4444444444444444,\"#bd3786\"],[0.5555555555555556,\"#d8576b\"],[0.6666666666666666,\"#ed7953\"],[0.7777777777777778,\"#fb9f3a\"],[0.8888888888888888,\"#fdca26\"],[1.0,\"#f0f921\"]]}],\"surface\":[{\"type\":\"surface\",\"colorbar\":{\"outlinewidth\":0,\"ticks\":\"\"},\"colorscale\":[[0.0,\"#0d0887\"],[0.1111111111111111,\"#46039f\"],[0.2222222222222222,\"#7201a8\"],[0.3333333333333333,\"#9c179e\"],[0.4444444444444444,\"#bd3786\"],[0.5555555555555556,\"#d8576b\"],[0.6666666666666666,\"#ed7953\"],[0.7777777777777778,\"#fb9f3a\"],[0.8888888888888888,\"#fdca26\"],[1.0,\"#f0f921\"]]}],\"mesh3d\":[{\"type\":\"mesh3d\",\"colorbar\":{\"outlinewidth\":0,\"ticks\":\"\"}}],\"scatter\":[{\"fillpattern\":{\"fillmode\":\"overlay\",\"size\":10,\"solidity\":0.2},\"type\":\"scatter\"}],\"parcoords\":[{\"type\":\"parcoords\",\"line\":{\"colorbar\":{\"outlinewidth\":0,\"ticks\":\"\"}}}],\"scatterpolargl\":[{\"type\":\"scatterpolargl\",\"marker\":{\"colorbar\":{\"outlinewidth\":0,\"ticks\":\"\"}}}],\"bar\":[{\"error_x\":{\"color\":\"#2a3f5f\"},\"error_y\":{\"color\":\"#2a3f5f\"},\"marker\":{\"line\":{\"color\":\"#E5ECF6\",\"width\":0.5},\"pattern\":{\"fillmode\":\"overlay\",\"size\":10,\"solidity\":0.2}},\"type\":\"bar\"}],\"scattergeo\":[{\"type\":\"scattergeo\",\"marker\":{\"colorbar\":{\"outlinewidth\":0,\"ticks\":\"\"}}}],\"scatterpolar\":[{\"type\":\"scatterpolar\",\"marker\":{\"colorbar\":{\"outlinewidth\":0,\"ticks\":\"\"}}}],\"histogram\":[{\"marker\":{\"pattern\":{\"fillmode\":\"overlay\",\"size\":10,\"solidity\":0.2}},\"type\":\"histogram\"}],\"scattergl\":[{\"type\":\"scattergl\",\"marker\":{\"colorbar\":{\"outlinewidth\":0,\"ticks\":\"\"}}}],\"scatter3d\":[{\"type\":\"scatter3d\",\"line\":{\"colorbar\":{\"outlinewidth\":0,\"ticks\":\"\"}},\"marker\":{\"colorbar\":{\"outlinewidth\":0,\"ticks\":\"\"}}}],\"scattermapbox\":[{\"type\":\"scattermapbox\",\"marker\":{\"colorbar\":{\"outlinewidth\":0,\"ticks\":\"\"}}}],\"scatterternary\":[{\"type\":\"scatterternary\",\"marker\":{\"colorbar\":{\"outlinewidth\":0,\"ticks\":\"\"}}}],\"scattercarpet\":[{\"type\":\"scattercarpet\",\"marker\":{\"colorbar\":{\"outlinewidth\":0,\"ticks\":\"\"}}}],\"carpet\":[{\"aaxis\":{\"endlinecolor\":\"#2a3f5f\",\"gridcolor\":\"white\",\"linecolor\":\"white\",\"minorgridcolor\":\"white\",\"startlinecolor\":\"#2a3f5f\"},\"baxis\":{\"endlinecolor\":\"#2a3f5f\",\"gridcolor\":\"white\",\"linecolor\":\"white\",\"minorgridcolor\":\"white\",\"startlinecolor\":\"#2a3f5f\"},\"type\":\"carpet\"}],\"table\":[{\"cells\":{\"fill\":{\"color\":\"#EBF0F8\"},\"line\":{\"color\":\"white\"}},\"header\":{\"fill\":{\"color\":\"#C8D4E3\"},\"line\":{\"color\":\"white\"}},\"type\":\"table\"}],\"barpolar\":[{\"marker\":{\"line\":{\"color\":\"#E5ECF6\",\"width\":0.5},\"pattern\":{\"fillmode\":\"overlay\",\"size\":10,\"solidity\":0.2}},\"type\":\"barpolar\"}],\"pie\":[{\"automargin\":true,\"type\":\"pie\"}]},\"layout\":{\"autotypenumbers\":\"strict\",\"colorway\":[\"#636efa\",\"#EF553B\",\"#00cc96\",\"#ab63fa\",\"#FFA15A\",\"#19d3f3\",\"#FF6692\",\"#B6E880\",\"#FF97FF\",\"#FECB52\"],\"font\":{\"color\":\"#2a3f5f\"},\"hovermode\":\"closest\",\"hoverlabel\":{\"align\":\"left\"},\"paper_bgcolor\":\"white\",\"plot_bgcolor\":\"#E5ECF6\",\"polar\":{\"bgcolor\":\"#E5ECF6\",\"angularaxis\":{\"gridcolor\":\"white\",\"linecolor\":\"white\",\"ticks\":\"\"},\"radialaxis\":{\"gridcolor\":\"white\",\"linecolor\":\"white\",\"ticks\":\"\"}},\"ternary\":{\"bgcolor\":\"#E5ECF6\",\"aaxis\":{\"gridcolor\":\"white\",\"linecolor\":\"white\",\"ticks\":\"\"},\"baxis\":{\"gridcolor\":\"white\",\"linecolor\":\"white\",\"ticks\":\"\"},\"caxis\":{\"gridcolor\":\"white\",\"linecolor\":\"white\",\"ticks\":\"\"}},\"coloraxis\":{\"colorbar\":{\"outlinewidth\":0,\"ticks\":\"\"}},\"colorscale\":{\"sequential\":[[0.0,\"#0d0887\"],[0.1111111111111111,\"#46039f\"],[0.2222222222222222,\"#7201a8\"],[0.3333333333333333,\"#9c179e\"],[0.4444444444444444,\"#bd3786\"],[0.5555555555555556,\"#d8576b\"],[0.6666666666666666,\"#ed7953\"],[0.7777777777777778,\"#fb9f3a\"],[0.8888888888888888,\"#fdca26\"],[1.0,\"#f0f921\"]],\"sequentialminus\":[[0.0,\"#0d0887\"],[0.1111111111111111,\"#46039f\"],[0.2222222222222222,\"#7201a8\"],[0.3333333333333333,\"#9c179e\"],[0.4444444444444444,\"#bd3786\"],[0.5555555555555556,\"#d8576b\"],[0.6666666666666666,\"#ed7953\"],[0.7777777777777778,\"#fb9f3a\"],[0.8888888888888888,\"#fdca26\"],[1.0,\"#f0f921\"]],\"diverging\":[[0,\"#8e0152\"],[0.1,\"#c51b7d\"],[0.2,\"#de77ae\"],[0.3,\"#f1b6da\"],[0.4,\"#fde0ef\"],[0.5,\"#f7f7f7\"],[0.6,\"#e6f5d0\"],[0.7,\"#b8e186\"],[0.8,\"#7fbc41\"],[0.9,\"#4d9221\"],[1,\"#276419\"]]},\"xaxis\":{\"gridcolor\":\"white\",\"linecolor\":\"white\",\"ticks\":\"\",\"title\":{\"standoff\":15},\"zerolinecolor\":\"white\",\"automargin\":true,\"zerolinewidth\":2},\"yaxis\":{\"gridcolor\":\"white\",\"linecolor\":\"white\",\"ticks\":\"\",\"title\":{\"standoff\":15},\"zerolinecolor\":\"white\",\"automargin\":true,\"zerolinewidth\":2},\"scene\":{\"xaxis\":{\"backgroundcolor\":\"#E5ECF6\",\"gridcolor\":\"white\",\"linecolor\":\"white\",\"showbackground\":true,\"ticks\":\"\",\"zerolinecolor\":\"white\",\"gridwidth\":2},\"yaxis\":{\"backgroundcolor\":\"#E5ECF6\",\"gridcolor\":\"white\",\"linecolor\":\"white\",\"showbackground\":true,\"ticks\":\"\",\"zerolinecolor\":\"white\",\"gridwidth\":2},\"zaxis\":{\"backgroundcolor\":\"#E5ECF6\",\"gridcolor\":\"white\",\"linecolor\":\"white\",\"showbackground\":true,\"ticks\":\"\",\"zerolinecolor\":\"white\",\"gridwidth\":2}},\"shapedefaults\":{\"line\":{\"color\":\"#2a3f5f\"}},\"annotationdefaults\":{\"arrowcolor\":\"#2a3f5f\",\"arrowhead\":0,\"arrowwidth\":1},\"geo\":{\"bgcolor\":\"white\",\"landcolor\":\"#E5ECF6\",\"subunitcolor\":\"white\",\"showland\":true,\"showlakes\":true,\"lakecolor\":\"white\"},\"title\":{\"x\":0.05},\"mapbox\":{\"style\":\"light\"}}},\"xaxis\":{\"anchor\":\"y\",\"domain\":[0.0,1.0],\"title\":{\"text\":\"value\"}},\"yaxis\":{\"anchor\":\"x\",\"domain\":[0.0,1.0],\"title\":{\"text\":\"count\"}},\"legend\":{\"title\":{\"text\":\"variable\"},\"tracegroupgap\":0},\"title\":{\"text\":\"Histograma Valor de Vendas\"},\"barmode\":\"relative\"},                        {\"responsive\": true}                    ).then(function(){\n",
              "                            \n",
              "var gd = document.getElementById('bcb4e3ce-ed7c-4541-bcda-8c5de993a62a');\n",
              "var x = new MutationObserver(function (mutations, observer) {{\n",
              "        var display = window.getComputedStyle(gd).display;\n",
              "        if (!display || display === 'none') {{\n",
              "            console.log([gd, 'removed!']);\n",
              "            Plotly.purge(gd);\n",
              "            observer.disconnect();\n",
              "        }}\n",
              "}});\n",
              "\n",
              "// Listen for the removal of the full notebook cells\n",
              "var notebookContainer = gd.closest('#notebook-container');\n",
              "if (notebookContainer) {{\n",
              "    x.observe(notebookContainer, {childList: true});\n",
              "}}\n",
              "\n",
              "// Listen for the clearing of the current output cell\n",
              "var outputEl = gd.closest('.output');\n",
              "if (outputEl) {{\n",
              "    x.observe(outputEl, {childList: true});\n",
              "}}\n",
              "\n",
              "                        })                };                            </script>        </div>\n",
              "</body>\n",
              "</html>"
            ]
          },
          "metadata": {}
        }
      ]
    },
    {
      "cell_type": "code",
      "source": [
        "sns.histplot(df['valor'], kde=True)\n",
        "plt.title('Histograma Valor de Vendas')"
      ],
      "metadata": {
        "colab": {
          "base_uri": "https://localhost:8080/",
          "height": 436
        },
        "id": "JCBbUIcsNEM-",
        "outputId": "308a4a73-2941-48fd-a4c1-753f06718d78"
      },
      "execution_count": 10,
      "outputs": [
        {
          "output_type": "execute_result",
          "data": {
            "text/plain": [
              "Text(0.5, 1.0, 'Histograma Valor de Vendas')"
            ]
          },
          "metadata": {},
          "execution_count": 10
        },
        {
          "output_type": "display_data",
          "data": {
            "text/plain": [
              "<Figure size 800x400 with 1 Axes>"
            ],
            "image/png": "[encoded data removed]"
          },
          "metadata": {}
        }
      ]
    },
    {
      "cell_type": "code",
      "source": [
        "sns.histplot(df['hora_do_dia'], kde=True)"
      ],
      "metadata": {
        "colab": {
          "base_uri": "https://localhost:8080/",
          "height": 414
        },
        "id": "p5evYmbjNd8E",
        "outputId": "d31b70bc-3d9e-48c0-a5dc-af741f725e9c"
      },
      "execution_count": 11,
      "outputs": [
        {
          "output_type": "execute_result",
          "data": {
            "text/plain": [
              "<Axes: xlabel='hora_do_dia', ylabel='Count'>"
            ]
          },
          "metadata": {},
          "execution_count": 11
        },
        {
          "output_type": "display_data",
          "data": {
            "text/plain": [
              "<Figure size 800x400 with 1 Axes>"
            ],
            "image/png": "[encoded data removed]"
          },
          "metadata": {}
        }
      ]
    },
    {
      "cell_type": "code",
      "source": [
        "df['hora_do_dia'].plot(kind='hist')"
      ],
      "metadata": {
        "colab": {
          "base_uri": "https://localhost:8080/",
          "height": 542
        },
        "id": "cp_oSvIQOd3U",
        "outputId": "386854b0-df12-4731-ec4d-e638bb1cd4a5"
      },
      "execution_count": 12,
      "outputs": [
        {
          "output_type": "display_data",
          "data": {
            "text/html": [
              "<html>\n",
              "<head><meta charset=\"utf-8\" /></head>\n",
              "<body>\n",
              "    <div>            <script src=\"https://cdnjs.cloudflare.com/ajax/libs/mathjax/2.7.5/MathJax.js?config=TeX-AMS-MML_SVG\"></script><script type=\"text/javascript\">if (window.MathJax && window.MathJax.Hub && window.MathJax.Hub.Config) {window.MathJax.Hub.Config({SVG: {font: \"STIX-Web\"}});}</script>                <script type=\"text/javascript\">window.PlotlyConfig = {MathJaxConfig: 'local'};</script>\n",
              "        <script charset=\"utf-8\" src=\"https://cdn.plot.ly/plotly-2.35.2.min.js\"></script>                <div id=\"d304f705-0ce7-419e-bf4e-3f60ce563d53\" class=\"plotly-graph-div\" style=\"height:525px; width:100%;\"></div>            <script type=\"text/javascript\">                                    window.PLOTLYENV=window.PLOTLYENV || {};                                    if (document.getElementById(\"d304f705-0ce7-419e-bf4e-3f60ce563d53\")) {                    Plotly.newPlot(                        \"d304f705-0ce7-419e-bf4e-3f60ce563d53\",                        [{\"alignmentgroup\":\"True\",\"bingroup\":\"x\",\"hovertemplate\":\"variable=hora_do_dia\\u003cbr\\u003evalue=%{x}\\u003cbr\\u003ecount=%{y}\\u003cextra\\u003e\\u003c\\u002fextra\\u003e\",\"legendgroup\":\"hora_do_dia\",\"marker\":{\"color\":\"#636efa\",\"pattern\":{\"shape\":\"\"}},\"name\":\"hora_do_dia\",\"offsetgroup\":\"hora_do_dia\",\"orientation\":\"v\",\"showlegend\":true,\"x\":[10,12,12,13,13,15,16,18,19,19,19,10,10,11,14,16,17,10,11,12,13,17,17,18,18,18,10,10,11,14,9,14,17,17,17,17,17,17,18,13,13,14,14,10,11,15,15,10,12,13,14,14,14,18,18,12,12,12,12,12,13,13,13,13,14,14,19,19,11,19,19,11,16,16,16,10,10,11,12,12,16,11,11,12,12,14,15,15,16,10,10,13,13,13,13,15,16,16,18,19,10,18,12,12,15,16,16,17,12,11,15,15,15,14,14,15,16,11,12,13,16,17,12,12,17,19,10,13,17,17,17,10,10,13,13,14,15,15,16,18,10,14,14,18,19,10,10,10,11,13,13,13,13,15,18,18,11,11,12,13,14,14,18,14,17,17,17,10,12,12,11,16,16,16,10,10,10,10,11,18,18,10,16,16,10,10,13,10,11,11,12,10,10,11,12,14,14,16,12,14,14,14,10,12,12,14,14,18,18,10,10,11,11,16,18,19,19,11,15,17,17,18,20,10,10,16,19,19,19,19,12,12,16,16,17,17,12,13,14,14,14,15,16,17,18,11,17,17,19,10,12,12,15,17,17,18,13,13,17,17,18,11,11,13,13,14,14,17,18,19,19,10,13,13,13,13,18,18,12,12,13,13,13,14,15,15,15,18,18,19,11,14,11,11,19,14,14,14,19,19,10,10,11,11,12,16,19,19,10,15,17,17,10,12,13,15,15,16,16,19,19,15,10,12,18,18,18,11,13,13,13,13,18,19,19,10,10,10,13,13,19,19,19,10,13,18,18,19,19,14,17,10,10,10,10,10,13,13,19,19,10,11,13,16,16,17,17,19,19,10,12,13,13,13,13,16,16,18,18,15,15,11,17,17,17,17,18,19,10,13,13,15,15,15,16,19,11,8,8,8,10,11,11,14,14,15,16,16,22,8,11,11,13,13,13,13,14,14,17,20,10,10,12,15,17,18,18,9,11,19,19,20,22,22,22,8,8,11,16,16,19,20,7,7,8,12,14,15,18,18,18,19,21,21,10,10,10,11,11,13,13,14,14,17,17,20,20,20,21,21,8,16,18,19,20,9,10,11,11,12,12,14,19,19,21,21,10,12,15,15,16,16,17,17,19,19,19,19,20,20,22,11,11,11,16,18,18,22,12,12,12,12,16,16,10,14,14,14,17,18,18,18,18,20,21,21,21,21,21,11,14,14,15,15,17,18,19,19,21,21,8,9,11,13,14,16,19,19,20,20,9,11,15,15,15,16,18,18,20,20,8,8,8,9,14,15,15,19,20,20,20,7,9,10,10,14,18,18,20,20,20,22,22,22,8,9,11,14,18,18,20,20,20,21,20,20,20,21,21,10,10,14,14,14,9,10,12,12,15,17,17,20,20,21,21,21,21,21,8,8,9,10,10,19,19,20,20,8,8,10,12,15,15,21,21,21,21,21,8,10,13,16,16,9,9,20,20,8,10,10,11,11,11,12,12,12,15,16,19,21,12,12,19,19,19,19,10,18,18,21,21,21,10,11,17,17,20,20,8,8,9,9,17,17,19,20,20,20,20,21,7,10,12,18,11,12,12,12,12,12,16,18,10,10,11,11,12,14,15,15,15,16,17,17,8,10,10,10,14,16,16,16,18,21,14,14,19,19,20,21,21,7,8,10,11,11,14,18,18,19,21,21,10,18,19,21,21,21,9,10,13,13,18,19,19,19,19,19,19,19,8,9,12,15,22,18,18,21,21,21,11,11,11,15,16,16,8,10,10,11,9,16,16,21,21,21,9,16,21,21,8,17,21,21,22,9,11,11,12,12,17,17,21,10,13,16,21,18,18,18,10,10,12,14,16,22,13,16,16,16,16,16,16,17,19,10,10,12,13,13,18,19,22,22,22,22,22,10,17,17,19,19,9,9,9,9,9,14,14,17,19,20,22,7,12,14,19,22,10,10,11,11,16,11,12,22,11,16,22,22,8,11,22,22,22,10,11,10,10,10,10,11,22,7,12,19,13,11,11,11,11,11,13,18,19,21,21,21,11,11,12,12,14,14,16,16,8,8,8,9,9,10,15,10,11,13,13,8,8,10,16,8,8,8,8,8,9,10,15,15,21,21,21,9,9,9,11,13,14,15,19,19,21,21,21,7,8,10,11,15,19,21,21,22,22,8,9,9,9,9,9,10,11,12,12,12,13,17,17,21,22,9,11,12,12,12,14,14,17,17,17,17,20,22,11,14,14,8,9,9,9,9,9,10,10,19,19,21,7,8,8,9,10,10,10,11,11,11,11,11,11,12,15,16,16,20,20,20,20,21,22,22,7,8,8,9,9,9,13,13,13,17,18,19,19,20,20,20,20,20,20,21,21,21,7,9,11,11,13,13,13,15,16,16,17,20,9,9,11,18,21,8,9,9,10,11,11,11,11,12,16,18,21,21,8,10,11,11,15,15,8,9,11,13,16,16,17,17,19,19,20,20,22,10,10,17,17,17,19,19,20,8,12,12,13,16,19,20,21,22,22,8,8,12,12,12,16,17,21,7,9,10,10,11,11,18,19,8,8,8,11,11,12,12,16,21,21,21,9,9,10,11,11,12,15,15,15,16,16,21,21,21,22,8,11,11,11,11,14,14,15,18,21,21,22,22,8,9,9,10,11,13,14,15,15,20,20,20,21,7,7,10,11,12,12,15,17,18,18,19,19,21,9,9,9,9,12,13,14,14,17,19,19,19,19,20,21,21,12,12,13,15,15,9,9,10,11,11,13,16,16,18,21,22,8,8,8,8,12,14,18,18,18,18,15,15,21,21,8,8,8,8,9,11,11,11,11,20,20,20,20,7,8,10,10,11,13,19,9,10,10,14,14,15,15,7,8,8,8,8,9,10,10,10,11,13,15,19,8,8,8,10,10,10,8,8,8,9,12,14,8,8,8,9,10,10,12,12,18,18,22,10,12,12,12,13,7,17,17,17,9,10,10,11,11,11,9,12,12,12,12,13,14,17,17,17,8,8,8,14,20,20,20,20,8,8,8,9,9,9,9,9,9,9,9,12,14,14,18,19,19,11,11,11,11,12,13,13,18,19,21,9,10,11,14,15,16,16,17,17,20,20,20,21,21,8,8,8,9,9,10,11,11,20,21,8,9,9,9,9,9,10,10,10,10,10,11,11,11,15,16,16,19,19,19,20,20,8,9,9,10,12,20,7,7,7,7,9,9,9,11,11,11,12,15,15,17,18,20,20,8,9,15,15,18,18,19,19,21,21,8,9,10,19,20,20,20,21,10,10,11,12,12,12,12,12,17,21,21,21,7,8,8,9,15,15,16,16,8,9,13,14,14,14,13,13,15,17,17,18,18,21,21,21,21,7,8,8,8,9,9,9,12,12,12,13,13,16,16,18,19,19,19,19,19,19,22,22,14,17,21,21,8,8,10,12,13,13,8,9,13,16,20,21,21,11,11,11,11,15,15,18,18,20,20,20,20,22,22,22,8,10,10,11,11,11,11,12,13,13,13,15,15,16,20,20,20,20,21,21,21,21,22,22,9,10,12,14,17,18,19,20,22,22,8,12,12,12,12,14,14,15,16,18,18,20,21,21,21,7,11,11,11,13,13,17,17,21,22,8,10,10,11,12,18,22,22,22,9,9,9,10,11,13,13,13,13,18,18,18,18,20,20,20,8,9,14,16,17,20,20,22,22,22,22,10,10,10,10,10,12,12,12,12,18,22,8,8,9,10,10,11,16,19,19,19,19,20,20,21,7,9,10,10,11,12,12,14,14,16,16,18,18,18,20,7,8,9,10,10,11,15,18,22,22,22,13,15,20,20,21,21,21,21,8,8,9,9,9,9,17,17,17,9,9,9,13,20,20,8,10,10,11,12,12,12,13,13,13,13,13,16,16,18,18,21,21,21,21,8,8,8,9,9,12,14,14,17,21,21,21,8,9,10,10,11,12,12,13,13,14,15,15,15,20,20,20,21,21,7,8,9,9,10,11,13,13,17,17,17,20,8,9,9,10,10,10,10,11,15,17,18,18,18,22,22,7,8,8,8,8,8,8,8,9,9,10,10,10,13,13,13,14,14,14,17,17,17,21,21,22,22,8,10,10,11,11,13,20,9,12,13,13,13,17,17,18,20,8,9,10,10,10,11,11,11,14,14,16,18,18,22,22,22,8,8,11,11,11,13,13,15,15,15,17,19,19,20,20,21,21,22,8,8,9,10,10,10,11,12,13,16,17,19,19,21,7,7,9,10,10,11,13,14,16,16,16,16,16,17,17,19,20,21,21,21,21,8,8,9,9,9,11,14,14,15,16,17,21,21,21,22,8,13,14,15,15,16,16,21,22,8,8,11,14,14,15,16,16,17,18,18,21,21,21,21,22,7,8,9,9,10,10,10,11,12,14,14,15,15,16,16,19,21,22,22,7,7,8,9,10,10,18,19,19,7,8,10,12,16,16,16,17,18,19,21,21,22,12,13,14,14,14,15,15,18,18,19,20,21,21,21,21,7,7,8,8,8,10,10,10,11,11,12,12,14,22,22,7,8,8,10,12,13,14,14,15,15,15,15,15,15,19,20,11,12,12,13,16,7,8,8,9,11,11,12,12,12,14,14,14,16,17,17,19,21,22,8,8,9,11,12,14,14,14,16,16,16,18,18,19,19,19,19,20,7,8,8,9,10,10,12,12,12,12,15,15,16,18,19,19,7,8,9,15,16,8,8,10,12,12,15,22,8,10,10,14,16,16,16,18,18,8,9,9,13,13,13,13,13,16,16,16,16,20,7,8,8,12,12,14,14,7,9,9,9,10,11,11,14,14,18,18,18,21,21,21,22,22,8,11,13,15,16,16,18,18,12,15,16,18,19,19,20,9,9,9,11,13,13,16,16,20,20,20,22,10,11,11,11,13,13,14,14,14,15,16,16,20,20,22,22,22,9,17,18,18,20,20,7,9,10,16,16,17,19,19,21,21,10,13,14,16,16,16,18,20,20,8,10,13,13,14,14,9,10,12,15,15,15,16,16,19,19,20,20,21,22,8,11,12,12,13,15,17,17,18,18,18,10,10,11,11,11,12,12,12,12,13,13,13,14,10,13,14,14,16,16,18,19,19,7,7,7,16,16,18,7,7,7,7,7,10,11,16,16,16,16,13,16,17,17,11,12,12,13,16,17,17,19,7,10,11,11,16,16,9,9,10,11,11,11,11,22,8,7,7,9,10,12,12,16,19,19,21,21,7,11,11,11,11,16,16,17,17,19,8,9,20,20,20,22,7,7,9,9,15,15,20,12,14,14,14,15,22,10,10,10,14,15,15,15,15,15,16,16,17,17,18,7,7,8,8,11,15,16,17,18,8,9,9,11,11,11,11,20,21,21,21,22,22,8,8,8,9,10,10,10,10,11,14,8,9,10,10,11,11,14,15,16,11,16,22,22,11,14,15,19,22,22,8,10,10,12,13,13,17,18,20,21,21,8,9,9,13,21,12,18,7,10,12,12,17,21,21,7,12,16,16,16,19,19,12,12,12,14,16,19,19,21,8,9,11,13,13,16,16,16,17,17,18,11,11,17,7,8,8,12,13,14,18,18,8,8,10,16,16,17,18,9,10,10,10,10,11,12,13,19,19,19,19,21,21,8,9,10,10,12,12,14,18,18,10,10,10,15,15,15,15,17,18,18,19,19,21,21,22,10,18,19,19,20,21,21,9,9,10,11,14,15,16,17,17,20,15,16,17,19,19,19,19,10,10,12,12,13,13,20,21,21,21,22,22,13,15,7,8,9,10,17,19,19,22,9,9,10,10,14,14,17,22,13,15,15,17,17,19,20,21,9,9,13,13,15,15,16,16,16,8,9,9,9,10,10,11,11,15,15,16,17,17,17,19,19,9,13,13,14,14,16,16,16,17,9,10,16,22,22,22,22,8,9,13,15,16,16,16,16,18,22,9,10,22,19,13,22,22,7,9,10,17,8,8,9,14,15,15,15,20,22,8,9,17,17,17,7,10,11,11,11,12,12,14,14,14,14,17,17,17,18,11,11,11,16,20,8,9,13,13,14,14,16,20,7,9,10,12,16,16,19,21,9,11,13,15,15,15,16,18,19,21,9,9,10,12,15,16,18,21,21,21,7,8,8,8,9,14,14,17,21,10,16,16,16,8,10,11,12,12,13,20,20,20,21,8,8,8,15,18,18,18,19,11,17,18,19,19,19,20,13,13,15,17,21,22,22,13,14,14,12,12,8,8,12,13,15,15,15,18,19,19,8,9,11,12,16,16,17,20,20,9,16,19,19,9,10,11,12,13,14,17,18,18,8,8,9,9,9,9,12,12,14,16,22,22,8,10,13,13,14,14,15,18,19,19,21,10,10,12,12,14,16,16,7,7,8,8,10,10,10,13,13,13,14,14,14,15,15,17,17,17,17,17,17,17,17,18,20,10,10,12,13,14,14,14,18,19,19,19,19,8,9,11,11,11,11,12,13,13,13,14,15,16,16,16,16,16,18,18,18,18,18,19,20,7,13,14,14,16,17,17,19,19,20,20,20,8,9,10,12,12,12,16,16,16,16,18,18,18,18,20,20,9,10,11,11,12,13,15,15,8,10,10,12,15,15,15,15,16,7,8,8,11,13,13,13,13,14,14,14,14,15,15,15,15,16,17,18,19,19,10,11,11,11,15,16,16,17,17,17,17,17,19,19,7,7,8,9,10,12,13,13,15,15,15,16,16,17,17,20,20,21,7,8,9,9,10,10,16,16,17,17,18,18,19,11,14,14,14,14,15,15,15,15,15,17,17,17,17,21,9,12,12,13,13,14,14,15,15,10,10,10,11,11,14,14,17,17,17,6,8,9,9,9,10,10,11,11,12,14,15,15,16,16,17,18,19,19,20,8,8,11,11,11,12,13,13,13,17,17,17,17,17,19,20,20,21,8,8,8,9,10,10,10,12,12,13,15,17,17,17,18,19,19,19,19,20,7,9,10,10,10,10,13,14,14,14,15,16,16,17,17,18,19,19,20,6,9,9,9,10,11,12,12,12,12,13,14,15,15,15,15,16,16,16,16,19,19,19,10,11,11,12,15,10,12,12,13,14,17,9,9,10,10,10,10,12,13,15,16,16,16,16,17,17,18,18,19,19,19,19,20,8,8,8,10,11,11,12,14,16,16,18,19,8,10,10,10,13,13,15,15,15,15,15,15,16,16,16,17,18,18,7,7,10,11,12,13,14,14,15,16,17,17,17,18,18,18,18,19,20,6,6,7,8,9,14,14,14,14,15,16,16,17,17,17,17,18,10,11,11,14,15,15,16,17,9,12,13,15,15,15,8,9,9,10,10,12,15,15,16,16,16,16,16,16,17,17,17,17,17,17,18,18,7,7,8,9,9,9,11,11,11,11,11,12,16,18,19,20,8,9,10,10,10,10,11,11,11,11,12,15,15,15,17,17,17,18,19,9,9,10,10,10,11,11,13,16,17,18,19,7,8,8,9,10,10,10,10,11,12,13,13,14,15,15,17,17,9,9,10,11,11,12,12,13,9,11,13,14,15,15,15,15,8,8,9,9,9,10,12,15,15,16,16,16,16,18,18,18,19,8,9,9,10,12,13,16,16,16,17,18,19,20,11,11,11,11,11,12,12,13,13,16,16,16,18,18,18,18,18,7,8,9,9,9,9,9,11,12,14,14,18,7,8,8,9,9,9,10,10,10,14,14,15,15,16,16,16,16,17,17,17,17,20,21,9,10,13,17,17,19,19,9,9,10,12,14,6,8,8,9,10,13,14,14,14,15,15,15,16,8,8,10,10,11,11,14,15,15,16,16,16,18,18,20,20,21,7,7,7,8,10,11,12,15,15,16,16,16,16,16,16,17,17,17,18,18,18,8,9,10,10,10,12,14,14,14,14,14,14,15,15,16,17,18,19,19,21,7,7,8,8,8,8,11,11,13,13,14,15,15,15,15,17,17,17,18,18,9,10,11,11,12,12,13,13,15,16,17,19,10,10,14,14,15,18],\"xaxis\":\"x\",\"yaxis\":\"y\",\"type\":\"histogram\"}],                        {\"template\":{\"data\":{\"histogram2dcontour\":[{\"type\":\"histogram2dcontour\",\"colorbar\":{\"outlinewidth\":0,\"ticks\":\"\"},\"colorscale\":[[0.0,\"#0d0887\"],[0.1111111111111111,\"#46039f\"],[0.2222222222222222,\"#7201a8\"],[0.3333333333333333,\"#9c179e\"],[0.4444444444444444,\"#bd3786\"],[0.5555555555555556,\"#d8576b\"],[0.6666666666666666,\"#ed7953\"],[0.7777777777777778,\"#fb9f3a\"],[0.8888888888888888,\"#fdca26\"],[1.0,\"#f0f921\"]]}],\"choropleth\":[{\"type\":\"choropleth\",\"colorbar\":{\"outlinewidth\":0,\"ticks\":\"\"}}],\"histogram2d\":[{\"type\":\"histogram2d\",\"colorbar\":{\"outlinewidth\":0,\"ticks\":\"\"},\"colorscale\":[[0.0,\"#0d0887\"],[0.1111111111111111,\"#46039f\"],[0.2222222222222222,\"#7201a8\"],[0.3333333333333333,\"#9c179e\"],[0.4444444444444444,\"#bd3786\"],[0.5555555555555556,\"#d8576b\"],[0.6666666666666666,\"#ed7953\"],[0.7777777777777778,\"#fb9f3a\"],[0.8888888888888888,\"#fdca26\"],[1.0,\"#f0f921\"]]}],\"heatmap\":[{\"type\":\"heatmap\",\"colorbar\":{\"outlinewidth\":0,\"ticks\":\"\"},\"colorscale\":[[0.0,\"#0d0887\"],[0.1111111111111111,\"#46039f\"],[0.2222222222222222,\"#7201a8\"],[0.3333333333333333,\"#9c179e\"],[0.4444444444444444,\"#bd3786\"],[0.5555555555555556,\"#d8576b\"],[0.6666666666666666,\"#ed7953\"],[0.7777777777777778,\"#fb9f3a\"],[0.8888888888888888,\"#fdca26\"],[1.0,\"#f0f921\"]]}],\"heatmapgl\":[{\"type\":\"heatmapgl\",\"colorbar\":{\"outlinewidth\":0,\"ticks\":\"\"},\"colorscale\":[[0.0,\"#0d0887\"],[0.1111111111111111,\"#46039f\"],[0.2222222222222222,\"#7201a8\"],[0.3333333333333333,\"#9c179e\"],[0.4444444444444444,\"#bd3786\"],[0.5555555555555556,\"#d8576b\"],[0.6666666666666666,\"#ed7953\"],[0.7777777777777778,\"#fb9f3a\"],[0.8888888888888888,\"#fdca26\"],[1.0,\"#f0f921\"]]}],\"contourcarpet\":[{\"type\":\"contourcarpet\",\"colorbar\":{\"outlinewidth\":0,\"ticks\":\"\"}}],\"contour\":[{\"type\":\"contour\",\"colorbar\":{\"outlinewidth\":0,\"ticks\":\"\"},\"colorscale\":[[0.0,\"#0d0887\"],[0.1111111111111111,\"#46039f\"],[0.2222222222222222,\"#7201a8\"],[0.3333333333333333,\"#9c179e\"],[0.4444444444444444,\"#bd3786\"],[0.5555555555555556,\"#d8576b\"],[0.6666666666666666,\"#ed7953\"],[0.7777777777777778,\"#fb9f3a\"],[0.8888888888888888,\"#fdca26\"],[1.0,\"#f0f921\"]]}],\"surface\":[{\"type\":\"surface\",\"colorbar\":{\"outlinewidth\":0,\"ticks\":\"\"},\"colorscale\":[[0.0,\"#0d0887\"],[0.1111111111111111,\"#46039f\"],[0.2222222222222222,\"#7201a8\"],[0.3333333333333333,\"#9c179e\"],[0.4444444444444444,\"#bd3786\"],[0.5555555555555556,\"#d8576b\"],[0.6666666666666666,\"#ed7953\"],[0.7777777777777778,\"#fb9f3a\"],[0.8888888888888888,\"#fdca26\"],[1.0,\"#f0f921\"]]}],\"mesh3d\":[{\"type\":\"mesh3d\",\"colorbar\":{\"outlinewidth\":0,\"ticks\":\"\"}}],\"scatter\":[{\"fillpattern\":{\"fillmode\":\"overlay\",\"size\":10,\"solidity\":0.2},\"type\":\"scatter\"}],\"parcoords\":[{\"type\":\"parcoords\",\"line\":{\"colorbar\":{\"outlinewidth\":0,\"ticks\":\"\"}}}],\"scatterpolargl\":[{\"type\":\"scatterpolargl\",\"marker\":{\"colorbar\":{\"outlinewidth\":0,\"ticks\":\"\"}}}],\"bar\":[{\"error_x\":{\"color\":\"#2a3f5f\"},\"error_y\":{\"color\":\"#2a3f5f\"},\"marker\":{\"line\":{\"color\":\"#E5ECF6\",\"width\":0.5},\"pattern\":{\"fillmode\":\"overlay\",\"size\":10,\"solidity\":0.2}},\"type\":\"bar\"}],\"scattergeo\":[{\"type\":\"scattergeo\",\"marker\":{\"colorbar\":{\"outlinewidth\":0,\"ticks\":\"\"}}}],\"scatterpolar\":[{\"type\":\"scatterpolar\",\"marker\":{\"colorbar\":{\"outlinewidth\":0,\"ticks\":\"\"}}}],\"histogram\":[{\"marker\":{\"pattern\":{\"fillmode\":\"overlay\",\"size\":10,\"solidity\":0.2}},\"type\":\"histogram\"}],\"scattergl\":[{\"type\":\"scattergl\",\"marker\":{\"colorbar\":{\"outlinewidth\":0,\"ticks\":\"\"}}}],\"scatter3d\":[{\"type\":\"scatter3d\",\"line\":{\"colorbar\":{\"outlinewidth\":0,\"ticks\":\"\"}},\"marker\":{\"colorbar\":{\"outlinewidth\":0,\"ticks\":\"\"}}}],\"scattermapbox\":[{\"type\":\"scattermapbox\",\"marker\":{\"colorbar\":{\"outlinewidth\":0,\"ticks\":\"\"}}}],\"scatterternary\":[{\"type\":\"scatterternary\",\"marker\":{\"colorbar\":{\"outlinewidth\":0,\"ticks\":\"\"}}}],\"scattercarpet\":[{\"type\":\"scattercarpet\",\"marker\":{\"colorbar\":{\"outlinewidth\":0,\"ticks\":\"\"}}}],\"carpet\":[{\"aaxis\":{\"endlinecolor\":\"#2a3f5f\",\"gridcolor\":\"white\",\"linecolor\":\"white\",\"minorgridcolor\":\"white\",\"startlinecolor\":\"#2a3f5f\"},\"baxis\":{\"endlinecolor\":\"#2a3f5f\",\"gridcolor\":\"white\",\"linecolor\":\"white\",\"minorgridcolor\":\"white\",\"startlinecolor\":\"#2a3f5f\"},\"type\":\"carpet\"}],\"table\":[{\"cells\":{\"fill\":{\"color\":\"#EBF0F8\"},\"line\":{\"color\":\"white\"}},\"header\":{\"fill\":{\"color\":\"#C8D4E3\"},\"line\":{\"color\":\"white\"}},\"type\":\"table\"}],\"barpolar\":[{\"marker\":{\"line\":{\"color\":\"#E5ECF6\",\"width\":0.5},\"pattern\":{\"fillmode\":\"overlay\",\"size\":10,\"solidity\":0.2}},\"type\":\"barpolar\"}],\"pie\":[{\"automargin\":true,\"type\":\"pie\"}]},\"layout\":{\"autotypenumbers\":\"strict\",\"colorway\":[\"#636efa\",\"#EF553B\",\"#00cc96\",\"#ab63fa\",\"#FFA15A\",\"#19d3f3\",\"#FF6692\",\"#B6E880\",\"#FF97FF\",\"#FECB52\"],\"font\":{\"color\":\"#2a3f5f\"},\"hovermode\":\"closest\",\"hoverlabel\":{\"align\":\"left\"},\"paper_bgcolor\":\"white\",\"plot_bgcolor\":\"#E5ECF6\",\"polar\":{\"bgcolor\":\"#E5ECF6\",\"angularaxis\":{\"gridcolor\":\"white\",\"linecolor\":\"white\",\"ticks\":\"\"},\"radialaxis\":{\"gridcolor\":\"white\",\"linecolor\":\"white\",\"ticks\":\"\"}},\"ternary\":{\"bgcolor\":\"#E5ECF6\",\"aaxis\":{\"gridcolor\":\"white\",\"linecolor\":\"white\",\"ticks\":\"\"},\"baxis\":{\"gridcolor\":\"white\",\"linecolor\":\"white\",\"ticks\":\"\"},\"caxis\":{\"gridcolor\":\"white\",\"linecolor\":\"white\",\"ticks\":\"\"}},\"coloraxis\":{\"colorbar\":{\"outlinewidth\":0,\"ticks\":\"\"}},\"colorscale\":{\"sequential\":[[0.0,\"#0d0887\"],[0.1111111111111111,\"#46039f\"],[0.2222222222222222,\"#7201a8\"],[0.3333333333333333,\"#9c179e\"],[0.4444444444444444,\"#bd3786\"],[0.5555555555555556,\"#d8576b\"],[0.6666666666666666,\"#ed7953\"],[0.7777777777777778,\"#fb9f3a\"],[0.8888888888888888,\"#fdca26\"],[1.0,\"#f0f921\"]],\"sequentialminus\":[[0.0,\"#0d0887\"],[0.1111111111111111,\"#46039f\"],[0.2222222222222222,\"#7201a8\"],[0.3333333333333333,\"#9c179e\"],[0.4444444444444444,\"#bd3786\"],[0.5555555555555556,\"#d8576b\"],[0.6666666666666666,\"#ed7953\"],[0.7777777777777778,\"#fb9f3a\"],[0.8888888888888888,\"#fdca26\"],[1.0,\"#f0f921\"]],\"diverging\":[[0,\"#8e0152\"],[0.1,\"#c51b7d\"],[0.2,\"#de77ae\"],[0.3,\"#f1b6da\"],[0.4,\"#fde0ef\"],[0.5,\"#f7f7f7\"],[0.6,\"#e6f5d0\"],[0.7,\"#b8e186\"],[0.8,\"#7fbc41\"],[0.9,\"#4d9221\"],[1,\"#276419\"]]},\"xaxis\":{\"gridcolor\":\"white\",\"linecolor\":\"white\",\"ticks\":\"\",\"title\":{\"standoff\":15},\"zerolinecolor\":\"white\",\"automargin\":true,\"zerolinewidth\":2},\"yaxis\":{\"gridcolor\":\"white\",\"linecolor\":\"white\",\"ticks\":\"\",\"title\":{\"standoff\":15},\"zerolinecolor\":\"white\",\"automargin\":true,\"zerolinewidth\":2},\"scene\":{\"xaxis\":{\"backgroundcolor\":\"#E5ECF6\",\"gridcolor\":\"white\",\"linecolor\":\"white\",\"showbackground\":true,\"ticks\":\"\",\"zerolinecolor\":\"white\",\"gridwidth\":2},\"yaxis\":{\"backgroundcolor\":\"#E5ECF6\",\"gridcolor\":\"white\",\"linecolor\":\"white\",\"showbackground\":true,\"ticks\":\"\",\"zerolinecolor\":\"white\",\"gridwidth\":2},\"zaxis\":{\"backgroundcolor\":\"#E5ECF6\",\"gridcolor\":\"white\",\"linecolor\":\"white\",\"showbackground\":true,\"ticks\":\"\",\"zerolinecolor\":\"white\",\"gridwidth\":2}},\"shapedefaults\":{\"line\":{\"color\":\"#2a3f5f\"}},\"annotationdefaults\":{\"arrowcolor\":\"#2a3f5f\",\"arrowhead\":0,\"arrowwidth\":1},\"geo\":{\"bgcolor\":\"white\",\"landcolor\":\"#E5ECF6\",\"subunitcolor\":\"white\",\"showland\":true,\"showlakes\":true,\"lakecolor\":\"white\"},\"title\":{\"x\":0.05},\"mapbox\":{\"style\":\"light\"}}},\"xaxis\":{\"anchor\":\"y\",\"domain\":[0.0,1.0],\"title\":{\"text\":\"value\"}},\"yaxis\":{\"anchor\":\"x\",\"domain\":[0.0,1.0],\"title\":{\"text\":\"count\"}},\"legend\":{\"title\":{\"text\":\"variable\"},\"tracegroupgap\":0},\"margin\":{\"t\":60},\"barmode\":\"relative\"},                        {\"responsive\": true}                    ).then(function(){\n",
              "                            \n",
              "var gd = document.getElementById('d304f705-0ce7-419e-bf4e-3f60ce563d53');\n",
              "var x = new MutationObserver(function (mutations, observer) {{\n",
              "        var display = window.getComputedStyle(gd).display;\n",
              "        if (!display || display === 'none') {{\n",
              "            console.log([gd, 'removed!']);\n",
              "            Plotly.purge(gd);\n",
              "            observer.disconnect();\n",
              "        }}\n",
              "}});\n",
              "\n",
              "// Listen for the removal of the full notebook cells\n",
              "var notebookContainer = gd.closest('#notebook-container');\n",
              "if (notebookContainer) {{\n",
              "    x.observe(notebookContainer, {childList: true});\n",
              "}}\n",
              "\n",
              "// Listen for the clearing of the current output cell\n",
              "var outputEl = gd.closest('.output');\n",
              "if (outputEl) {{\n",
              "    x.observe(outputEl, {childList: true});\n",
              "}}\n",
              "\n",
              "                        })                };                            </script>        </div>\n",
              "</body>\n",
              "</html>"
            ]
          },
          "metadata": {}
        }
      ]
    },
    {
      "cell_type": "markdown",
      "source": [
        "## Exercício 3 — Probabilidade aplicada\n",
        "\n",
        "\n",
        "1. Qual é a probabilidade empírica (calculada a partir dos dados) de uma venda ser maior que R$ 20, R$ 40 ou R$ 60?\n",
        "\n",
        "\n",
        "2. Supondo uma distribuição normal, qual a probabilidade teórica de uma venda estar entre R$20 e R$40?\n",
        "\n"
      ],
      "metadata": {
        "id": "5ZIz-IXZAB5r"
      }
    },
    {
      "cell_type": "code",
      "source": [
        "p_maior_20 = np.sum(df['valor']>20)/len(df['valor'])\n",
        "p_maior_20"
      ],
      "metadata": {
        "colab": {
          "base_uri": "https://localhost:8080/"
        },
        "id": "rIx-oY52AJ0r",
        "outputId": "110cda02-ffe1-4c30-83d0-5c9064b72e03"
      },
      "execution_count": 13,
      "outputs": [
        {
          "output_type": "execute_result",
          "data": {
            "text/plain": [
              "np.float64(0.9898505779531999)"
            ]
          },
          "metadata": {},
          "execution_count": 13
        }
      ]
    },
    {
      "cell_type": "code",
      "source": [
        "np.mean(df['valor']>20)"
      ],
      "metadata": {
        "colab": {
          "base_uri": "https://localhost:8080/"
        },
        "id": "FcDQP8XdScBr",
        "outputId": "9b1c513e-6b3a-484d-df87-fce896bffd83"
      },
      "execution_count": 14,
      "outputs": [
        {
          "output_type": "execute_result",
          "data": {
            "text/plain": [
              "np.float64(0.9898505779531999)"
            ]
          },
          "metadata": {},
          "execution_count": 14
        }
      ]
    },
    {
      "cell_type": "code",
      "source": [
        "np.mean(df['valor']>40)"
      ],
      "metadata": {
        "colab": {
          "base_uri": "https://localhost:8080/"
        },
        "id": "e2GG2yL-SjEL",
        "outputId": "d15beebc-f4ae-4a47-a49a-07405ea5d036"
      },
      "execution_count": 15,
      "outputs": [
        {
          "output_type": "execute_result",
          "data": {
            "text/plain": [
              "np.float64(0.0)"
            ]
          },
          "metadata": {},
          "execution_count": 15
        }
      ]
    },
    {
      "cell_type": "code",
      "source": [
        "np.mean(df['valor']>60)"
      ],
      "metadata": {
        "colab": {
          "base_uri": "https://localhost:8080/"
        },
        "id": "arTrWBQRSlwW",
        "outputId": "51a7d905-88ce-42d5-f4ba-01ffe835e9e0"
      },
      "execution_count": 16,
      "outputs": [
        {
          "output_type": "execute_result",
          "data": {
            "text/plain": [
              "np.float64(0.0)"
            ]
          },
          "metadata": {},
          "execution_count": 16
        }
      ]
    },
    {
      "cell_type": "code",
      "source": [
        "media = df['valor'].mean()\n",
        "media"
      ],
      "metadata": {
        "colab": {
          "base_uri": "https://localhost:8080/"
        },
        "id": "YJ_YLGS4SxZp",
        "outputId": "00e2d9bc-e8e1-4cd5-d9fa-bc62cf68a72c"
      },
      "execution_count": 17,
      "outputs": [
        {
          "output_type": "execute_result",
          "data": {
            "text/plain": [
              "np.float64(31.64521567521849)"
            ]
          },
          "metadata": {},
          "execution_count": 17
        }
      ]
    },
    {
      "cell_type": "code",
      "source": [
        "desvio = df['valor'].std()\n",
        "desvio"
      ],
      "metadata": {
        "colab": {
          "base_uri": "https://localhost:8080/"
        },
        "id": "FhIXX8OPS_e7",
        "outputId": "18418240-86c6-4465-c5bc-2d62f3ae0d77"
      },
      "execution_count": 18,
      "outputs": [
        {
          "output_type": "execute_result",
          "data": {
            "text/plain": [
              "4.877753703590957"
            ]
          },
          "metadata": {},
          "execution_count": 18
        }
      ]
    },
    {
      "cell_type": "code",
      "source": [
        "from scipy.stats import norm\n",
        "# Gerar intervalo de valores para o eixo x\n",
        "x = np.linspace(15, 45, 500)\n",
        "\n",
        "# Calcular a densidade da distribuição normal\n",
        "y = norm.pdf(x, media, desvio)\n",
        "\n",
        "# Plotar a curva da distribuição normal\n",
        "plt.figure(figsize=(8,5))\n",
        "plt.plot(x, y, label='Distribuição Normal (Valor das Vendas)')\n",
        "\n",
        "# Área entre 20 e 40\n",
        "x_fill = np.linspace(20, 40, 300)\n",
        "y_fill = norm.pdf(x_fill, media, desvio)\n",
        "plt.fill_between(x_fill, y_fill, color='skyblue', alpha=0.5, label='Área entre R$20 e R$40')\n",
        "\n",
        "# Linhas de referência\n",
        "plt.axvline(20, color='red', linestyle='--')\n",
        "plt.axvline(40, color='red', linestyle='--')\n",
        "\n",
        "plt.title(\"Distribuição Normal Teórica — Valor das Vendas\")\n",
        "plt.xlabel(\"Valor (R$)\")\n",
        "plt.ylabel(\"Densidade de probabilidade\")"
      ],
      "metadata": {
        "colab": {
          "base_uri": "https://localhost:8080/",
          "height": 513
        },
        "id": "cpd1WPRJTDRI",
        "outputId": "79725429-a231-416f-deb4-06047ae38f58"
      },
      "execution_count": 19,
      "outputs": [
        {
          "output_type": "execute_result",
          "data": {
            "text/plain": [
              "Text(0, 0.5, 'Densidade de probabilidade')"
            ]
          },
          "metadata": {},
          "execution_count": 19
        },
        {
          "output_type": "display_data",
          "data": {
            "text/plain": [
              "<Figure size 800x500 with 1 Axes>"
            ],
            "image/png": "[encoded data removed]"
          },
          "metadata": {}
        }
      ]
    },
    {
      "cell_type": "markdown",
      "source": [
        "| Conceito                  | Explicação simples                           |\n",
        "| ------------------------- | -------------------------------------------- |\n",
        "| **Média (μ)**             | O valor mais comum (centro da curva)         |\n",
        "| **Desvio padrão (σ)**     | Mede o quanto os valores se afastam da média |\n",
        "| **Distribuição normal**   | A famosa curva em forma de sino              |\n",
        "| **Probabilidade teórica** | Área sob a curva entre dois valores          |\n",
        "| **Função `norm.cdf`**     | Mede “quanta área tem até um ponto”          |\n"
      ],
      "metadata": {
        "id": "j7vPZ8xYQBEy"
      }
    },
    {
      "cell_type": "markdown",
      "source": [
        "## Exercício 4 — Amostragem\n",
        "\n",
        "1. Crie três amostras aleatórias dos valores de venda: n = 30, 100, 300.\n",
        "2. Compare as médias dessas amostras com a média geral da variável."
      ],
      "metadata": {
        "id": "HefadmUDAejQ"
      }
    },
    {
      "cell_type": "code",
      "source": [
        "# Crie três amostras aleatórias dos valores de venda: n = 30, 100, 300.\n",
        "amostra_30 = df['valor'].sample(n=30)\n",
        "amostra_100 = df['valor'].sample(n=100)\n",
        "amostra_300 = df['valor'].sample(n=300)\n"
      ],
      "metadata": {
        "id": "At-YqIqEAet6"
      },
      "execution_count": 20,
      "outputs": []
    },
    {
      "cell_type": "code",
      "source": [
        "# Compare as médias dessas amostras com a média geral da variável.\n",
        "media_geral = df['valor'].mean()\n",
        "media_amostra_30 = amostra_30.mean()\n",
        "media_amostra_100 = amostra_100.mean()\n",
        "media_amostra_300 = amostra_300.mean()\n",
        "print(f'Média Geral: {media_geral}')\n",
        "print(f'Média Amostra 30: {media_amostra_30}')\n",
        "print(f'Média Amostra 100: {media_amostra_100}')"
      ],
      "metadata": {
        "colab": {
          "base_uri": "https://localhost:8080/"
        },
        "id": "WevhmrYdYq_u",
        "outputId": "2964c517-cc2d-40c5-99ed-e764e0ee3377"
      },
      "execution_count": 22,
      "outputs": [
        {
          "output_type": "stream",
          "name": "stdout",
          "text": [
            "Média Geral: 31.64521567521849\n",
            "Média Amostra 30: 31.545999999999996\n",
            "Média Amostra 100: 30.5366\n"
          ]
        }
      ]
    }
  ]
}