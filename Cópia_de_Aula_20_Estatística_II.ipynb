{
  "nbformat": 4,
  "nbformat_minor": 0,
  "metadata": {
    "colab": {
      "provenance": [],
      "include_colab_link": true
    },
    "kernelspec": {
      "name": "python3",
      "display_name": "Python 3"
    },
    "language_info": {
      "name": "python"
    }
  },
  "cells": [
    {
      "cell_type": "markdown",
      "metadata": {
        "id": "view-in-github",
        "colab_type": "text"
      },
      "source": [
        "<a href=\"https://colab.research.google.com/github/BeatrizPCandido/pretalab-ciclo14-git-github/blob/main/C%C3%B3pia_de_Aula_20_Estat%C3%ADstica_II.ipynb\" target=\"_parent\"><img src=\"https://colab.research.google.com/assets/colab-badge.svg\" alt=\"Open In Colab\"/></a>"
      ]
    },
    {
      "cell_type": "markdown",
      "source": [
        "# Estudo de Probabilidade, Amostragem e Testes de Hipóteses em Python\n",
        "\n",
        "> Nesta aula, vamos entender como a estatística descritiva se transforma em **inferência estatística** — ou seja, como podemos **tirar conclusões sobre uma população** com base em **amostras de dados**.\n"
      ],
      "metadata": {
        "id": "cAy4C90iRMP3"
      }
    },
    {
      "cell_type": "markdown",
      "source": [
        "## Objetivos da Aula\n",
        "\n",
        "Ao final desta aula, você será capaz de:\n",
        "- Compreender os conceitos básicos de **probabilidade**;\n",
        "- Aplicar técnicas simples de **amostragem de dados**;\n",
        "- Entender os princípios dos **testes de hipóteses**;\n",
        "- Implementar essas análises na prática com **Python (NumPy, Pandas e SciPy)**.\n"
      ],
      "metadata": {
        "id": "fC8M2HCbRcgK"
      }
    },
    {
      "cell_type": "code",
      "source": [
        "## Bibliotecas\n",
        "import numpy as np\n",
        "import pandas as pd\n",
        "import matplotlib.pyplot as plt\n",
        "import seaborn as sns\n",
        "from scipy import stats\n",
        "\n",
        "# Configurações visuais\n",
        "sns.set(style='whitegrid')\n",
        "plt.rcParams['figure.figsize'] = (8,4)"
      ],
      "metadata": {
        "id": "K9giwVOPY-lC"
      },
      "execution_count": 1,
      "outputs": []
    },
    {
      "cell_type": "markdown",
      "source": [
        "## 1. Conceitos Fundamentais de Probabilidade\n",
        "\n",
        "Para lidar cientificamente com experimentos do cotidiano, necessitamos de formulações matemáticas para ambos (determinísticos e aleatórios). Para isso, modelos teóricos são construídos para cada caso. Por exemplo, a Física clássica lida com problemas em experimentos determinísticos e a Estatística lida com problemas em experimentos aleatórios.\n"
      ],
      "metadata": {
        "id": "o9hUi1ZcSH3s"
      }
    },
    {
      "cell_type": "markdown",
      "source": [
        "A **probabilidade** é uma forma matematicamente coerente de medir a **chance de um evento ocorrer**.\n",
        "\n",
        "\\[\n",
        "P(A) = número de casos favoráveis/número total de casos possíveis\n",
        "\\]\n",
        "\n",
        "**Exemplo simples: Cara ou Coroa**\n",
        "\n",
        "A probabilidade de cara (ou coroa) é de 50%, pois existem dois resultados possíveis e ambos têm a mesma chance."
      ],
      "metadata": {
        "id": "D9EyfRXjcVcK"
      }
    },
    {
      "cell_type": "code",
      "execution_count": 2,
      "metadata": {
        "id": "lgnMl7u0GlDH"
      },
      "outputs": [],
      "source": [
        "p_cara = 1/2\n",
        "p_1_dado = 1/6\n",
        "\n",
        "p_par_dado = 3/6"
      ]
    },
    {
      "cell_type": "markdown",
      "source": [
        "**Exemplo: Lançamento de Dado**"
      ],
      "metadata": {
        "id": "B2ULZMq8ZK7X"
      }
    },
    {
      "cell_type": "code",
      "source": [
        "# Simulando 10.000 lançamentos de um dado\n",
        "lancamentos = np.random.randint(1, 7, 10000)\n",
        "lancamentos\n",
        "\n",
        "# Probabilidade de sair um número par\n",
        "p_par = np.mean(lancamentos % 2 == 0)\n",
        "p_par"
      ],
      "metadata": {
        "colab": {
          "base_uri": "https://localhost:8080/"
        },
        "id": "JiHweALTSULi",
        "outputId": "e30fa4d3-248d-4a06-ab11-46f50d99f7af"
      },
      "execution_count": 4,
      "outputs": [
        {
          "output_type": "execute_result",
          "data": {
            "text/plain": [
              "np.float64(0.499)"
            ]
          },
          "metadata": {},
          "execution_count": 4
        }
      ]
    },
    {
      "cell_type": "markdown",
      "source": [
        "## Criando um modelo probabilístico\n",
        "\n",
        "Basicamente, a teoria é baseada na construção de um modelo matemático para representar e tratar experimentos aleatórios. Esta construção pode ser sumarizada em dois passos:\n",
        "\n",
        "1. Para cada experimento aleatório, descreva todo o conjunto de possíveis resultados;\n",
        "\n",
        "2. “Atribua pesos” a cada possível resultado que reflita a sua chance de ocorrência durante a realização do experimento.\n",
        "\n",
        "\n",
        "Assim, para descrever o conjunto de possíveis resultados de um experimento, temos a importância da definição do conceito de espaço amostral.\n",
        "\n",
        "O **Espaço amostral** é um conjunto de (todos) possíveis resultados que podemos ter ao realizar um experimento aleatório.  Ele pode ser finito, infinito enumerável ou, simplesmente, infinito. Cada resultado possível é chamado de ponto ou evento elementar"
      ],
      "metadata": {
        "id": "P11XtISMcjPr"
      }
    },
    {
      "cell_type": "markdown",
      "source": [
        "### Tipos de Eventos"
      ],
      "metadata": {
        "id": "aQpbKXPoShzC"
      }
    },
    {
      "cell_type": "markdown",
      "source": [
        "| Tipo                      | Descrição                                 | Exemplo                    |\n",
        "| ------------------------- | ----------------------------------------- | -------------------------- |\n",
        "| **Mutuamente exclusivos** | Um evento impede o outro                  | Cara ou coroa              |\n",
        "| **Independentes**         | Um evento não afeta o outro               | Lançar duas moedas         |\n",
        "| **Dependentes**           | Um evento altera a probabilidade do outro | Tirar cartas sem reposição |\n"
      ],
      "metadata": {
        "id": "SdYsTch_Sgtw"
      }
    },
    {
      "cell_type": "markdown",
      "source": [
        "### Lei da probabilidade composta"
      ],
      "metadata": {
        "id": "64rxgSgoSoZ9"
      }
    },
    {
      "cell_type": "markdown",
      "source": [
        "P(A∩B)=P(A)×P(B)"
      ],
      "metadata": {
        "id": "sH0t0QyxSqZj"
      }
    },
    {
      "cell_type": "code",
      "source": [
        "# Probabilidade de sair \"cara\" em dois lançamentos\n",
        "p_duas_caras = p_cara * p_cara\n",
        "p_duas_caras\n"
      ],
      "metadata": {
        "id": "YJpI8se_SaJS",
        "colab": {
          "base_uri": "https://localhost:8080/"
        },
        "outputId": "e4f81613-821f-42e4-b9e2-a2398c867fa6"
      },
      "execution_count": 5,
      "outputs": [
        {
          "output_type": "execute_result",
          "data": {
            "text/plain": [
              "0.25"
            ]
          },
          "metadata": {},
          "execution_count": 5
        }
      ]
    },
    {
      "cell_type": "markdown",
      "source": [
        "### Exercícis Práticos - Probabilidade\n",
        "\n",
        "1. Um dado de 6 faces é lançado uma vez.\n",
        "\n",
        "* Qual é a probabilidade de sair um número par?\n",
        "\n",
        "* Qual é a probabilidade de sair um número maior que 4?\n",
        "\n",
        "* Faça uma simulação em Python com 10.000 lançamentos para verificar se a probabilidade empírica (observada) se aproxima da teórica."
      ],
      "metadata": {
        "id": "3atBcWjIp_Rd"
      }
    },
    {
      "cell_type": "code",
      "source": [
        "p_teorica_impar = 3/6\n",
        "print(\"p_teorica_impar:\", p_teorica_impar)\n",
        "\n",
        "p_teorica_maior4 = 2/6\n",
        "print(\"p_teorica_maior4:\", p_teorica_maior4)\n",
        "\n",
        "lancamentos = np.random.randint(1, 7, 10000)\n",
        "\n",
        "p_emp_impar = np.sum(lancamentos%2!=0)/len(lancamentos)\n",
        "print(\"p_emp_impar:\", p_emp_impar)\n",
        "\n",
        "p_emp_maior4 = np.sum(lancamentos>4)/len(lancamentos)\n",
        "print (\"p_emp_maior4:\", p_emp_maior4)\n"
      ],
      "metadata": {
        "id": "9k78bbE0qqO6",
        "colab": {
          "base_uri": "https://localhost:8080/"
        },
        "outputId": "1152ed54-2fb3-4702-fbea-911140b2bb94"
      },
      "execution_count": 12,
      "outputs": [
        {
          "output_type": "stream",
          "name": "stdout",
          "text": [
            "p_teorica_impar: 0.5\n",
            "p_teorica_maior4: 0.3333333333333333\n",
            "p_emp_impar: 0.5031\n",
            "p_emp_maior4: 0.3296\n"
          ]
        }
      ]
    },
    {
      "cell_type": "code",
      "source": [
        "# Faça uma simulação em Python com 10.000 lançamentos para verificar se a probabilidade empírica (observada) se aproxima da teórica.\n",
        "lancamentos = np.random.randint(1, 7, 10000)\n",
        "lancamentos\n",
        "\n",
        "# Probabilidade de sair um número par\n",
        "p_par = np.mean(lancamentos % 2 == 0)\n",
        "p_par"
      ],
      "metadata": {
        "colab": {
          "base_uri": "https://localhost:8080/"
        },
        "id": "ZzGiZmaZ21zc",
        "outputId": "753dce35-c30e-4fda-fd5b-ea518d0aa48b"
      },
      "execution_count": 8,
      "outputs": [
        {
          "output_type": "execute_result",
          "data": {
            "text/plain": [
              "np.float64(0.4939)"
            ]
          },
          "metadata": {},
          "execution_count": 8
        }
      ]
    },
    {
      "cell_type": "markdown",
      "source": [
        "2. “Qual é a chance de um aluno atingir determinada nota?”\n",
        "Contexto: Suponha que temos um conjunto de dados com as notas de 1000 estudantes no ENEM (nota geral de 0 a 1000). Queremos saber:\n",
        "\n",
        "* Qual é a probabilidade de um aluno tirar nota acima de 700?\n",
        "\n",
        "* E a chance de tirar abaixo de 500?"
      ],
      "metadata": {
        "id": "DhC4ueVjqpRe"
      }
    },
    {
      "cell_type": "code",
      "source": [
        "#“Qual é a chance de um aluno atingir determinada nota?” Contexto: Suponha que temos um conjunto de dados com as notas de 1000 estudantes no ENEM (nota geral de 0 a 1000). Queremos saber:\n",
        "#Qual é a probabilidade de um aluno tirar nota acima de 700?\n",
        "#E a chance de tirar abaixo de 500?\n",
        "notas = np.random.randint(0, 1001, 1000)\n",
        "\n"
      ],
      "metadata": {
        "id": "QBnbI5kE-KW_"
      },
      "execution_count": 21,
      "outputs": []
    },
    {
      "cell_type": "code",
      "source": [
        "\n",
        "# Probabilidade de um aluno tirar nota acima de 700\n",
        "p_acima_700 = np.sum(notas > 700) / len(notas)\n",
        "p_acima_700\n",
        "print(\"p_acima_700\",p_acima_700)\n",
        "\n",
        "#E a chance de tirar abaixo de 500?\n",
        "p_abaixo_500 = np.sum(notas < 500) / len(notas)\n",
        "p_abaixo_500\n",
        "print(\"p_abaixo_500\",p_abaixo_500)\n"
      ],
      "metadata": {
        "id": "P3M2qG5qqqpe",
        "colab": {
          "base_uri": "https://localhost:8080/"
        },
        "outputId": "e088afdf-e433-47db-9c03-3abdd97a3844"
      },
      "execution_count": 22,
      "outputs": [
        {
          "output_type": "stream",
          "name": "stdout",
          "text": [
            "p_acima_700 0.306\n",
            "p_abaixo_500 0.503\n"
          ]
        }
      ]
    },
    {
      "cell_type": "code",
      "source": [
        "acima_700 = np.sum(notas > 700)/len(notas)\n",
        "acima_700"
      ],
      "metadata": {
        "colab": {
          "base_uri": "https://localhost:8080/"
        },
        "id": "PPoVljUA-ZUv",
        "outputId": "ea662562-02fc-45a7-e13f-bc3f47452c54"
      },
      "execution_count": 23,
      "outputs": [
        {
          "output_type": "execute_result",
          "data": {
            "text/plain": [
              "np.float64(0.306)"
            ]
          },
          "metadata": {},
          "execution_count": 23
        }
      ]
    },
    {
      "cell_type": "code",
      "source": [
        "acima_500 = np.sum(notas < 500)/len(notas)\n",
        "acima_500"
      ],
      "metadata": {
        "colab": {
          "base_uri": "https://localhost:8080/"
        },
        "id": "iuVutWuO-oQd",
        "outputId": "19847bc6-b3c7-4699-ed35-aed7c6871a01"
      },
      "execution_count": 24,
      "outputs": [
        {
          "output_type": "execute_result",
          "data": {
            "text/plain": [
              "np.float64(0.503)"
            ]
          },
          "metadata": {},
          "execution_count": 24
        }
      ]
    },
    {
      "cell_type": "markdown",
      "source": [
        "## 2. Distribuições de Probabilidade\n",
        "\n",
        "Uma distribuição de probabilidade descreve como os valores possíveis de uma variável aleatória se comportam.\n",
        "\n",
        "Isto é, como os valores de uma variável se distribuem."
      ],
      "metadata": {
        "id": "14q1kLS2Sw_L"
      }
    },
    {
      "cell_type": "markdown",
      "source": [
        "### 🔹 Distribuição Uniforme\n",
        "\n",
        "Todos os valores têm a mesma chance de ocorrer.\n",
        "\n",
        "Exemplo: probabilidade de um número entre 0 e 10 ser sorteado — todos têm a mesma chance."
      ],
      "metadata": {
        "id": "uFv3Xdt7S2Oq"
      }
    },
    {
      "cell_type": "code",
      "source": [
        "valores = np.random.uniform(0, 10, 1000)\n",
        "\n",
        "plt.hist(valores, bins=20, color='teal', edgecolor='black')\n",
        "plt.title('Distribuição Uniforme (0 a 10)')\n",
        "plt.show()"
      ],
      "metadata": {
        "id": "epMDSTxuSyE4",
        "colab": {
          "base_uri": "https://localhost:8080/",
          "height": 395
        },
        "outputId": "c1bb92fc-50fb-49f4-d9ab-e8cb943a6652"
      },
      "execution_count": 25,
      "outputs": [
        {
          "output_type": "display_data",
          "data": {
            "text/plain": [
              "<Figure size 800x400 with 1 Axes>"
            ],
            "image/png": "[encoded data removed]"
          },
          "metadata": {}
        }
      ]
    },
    {
      "cell_type": "markdown",
      "source": [
        "### 🔹 Distribuição Normal (Gaussiana)\n",
        "\n",
        "A famosa “curva em forma de sino”, muito comum em fenômenos naturais.\n",
        "\n",
        "Muitos fenômenos reais seguem essa distribuição — altura, peso, notas, consumo etc.\n",
        "\n",
        "Características: A média, mediana e moda são iguais, e os dados se concentram em torno do centro."
      ],
      "metadata": {
        "id": "6KY1nzW2S5tx"
      }
    },
    {
      "cell_type": "code",
      "source": [
        "dados_normais = np.random.normal(100, 15, 1000)\n",
        "plt.hist(dados_normais, bins=30, color='orange', edgecolor='black', alpha=0.7)\n",
        "plt.title('Distribuição Normal (média=100, desvio=15)')\n",
        "plt.show()"
      ],
      "metadata": {
        "id": "Z6p6JgMPS5y8",
        "colab": {
          "base_uri": "https://localhost:8080/",
          "height": 396
        },
        "outputId": "cf645f06-8ed2-42a6-8967-c6eb7e3b322e"
      },
      "execution_count": 26,
      "outputs": [
        {
          "output_type": "display_data",
          "data": {
            "text/plain": [
              "<Figure size 800x400 with 1 Axes>"
            ],
            "image/png": "[encoded data removed]"
          },
          "metadata": {}
        }
      ]
    },
    {
      "cell_type": "markdown",
      "source": [
        "Características:\n",
        "\n",
        "* Média, mediana e moda são iguais;\n",
        "\n",
        "* 68% dos valores estão a ±1σ da média;\n",
        "\n",
        "* 95% estão a ±2σ;\n",
        "\n",
        "* 99,7% estão a ±3σ."
      ],
      "metadata": {
        "id": "Z0SF2Fp3S-iD"
      }
    },
    {
      "cell_type": "code",
      "source": [
        "dados = np.random.normal(100, 15, 1000)\n",
        "sns.histplot(dados, kde=True, color='purple')\n",
        "plt.axvline(100, color='black', linestyle='--', label='Média')\n",
        "plt.axvline(115, color='red', linestyle='--', label='+1σ')\n",
        "plt.axvline(85, color='red', linestyle='--', label='-1σ')\n",
        "plt.legend()\n",
        "plt.title('Distribuição Normal e Desvio Padrão')\n",
        "plt.show()"
      ],
      "metadata": {
        "id": "y2VdM3_laGYd",
        "colab": {
          "base_uri": "https://localhost:8080/",
          "height": 395
        },
        "outputId": "119c566f-e4dc-4dc9-ca7b-67e5759de028"
      },
      "execution_count": 27,
      "outputs": [
        {
          "output_type": "display_data",
          "data": {
            "text/plain": [
              "<Figure size 800x400 with 1 Axes>"
            ],
            "image/png": "[encoded data removed]"
          },
          "metadata": {}
        }
      ]
    },
    {
      "cell_type": "markdown",
      "source": [
        "### Por que observar a distribuição é importante?\n",
        "\n",
        "| Motivo                 | O que permite fazer                           | Exemplo ENEM                                   |\n",
        "| ---------------------- | --------------------------------------------- | ---------------------------------------------- |\n",
        "| Entender comportamento | Saber se há simetria, dispersão, concentração | Ver que a maioria das notas está entre 500–700 |\n",
        "| Detectar outliers      | Identificar valores fora do padrão            | Um aluno com 950 pontos                        |\n",
        "| Escolher testes        | Aplicar métodos adequados                     | Ver se pode usar teste t                       |\n",
        "| Comunicar melhor       | Tornar resultados visuais e claros            | Mostrar curva de notas                         |\n",
        "| Apoiar decisões        | Tomar ações baseadas nos padrões              | Focar apoio em alunos com notas < 500          |\n"
      ],
      "metadata": {
        "id": "mVMpGZ2srBbQ"
      }
    },
    {
      "cell_type": "markdown",
      "source": [
        "## 3. Amostragem\n",
        "\n",
        "Nem sempre é possível coletar todos os dados de uma população.\n",
        "A amostragem é o processo de selecionar uma parte representativa dela."
      ],
      "metadata": {
        "id": "857cfEdrVQsh"
      }
    },
    {
      "cell_type": "markdown",
      "source": [
        "### “Como estimar o desempenho nacional com poucos dados?”\n",
        "\n",
        "📘 Contexto:\n",
        "Se fosse impossível analisar todos os milhões de estudantes que fazem o ENEM. Então usaríamos amostras representativas para estimar a média e a dispersão das notas nacionais.\n",
        "\n",
        "Interpretação prática:\n",
        "\n",
        "* Amostras pequenas (ex: 30 alunos) podem flutuar mais.\n",
        "\n",
        "* Amostras maiores (ex: 500 alunos) se aproximam da média real — Lei dos Grandes Números."
      ],
      "metadata": {
        "id": "9QYDNsWmoMWV"
      }
    },
    {
      "cell_type": "code",
      "source": [
        "# Exemplo prático de amostragem\n",
        "import pandas as pd\n",
        "\n",
        "# Simulando uma população de 1000 clientes\n",
        "populacao = pd.DataFrame({'idade': np.random.normal(35, 10, 1000).astype(int)})\n",
        "\n",
        "# Amostra aleatória simples de 100 clientes\n",
        "amostra = populacao.sample(100, random_state=42)\n",
        "\n",
        "print(\"Média da população:\", populacao['idade'].mean().round(2))\n",
        "print(\"Média da amostra:\", amostra['idade'].mean().round(2))"
      ],
      "metadata": {
        "id": "2WSjIkT4TEjj",
        "colab": {
          "base_uri": "https://localhost:8080/"
        },
        "outputId": "657a076e-6fb3-4d72-9856-712c65fe3c9e"
      },
      "execution_count": 32,
      "outputs": [
        {
          "output_type": "stream",
          "name": "stdout",
          "text": [
            "Média da população: 34.22\n",
            "Média da amostra: 32.56\n"
          ]
        }
      ]
    },
    {
      "cell_type": "markdown",
      "source": [
        "💡 Observe como a média da amostra tende a se aproximar da média da população — é o princípio da Lei dos Grandes Números."
      ],
      "metadata": {
        "id": "n0FRqA-AWQKc"
      }
    },
    {
      "cell_type": "markdown",
      "source": [
        "### Visualizando a amostragem"
      ],
      "metadata": {
        "id": "_zHi7E5baYFh"
      }
    },
    {
      "cell_type": "code",
      "source": [
        "sns.kdeplot(populacao['idade'], label='População', color='gray')\n",
        "sns.kdeplot(amostra['idade'], label='Amostra', color='orange')\n",
        "plt.title('Distribuição: População vs Amostra')\n",
        "plt.legend()\n",
        "plt.show()"
      ],
      "metadata": {
        "id": "C2aI67BVaZgn",
        "colab": {
          "base_uri": "https://localhost:8080/",
          "height": 419
        },
        "outputId": "f2e1d9d1-d09e-4274-e9ad-ef1f478de9a0"
      },
      "execution_count": 29,
      "outputs": [
        {
          "output_type": "display_data",
          "data": {
            "text/plain": [
              "<Figure size 800x400 with 1 Axes>"
            ],
            "image/png": "[encoded data removed]"
          },
          "metadata": {}
        }
      ]
    },
    {
      "cell_type": "markdown",
      "source": [
        "| Tipo                  | Descrição                                               | Exemplo                                  |\n",
        "| --------------------- | ------------------------------------------------------- | ---------------------------------------- |\n",
        "| **Aleatória simples** | Todos têm a mesma chance de serem escolhidos            | `np.random.choice()`                     |\n",
        "| **Sistemática**       | Seleciona a cada k elementos                            | Cada 10ª pessoa em uma lista             |\n",
        "| **Estratificada**     | Divide em grupos (estratos) e amostra proporcionalmente | Por gênero, idade, região                |\n",
        "| **Por conveniência**  | Escolhe os mais acessíveis (menos rigoroso)             | Pesquisar apenas alunos da própria turma |\n"
      ],
      "metadata": {
        "id": "xFbPWDb4rNng"
      }
    },
    {
      "cell_type": "markdown",
      "source": [
        "## Exercício Prático - Amostragem"
      ],
      "metadata": {
        "id": "mQ20XkTIp3Io"
      }
    },
    {
      "cell_type": "markdown",
      "source": [
        "Criando uma população fictícia de 10.000 estudantes, cujas notas sigam uma distribuição normal com: Média = 600; Desvio padrão = 100"
      ],
      "metadata": {
        "id": "UKPJL0h4r1Yx"
      }
    },
    {
      "cell_type": "code",
      "source": [
        "# População simulada\n",
        "np.random.seed(42)\n",
        "populacao = np.random.normal(600, 100, 10000)\n",
        "\n",
        "# Estatísticas da população\n",
        "print(f\"Média da população: {np.mean(populacao):.2f}\")\n",
        "print(f\"Desvio padrão da população: {np.std(populacao):.2f}\")"
      ],
      "metadata": {
        "id": "OyAc9CxJryVM",
        "colab": {
          "base_uri": "https://localhost:8080/"
        },
        "outputId": "b6adb66c-1b12-43c7-b007-754fbda47abd"
      },
      "execution_count": 38,
      "outputs": [
        {
          "output_type": "stream",
          "name": "stdout",
          "text": [
            "Média da população: 599.79\n",
            "Desvio padrão da população: 100.34\n"
          ]
        }
      ]
    },
    {
      "cell_type": "markdown",
      "source": [
        "Você é uma pesquisadora do INEP e quer estimar a média das notas de matemática do alunos do ensino fundamental. Analisar todos os estudantes do país é inviável, então você decide trabalhar com amostras.\n",
        "\n",
        "* Extraia três amostras de tamanhos diferentes (n=30, n=100, n=500).\n",
        "\n",
        "* Compare as médias."
      ],
      "metadata": {
        "id": "0P1U8TNBr_7Q"
      }
    },
    {
      "cell_type": "code",
      "source": [
        "populacao = pd.DataFrame({'notas': np.random.normal(5, 10, 1000).astype(int)})\n",
        "populacao\n"
      ],
      "metadata": {
        "id": "x4MzhPBFr7KD",
        "colab": {
          "base_uri": "https://localhost:8080/",
          "height": 424
        },
        "outputId": "37c21bb0-1f89-4290-e8a9-e3fe4f64a103"
      },
      "execution_count": 42,
      "outputs": [
        {
          "output_type": "execute_result",
          "data": {
            "text/plain": [
              "     notas\n",
              "0       16\n",
              "1      -13\n",
              "2        1\n",
              "3        4\n",
              "4        5\n",
              "..     ...\n",
              "995      0\n",
              "996      4\n",
              "997      0\n",
              "998     20\n",
              "999     -7\n",
              "\n",
              "[1000 rows x 1 columns]"
            ],
            "text/html": [
              "\n",
              "  <div id=\"df-a8096a28-8270-4312-888a-997db70dc76b\" class=\"colab-df-container\">\n",
              "    <div>\n",
              "<style scoped>\n",
              "    .dataframe tbody tr th:only-of-type {\n",
              "        vertical-align: middle;\n",
              "    }\n",
              "\n",
              "    .dataframe tbody tr th {\n",
              "        vertical-align: top;\n",
              "    }\n",
              "\n",
              "    .dataframe thead th {\n",
              "        text-align: right;\n",
              "    }\n",
              "</style>\n",
              "<table border=\"1\" class=\"dataframe\">\n",
              "  <thead>\n",
              "    <tr style=\"text-align: right;\">\n",
              "      <th></th>\n",
              "      <th>notas</th>\n",
              "    </tr>\n",
              "  </thead>\n",
              "  <tbody>\n",
              "    <tr>\n",
              "      <th>0</th>\n",
              "      <td>16</td>\n",
              "    </tr>\n",
              "    <tr>\n",
              "      <th>1</th>\n",
              "      <td>-13</td>\n",
              "    </tr>\n",
              "    <tr>\n",
              "      <th>2</th>\n",
              "      <td>1</td>\n",
              "    </tr>\n",
              "    <tr>\n",
              "      <th>3</th>\n",
              "      <td>4</td>\n",
              "    </tr>\n",
              "    <tr>\n",
              "      <th>4</th>\n",
              "      <td>5</td>\n",
              "    </tr>\n",
              "    <tr>\n",
              "      <th>...</th>\n",
              "      <td>...</td>\n",
              "    </tr>\n",
              "    <tr>\n",
              "      <th>995</th>\n",
              "      <td>0</td>\n",
              "    </tr>\n",
              "    <tr>\n",
              "      <th>996</th>\n",
              "      <td>4</td>\n",
              "    </tr>\n",
              "    <tr>\n",
              "      <th>997</th>\n",
              "      <td>0</td>\n",
              "    </tr>\n",
              "    <tr>\n",
              "      <th>998</th>\n",
              "      <td>20</td>\n",
              "    </tr>\n",
              "    <tr>\n",
              "      <th>999</th>\n",
              "      <td>-7</td>\n",
              "    </tr>\n",
              "  </tbody>\n",
              "</table>\n",
              "<p>1000 rows × 1 columns</p>\n",
              "</div>\n",
              "    <div class=\"colab-df-buttons\">\n",
              "\n",
              "  <div class=\"colab-df-container\">\n",
              "    <button class=\"colab-df-convert\" onclick=\"convertToInteractive('df-a8096a28-8270-4312-888a-997db70dc76b')\"\n",
              "            title=\"Convert this dataframe to an interactive table.\"\n",
              "            style=\"display:none;\">\n",
              "\n",
              "  <svg xmlns=\"http://www.w3.org/2000/svg\" height=\"24px\" viewBox=\"0 -960 960 960\">\n",
              "    <path d=\"M120-120v-720h720v720H120Zm60-500h600v-160H180v160Zm220 220h160v-160H400v160Zm0 220h160v-160H400v160ZM180-400h160v-160H180v160Zm440 0h160v-160H620v160ZM180-180h160v-160H180v160Zm440 0h160v-160H620v160Z\"/>\n",
              "  </svg>\n",
              "    </button>\n",
              "\n",
              "  <style>\n",
              "    .colab-df-container {\n",
              "      display:flex;\n",
              "      gap: 12px;\n",
              "    }\n",
              "\n",
              "    .colab-df-convert {\n",
              "      background-color: #E8F0FE;\n",
              "      border: none;\n",
              "      border-radius: 50%;\n",
              "      cursor: pointer;\n",
              "      display: none;\n",
              "      fill: #1967D2;\n",
              "      height: 32px;\n",
              "      padding: 0 0 0 0;\n",
              "      width: 32px;\n",
              "    }\n",
              "\n",
              "    .colab-df-convert:hover {\n",
              "      background-color: #E2EBFA;\n",
              "      box-shadow: 0px 1px 2px rgba(60, 64, 67, 0.3), 0px 1px 3px 1px rgba(60, 64, 67, 0.15);\n",
              "      fill: #174EA6;\n",
              "    }\n",
              "\n",
              "    .colab-df-buttons div {\n",
              "      margin-bottom: 4px;\n",
              "    }\n",
              "\n",
              "    [theme=dark] .colab-df-convert {\n",
              "      background-color: #3B4455;\n",
              "      fill: #D2E3FC;\n",
              "    }\n",
              "\n",
              "    [theme=dark] .colab-df-convert:hover {\n",
              "      background-color: #434B5C;\n",
              "      box-shadow: 0px 1px 3px 1px rgba(0, 0, 0, 0.15);\n",
              "      filter: drop-shadow(0px 1px 2px rgba(0, 0, 0, 0.3));\n",
              "      fill: #FFFFFF;\n",
              "    }\n",
              "  </style>\n",
              "\n",
              "    <script>\n",
              "      const buttonEl =\n",
              "        document.querySelector('#df-a8096a28-8270-4312-888a-997db70dc76b button.colab-df-convert');\n",
              "      buttonEl.style.display =\n",
              "        google.colab.kernel.accessAllowed ? 'block' : 'none';\n",
              "\n",
              "      async function convertToInteractive(key) {\n",
              "        const element = document.querySelector('#df-a8096a28-8270-4312-888a-997db70dc76b');\n",
              "        const dataTable =\n",
              "          await google.colab.kernel.invokeFunction('convertToInteractive',\n",
              "                                                    [key], {});\n",
              "        if (!dataTable) return;\n",
              "\n",
              "        const docLinkHtml = 'Like what you see? Visit the ' +\n",
              "          '<a target=\"_blank\" href=https://colab.research.google.com/notebooks/data_table.ipynb>data table notebook</a>'\n",
              "          + ' to learn more about interactive tables.';\n",
              "        element.innerHTML = '';\n",
              "        dataTable['output_type'] = 'display_data';\n",
              "        await google.colab.output.renderOutput(dataTable, element);\n",
              "        const docLink = document.createElement('div');\n",
              "        docLink.innerHTML = docLinkHtml;\n",
              "        element.appendChild(docLink);\n",
              "      }\n",
              "    </script>\n",
              "  </div>\n",
              "\n",
              "\n",
              "    <div id=\"df-75cf113e-5595-4b1c-9f27-50ba990fa380\">\n",
              "      <button class=\"colab-df-quickchart\" onclick=\"quickchart('df-75cf113e-5595-4b1c-9f27-50ba990fa380')\"\n",
              "                title=\"Suggest charts\"\n",
              "                style=\"display:none;\">\n",
              "\n",
              "<svg xmlns=\"http://www.w3.org/2000/svg\" height=\"24px\"viewBox=\"0 0 24 24\"\n",
              "     width=\"24px\">\n",
              "    <g>\n",
              "        <path d=\"M19 3H5c-1.1 0-2 .9-2 2v14c0 1.1.9 2 2 2h14c1.1 0 2-.9 2-2V5c0-1.1-.9-2-2-2zM9 17H7v-7h2v7zm4 0h-2V7h2v10zm4 0h-2v-4h2v4z\"/>\n",
              "    </g>\n",
              "</svg>\n",
              "      </button>\n",
              "\n",
              "<style>\n",
              "  .colab-df-quickchart {\n",
              "      --bg-color: #E8F0FE;\n",
              "      --fill-color: #1967D2;\n",
              "      --hover-bg-color: #E2EBFA;\n",
              "      --hover-fill-color: #174EA6;\n",
              "      --disabled-fill-color: #AAA;\n",
              "      --disabled-bg-color: #DDD;\n",
              "  }\n",
              "\n",
              "  [theme=dark] .colab-df-quickchart {\n",
              "      --bg-color: #3B4455;\n",
              "      --fill-color: #D2E3FC;\n",
              "      --hover-bg-color: #434B5C;\n",
              "      --hover-fill-color: #FFFFFF;\n",
              "      --disabled-bg-color: #3B4455;\n",
              "      --disabled-fill-color: #666;\n",
              "  }\n",
              "\n",
              "  .colab-df-quickchart {\n",
              "    background-color: var(--bg-color);\n",
              "    border: none;\n",
              "    border-radius: 50%;\n",
              "    cursor: pointer;\n",
              "    display: none;\n",
              "    fill: var(--fill-color);\n",
              "    height: 32px;\n",
              "    padding: 0;\n",
              "    width: 32px;\n",
              "  }\n",
              "\n",
              "  .colab-df-quickchart:hover {\n",
              "    background-color: var(--hover-bg-color);\n",
              "    box-shadow: 0 1px 2px rgba(60, 64, 67, 0.3), 0 1px 3px 1px rgba(60, 64, 67, 0.15);\n",
              "    fill: var(--button-hover-fill-color);\n",
              "  }\n",
              "\n",
              "  .colab-df-quickchart-complete:disabled,\n",
              "  .colab-df-quickchart-complete:disabled:hover {\n",
              "    background-color: var(--disabled-bg-color);\n",
              "    fill: var(--disabled-fill-color);\n",
              "    box-shadow: none;\n",
              "  }\n",
              "\n",
              "  .colab-df-spinner {\n",
              "    border: 2px solid var(--fill-color);\n",
              "    border-color: transparent;\n",
              "    border-bottom-color: var(--fill-color);\n",
              "    animation:\n",
              "      spin 1s steps(1) infinite;\n",
              "  }\n",
              "\n",
              "  @keyframes spin {\n",
              "    0% {\n",
              "      border-color: transparent;\n",
              "      border-bottom-color: var(--fill-color);\n",
              "      border-left-color: var(--fill-color);\n",
              "    }\n",
              "    20% {\n",
              "      border-color: transparent;\n",
              "      border-left-color: var(--fill-color);\n",
              "      border-top-color: var(--fill-color);\n",
              "    }\n",
              "    30% {\n",
              "      border-color: transparent;\n",
              "      border-left-color: var(--fill-color);\n",
              "      border-top-color: var(--fill-color);\n",
              "      border-right-color: var(--fill-color);\n",
              "    }\n",
              "    40% {\n",
              "      border-color: transparent;\n",
              "      border-right-color: var(--fill-color);\n",
              "      border-top-color: var(--fill-color);\n",
              "    }\n",
              "    60% {\n",
              "      border-color: transparent;\n",
              "      border-right-color: var(--fill-color);\n",
              "    }\n",
              "    80% {\n",
              "      border-color: transparent;\n",
              "      border-right-color: var(--fill-color);\n",
              "      border-bottom-color: var(--fill-color);\n",
              "    }\n",
              "    90% {\n",
              "      border-color: transparent;\n",
              "      border-bottom-color: var(--fill-color);\n",
              "    }\n",
              "  }\n",
              "</style>\n",
              "\n",
              "      <script>\n",
              "        async function quickchart(key) {\n",
              "          const quickchartButtonEl =\n",
              "            document.querySelector('#' + key + ' button');\n",
              "          quickchartButtonEl.disabled = true;  // To prevent multiple clicks.\n",
              "          quickchartButtonEl.classList.add('colab-df-spinner');\n",
              "          try {\n",
              "            const charts = await google.colab.kernel.invokeFunction(\n",
              "                'suggestCharts', [key], {});\n",
              "          } catch (error) {\n",
              "            console.error('Error during call to suggestCharts:', error);\n",
              "          }\n",
              "          quickchartButtonEl.classList.remove('colab-df-spinner');\n",
              "          quickchartButtonEl.classList.add('colab-df-quickchart-complete');\n",
              "        }\n",
              "        (() => {\n",
              "          let quickchartButtonEl =\n",
              "            document.querySelector('#df-75cf113e-5595-4b1c-9f27-50ba990fa380 button');\n",
              "          quickchartButtonEl.style.display =\n",
              "            google.colab.kernel.accessAllowed ? 'block' : 'none';\n",
              "        })();\n",
              "      </script>\n",
              "    </div>\n",
              "\n",
              "  <div id=\"id_1f4ad326-01e9-4930-b27f-abad97ef7a8f\">\n",
              "    <style>\n",
              "      .colab-df-generate {\n",
              "        background-color: #E8F0FE;\n",
              "        border: none;\n",
              "        border-radius: 50%;\n",
              "        cursor: pointer;\n",
              "        display: none;\n",
              "        fill: #1967D2;\n",
              "        height: 32px;\n",
              "        padding: 0 0 0 0;\n",
              "        width: 32px;\n",
              "      }\n",
              "\n",
              "      .colab-df-generate:hover {\n",
              "        background-color: #E2EBFA;\n",
              "        box-shadow: 0px 1px 2px rgba(60, 64, 67, 0.3), 0px 1px 3px 1px rgba(60, 64, 67, 0.15);\n",
              "        fill: #174EA6;\n",
              "      }\n",
              "\n",
              "      [theme=dark] .colab-df-generate {\n",
              "        background-color: #3B4455;\n",
              "        fill: #D2E3FC;\n",
              "      }\n",
              "\n",
              "      [theme=dark] .colab-df-generate:hover {\n",
              "        background-color: #434B5C;\n",
              "        box-shadow: 0px 1px 3px 1px rgba(0, 0, 0, 0.15);\n",
              "        filter: drop-shadow(0px 1px 2px rgba(0, 0, 0, 0.3));\n",
              "        fill: #FFFFFF;\n",
              "      }\n",
              "    </style>\n",
              "    <button class=\"colab-df-generate\" onclick=\"generateWithVariable('populacao')\"\n",
              "            title=\"Generate code using this dataframe.\"\n",
              "            style=\"display:none;\">\n",
              "\n",
              "  <svg xmlns=\"http://www.w3.org/2000/svg\" height=\"24px\"viewBox=\"0 0 24 24\"\n",
              "       width=\"24px\">\n",
              "    <path d=\"M7,19H8.4L18.45,9,17,7.55,7,17.6ZM5,21V16.75L18.45,3.32a2,2,0,0,1,2.83,0l1.4,1.43a1.91,1.91,0,0,1,.58,1.4,1.91,1.91,0,0,1-.58,1.4L9.25,21ZM18.45,9,17,7.55Zm-12,3A5.31,5.31,0,0,0,4.9,8.1,5.31,5.31,0,0,0,1,6.5,5.31,5.31,0,0,0,4.9,4.9,5.31,5.31,0,0,0,6.5,1,5.31,5.31,0,0,0,8.1,4.9,5.31,5.31,0,0,0,12,6.5,5.46,5.46,0,0,0,6.5,12Z\"/>\n",
              "  </svg>\n",
              "    </button>\n",
              "    <script>\n",
              "      (() => {\n",
              "      const buttonEl =\n",
              "        document.querySelector('#id_1f4ad326-01e9-4930-b27f-abad97ef7a8f button.colab-df-generate');\n",
              "      buttonEl.style.display =\n",
              "        google.colab.kernel.accessAllowed ? 'block' : 'none';\n",
              "\n",
              "      buttonEl.onclick = () => {\n",
              "        google.colab.notebook.generateWithVariable('populacao');\n",
              "      }\n",
              "      })();\n",
              "    </script>\n",
              "  </div>\n",
              "\n",
              "    </div>\n",
              "  </div>\n"
            ],
            "application/vnd.google.colaboratory.intrinsic+json": {
              "type": "dataframe",
              "variable_name": "populacao",
              "summary": "{\n  \"name\": \"populacao\",\n  \"rows\": 1000,\n  \"fields\": [\n    {\n      \"column\": \"notas\",\n      \"properties\": {\n        \"dtype\": \"number\",\n        \"std\": 9,\n        \"min\": -22,\n        \"max\": 37,\n        \"num_unique_values\": 55,\n        \"samples\": [\n          -10,\n          6,\n          17\n        ],\n        \"semantic_type\": \"\",\n        \"description\": \"\"\n      }\n    }\n  ]\n}"
            }
          },
          "metadata": {},
          "execution_count": 42
        }
      ]
    },
    {
      "cell_type": "markdown",
      "source": [
        "### Responda e discuta:\n",
        "\n",
        "* O que acontece com a média da amostra à medida que o tamanho da amostra aumenta?\n",
        "\n",
        "* As amostras pequenas são mais ou menos parecidas com a população?\n",
        "\n",
        "* Que riscos existem se a amostra for pequena ou enviesada?"
      ],
      "metadata": {
        "id": "96PwRRBCsHZI"
      }
    },
    {
      "cell_type": "markdown",
      "source": [
        "## 4. Introdução à Inferência"
      ],
      "metadata": {
        "id": "A27oig3FdfEg"
      }
    },
    {
      "cell_type": "markdown",
      "source": [
        "A Inferência Estatística tem por objetivo realizar afirmações sobre a população a partir da amostra (Upton and Cook 2014Upton, Graham, and Ian Cook. 2014. A Dictionary of Statistics 3e. Oxford university press.), ou seja, trata-se de um conjunto de procedimentos, baseados na Teoria de Probabilidades, para generalizar características de população a partir da informação contida na amostra."
      ],
      "metadata": {
        "id": "M3xhqSXTdihk"
      }
    },
    {
      "cell_type": "markdown",
      "source": [
        "![download.png](data:image/png;base64,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)"
      ],
      "metadata": {
        "id": "59EYz-k7drzE"
      }
    },
    {
      "cell_type": "markdown",
      "source": [
        "## 5. Testes de Hipóteses"
      ],
      "metadata": {
        "id": "nAfK7RPwosx0"
      }
    },
    {
      "cell_type": "markdown",
      "source": [
        "http://leg.ufpr.br/~ara/teach/ebas/handout_10.html"
      ],
      "metadata": {
        "id": "H_f7OrGCuuBn"
      }
    },
    {
      "cell_type": "markdown",
      "source": [
        "Um teste de hipótese é um experimento mental com os dados.\n",
        "Ele responde à pergunta:\n",
        "\n",
        "“O que estou vendo aqui é apenas acaso, ou existe algo real acontecendo?”\n",
        "\n",
        "🔹 Exemplo intuitivo\n",
        "\n",
        "Imagine que você coordena um cursinho e quer saber:\n",
        "\n",
        "“As alunas que participaram do grupo de estudos tiveram notas melhores no ENEM?”\n",
        "\n",
        "Você tem duas turmas:\n",
        "\n",
        "* Turma A (controle): não participou dos grupos de estudos\n",
        "\n",
        "* Turma B (participante): participou\n",
        "\n",
        "Agora você tem duas médias diferentes:\n",
        "\n",
        "* Média da Turma A = 610\n",
        "\n",
        "* Média da Turma B = 640\n",
        "\n",
        "A diferença é de 30 pontos.\n",
        "Mas será que isso é real ou poderia ter acontecido por acaso?\n",
        "\n",
        "Os testes de hipóteses servem para avaliar se a diferença observada é estatisticamente significativa, isto é, se provavelmente não é fruto do acaso.\n",
        "\n",
        "| Tipo                          | Nome          | Significado               |\n",
        "| ----------------------------- | ------------- | ------------------------- |\n",
        "| **H₀ (hipótese nula)**        | “Nada mudou.” | As médias são iguais.     |\n",
        "| **H₁ (hipótese alternativa)** | “Algo mudou.” | As médias são diferentes. |\n"
      ],
      "metadata": {
        "id": "mGnP69CtvInc"
      }
    },
    {
      "cell_type": "markdown",
      "source": [
        "---\n",
        "O termo hipótese remete a formulação provisória, suposição, pressuposição ou ideia. O termo teste remete a exame, verificação, pôr à prova.\n",
        "\n",
        "Assim, os testes de hipóteses fornecem ferramentas que nos permitem verificar, rejeitar ou não rejeitar, uma hipótese sobre a população através das evidências fornecidas pela amostra.\n",
        "\n",
        "Através dos métodos estatísticos de teste de hipótese, desejamos verificar se as informações contidas na amostra contrariam ou não afirmações feitas sobre a população."
      ],
      "metadata": {
        "id": "oL9p3I3oWSZq"
      }
    },
    {
      "cell_type": "markdown",
      "source": [
        "Desta forma, uma hipótese estatística é uma afirmação sobre as características da distribuição de uma variável aleatória de uma população de interesse, em geral sobre seus parâmetros."
      ],
      "metadata": {
        "id": "A8edrci8m3o_"
      }
    },
    {
      "cell_type": "markdown",
      "source": [
        "### Etapas de um teste de hipóteses\n",
        "\n",
        "1. Formular hipóteses\n",
        "\n",
        "* H₀ (nula)\n",
        "\n",
        "* H₁ (alternativa)\n",
        "\n",
        "2. Definir nível de significância (geralmente α = 0.05)\n",
        "\n",
        "3. Calcular a estatística de teste e o valor-p (p-value)\n",
        "\n",
        "4. Tomar decisão\n",
        "\n",
        "* Se p < α → rejeita H₀\n",
        "\n",
        "* Se p ≥ α → não rejeita H₀"
      ],
      "metadata": {
        "id": "K1lvyOqJWVsV"
      }
    },
    {
      "cell_type": "code",
      "source": [],
      "metadata": {
        "id": "C2wJJB_vvoOU"
      },
      "execution_count": null,
      "outputs": []
    },
    {
      "cell_type": "markdown",
      "source": [
        "* “Há diferença significativa entre escolas públicas e particulares?”\n",
        "\n",
        "Queremos responder a pergunta: “Os alunos de escolas particulares têm desempenho médio maior que os de escolas públicas no ENEM?”"
      ],
      "metadata": {
        "id": "r3Q-fNQQo6cT"
      }
    },
    {
      "cell_type": "code",
      "source": [
        "publica = np.random.normal(580, 90, 300)\n",
        "particular = np.random.normal(630, 85, 300)\n",
        "\n",
        "t, p = stats.ttest_ind(publica, particular)\n",
        "print(f\"t = {t:.2f}, p = {p:.4f}\")\n",
        "\n",
        "if p < 0.05:\n",
        "    print(\"➡️ Rejeitamos H₀: há diferença significativa entre as médias.\")\n",
        "else:\n",
        "    print(\"✅ Não rejeitamos H₀: não há diferença estatisticamente significativa.\")\n"
      ],
      "metadata": {
        "id": "6wJvIvARvpKd",
        "colab": {
          "base_uri": "https://localhost:8080/"
        },
        "outputId": "9b8ff2a7-83a7-4f57-e56a-0e229663121a"
      },
      "execution_count": 31,
      "outputs": [
        {
          "output_type": "stream",
          "name": "stdout",
          "text": [
            "t = -7.39, p = 0.0000\n",
            "➡️ Rejeitamos H₀: há diferença significativa entre as médias.\n"
          ]
        }
      ]
    },
    {
      "cell_type": "markdown",
      "source": [
        "## Exercício Prático - Teste de Hipótese"
      ],
      "metadata": {
        "id": "zA8Rd8Q6WrIB"
      }
    },
    {
      "cell_type": "code",
      "source": [],
      "metadata": {
        "id": "tLw4n19mWtJm"
      },
      "execution_count": null,
      "outputs": []
    },
    {
      "cell_type": "markdown",
      "source": [
        "## Referências\n",
        "\n",
        "* http://www.leg.ufpr.br/~paulojus/estbas/\n",
        "* http://leg.ufpr.br/~ara/teach/ebas/handout_06.html"
      ],
      "metadata": {
        "id": "50VEd_mJbuK8"
      }
    }
  ]
}