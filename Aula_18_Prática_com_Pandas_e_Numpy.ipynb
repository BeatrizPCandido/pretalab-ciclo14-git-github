{
  "nbformat": 4,
  "nbformat_minor": 0,
  "metadata": {
    "colab": {
      "provenance": [],
      "include_colab_link": true
    },
    "kernelspec": {
      "name": "python3",
      "display_name": "Python 3"
    },
    "language_info": {
      "name": "python"
    }
  },
  "cells": [
    {
      "cell_type": "markdown",
      "metadata": {
        "id": "view-in-github",
        "colab_type": "text"
      },
      "source": [
        "<a href=\"https://colab.research.google.com/github/BeatrizPCandido/pretalab-ciclo14-git-github/blob/main/Aula_18_Pr%C3%A1tica_com_Pandas_e_Numpy.ipynb\" target=\"_parent\"><img src=\"https://colab.research.google.com/assets/colab-badge.svg\" alt=\"Open In Colab\"/></a>"
      ]
    },
    {
      "cell_type": "markdown",
      "source": [
        "# Prática de exercícios de manipulação de dados utilizando Pandas e Numpy"
      ],
      "metadata": {
        "id": "4OqUClZI3ti1"
      }
    },
    {
      "cell_type": "markdown",
      "source": [
        "## Objetivos\n",
        "\n",
        "- Consolidar os aprendizados das aulas anteriores.  \n",
        "- Realizar **pré-processamento, agregações, agrupamentos e análises** com dados reais.  \n",
        "- Aplicar **funções personalizadas e visualizações simples** sobre o dataset de vendas de café.\n"
      ],
      "metadata": {
        "id": "lh8VSIxC49TL"
      }
    },
    {
      "cell_type": "markdown",
      "source": [
        "## Dataset: `vendas_cafeteria.csv`\n",
        "\n",
        "Cada linha representa uma venda individual em uma cafeteria, incluindo:\n",
        "- Data e hora da compra  \n",
        "- Tipo de café vendido  \n",
        "- Valor pago  \n",
        "- Tipo de pagamento  \n",
        "- Período do dia, dia da semana e mês  \n",
        "\n",
        "Arquivo: https://drive.google.com/file/d/1JUF9uI-nC0bbcWjBw8hnPWRcGNLfWNqI/view?usp=sharing"
      ],
      "metadata": {
        "id": "4uEV5SRI5Gv3"
      }
    },
    {
      "cell_type": "markdown",
      "source": [
        "### Exercício 1 — Inspeção inicial\n",
        "\n",
        "1. Importar bibliotecas e carregar o dataset\n",
        "\n",
        "2. Mostre as 5 primeiras linhas do dataset.\n",
        "\n",
        "3. Verifique o tipo de dados de cada coluna.\n",
        "\n",
        "4. Verifique se há valores ausentes."
      ],
      "metadata": {
        "id": "WTw63TCl43Kd"
      }
    },
    {
      "cell_type": "code",
      "source": [
        "import pandas as pd\n",
        "\n",
        "vendas = pd.read_csv('vendas_cafeteria.csv')"
      ],
      "metadata": {
        "id": "r8JzfK7a3uHV"
      },
      "execution_count": 2,
      "outputs": []
    },
    {
      "cell_type": "code",
      "source": [
        "#Mostre as 5 primeiras linhas do dataset.\n",
        "vendas.head()"
      ],
      "metadata": {
        "colab": {
          "base_uri": "https://localhost:8080/",
          "height": 206
        },
        "id": "YmfnT6uKDoX-",
        "outputId": "d8367f1f-3ba4-4117-8866-18e07a393718"
      },
      "execution_count": 3,
      "outputs": [
        {
          "output_type": "execute_result",
          "data": {
            "text/plain": [
              "   hora_do_dia tipo_pagamento  valor         nome_cafe periodo_do_dia  \\\n",
              "0           10         cartão   38.7             Latte          Manhã   \n",
              "1           12         cartão   38.7  Chocolate Quente          Tarde   \n",
              "2           12         cartão   38.7  Chocolate Quente          Tarde   \n",
              "3           13         cartão   28.9    Café Americano          Tarde   \n",
              "4           13         cartão   38.7             Latte          Tarde   \n",
              "\n",
              "  dia_da_semana    mes  ordem_dia  ordem_mes        data             hora  \n",
              "0           Sex  Março          5          3  2024-03-01  10:15:50.520000  \n",
              "1           Sex  Março          5          3  2024-03-01  12:19:22.539000  \n",
              "2           Sex  Março          5          3  2024-03-01  12:20:18.089000  \n",
              "3           Sex  Março          5          3  2024-03-01  13:46:33.006000  \n",
              "4           Sex  Março          5          3  2024-03-01  13:48:14.626000  "
            ],
            "text/html": [
              "\n",
              "  <div id=\"df-4c1d55d2-2bdc-4709-a31c-f5ec5c3ebd3d\" class=\"colab-df-container\">\n",
              "    <div>\n",
              "<style scoped>\n",
              "    .dataframe tbody tr th:only-of-type {\n",
              "        vertical-align: middle;\n",
              "    }\n",
              "\n",
              "    .dataframe tbody tr th {\n",
              "        vertical-align: top;\n",
              "    }\n",
              "\n",
              "    .dataframe thead th {\n",
              "        text-align: right;\n",
              "    }\n",
              "</style>\n",
              "<table border=\"1\" class=\"dataframe\">\n",
              "  <thead>\n",
              "    <tr style=\"text-align: right;\">\n",
              "      <th></th>\n",
              "      <th>hora_do_dia</th>\n",
              "      <th>tipo_pagamento</th>\n",
              "      <th>valor</th>\n",
              "      <th>nome_cafe</th>\n",
              "      <th>periodo_do_dia</th>\n",
              "      <th>dia_da_semana</th>\n",
              "      <th>mes</th>\n",
              "      <th>ordem_dia</th>\n",
              "      <th>ordem_mes</th>\n",
              "      <th>data</th>\n",
              "      <th>hora</th>\n",
              "    </tr>\n",
              "  </thead>\n",
              "  <tbody>\n",
              "    <tr>\n",
              "      <th>0</th>\n",
              "      <td>10</td>\n",
              "      <td>cartão</td>\n",
              "      <td>38.7</td>\n",
              "      <td>Latte</td>\n",
              "      <td>Manhã</td>\n",
              "      <td>Sex</td>\n",
              "      <td>Março</td>\n",
              "      <td>5</td>\n",
              "      <td>3</td>\n",
              "      <td>2024-03-01</td>\n",
              "      <td>10:15:50.520000</td>\n",
              "    </tr>\n",
              "    <tr>\n",
              "      <th>1</th>\n",
              "      <td>12</td>\n",
              "      <td>cartão</td>\n",
              "      <td>38.7</td>\n",
              "      <td>Chocolate Quente</td>\n",
              "      <td>Tarde</td>\n",
              "      <td>Sex</td>\n",
              "      <td>Março</td>\n",
              "      <td>5</td>\n",
              "      <td>3</td>\n",
              "      <td>2024-03-01</td>\n",
              "      <td>12:19:22.539000</td>\n",
              "    </tr>\n",
              "    <tr>\n",
              "      <th>2</th>\n",
              "      <td>12</td>\n",
              "      <td>cartão</td>\n",
              "      <td>38.7</td>\n",
              "      <td>Chocolate Quente</td>\n",
              "      <td>Tarde</td>\n",
              "      <td>Sex</td>\n",
              "      <td>Março</td>\n",
              "      <td>5</td>\n",
              "      <td>3</td>\n",
              "      <td>2024-03-01</td>\n",
              "      <td>12:20:18.089000</td>\n",
              "    </tr>\n",
              "    <tr>\n",
              "      <th>3</th>\n",
              "      <td>13</td>\n",
              "      <td>cartão</td>\n",
              "      <td>28.9</td>\n",
              "      <td>Café Americano</td>\n",
              "      <td>Tarde</td>\n",
              "      <td>Sex</td>\n",
              "      <td>Março</td>\n",
              "      <td>5</td>\n",
              "      <td>3</td>\n",
              "      <td>2024-03-01</td>\n",
              "      <td>13:46:33.006000</td>\n",
              "    </tr>\n",
              "    <tr>\n",
              "      <th>4</th>\n",
              "      <td>13</td>\n",
              "      <td>cartão</td>\n",
              "      <td>38.7</td>\n",
              "      <td>Latte</td>\n",
              "      <td>Tarde</td>\n",
              "      <td>Sex</td>\n",
              "      <td>Março</td>\n",
              "      <td>5</td>\n",
              "      <td>3</td>\n",
              "      <td>2024-03-01</td>\n",
              "      <td>13:48:14.626000</td>\n",
              "    </tr>\n",
              "  </tbody>\n",
              "</table>\n",
              "</div>\n",
              "    <div class=\"colab-df-buttons\">\n",
              "\n",
              "  <div class=\"colab-df-container\">\n",
              "    <button class=\"colab-df-convert\" onclick=\"convertToInteractive('df-4c1d55d2-2bdc-4709-a31c-f5ec5c3ebd3d')\"\n",
              "            title=\"Convert this dataframe to an interactive table.\"\n",
              "            style=\"display:none;\">\n",
              "\n",
              "  <svg xmlns=\"http://www.w3.org/2000/svg\" height=\"24px\" viewBox=\"0 -960 960 960\">\n",
              "    <path d=\"M120-120v-720h720v720H120Zm60-500h600v-160H180v160Zm220 220h160v-160H400v160Zm0 220h160v-160H400v160ZM180-400h160v-160H180v160Zm440 0h160v-160H620v160ZM180-180h160v-160H180v160Zm440 0h160v-160H620v160Z\"/>\n",
              "  </svg>\n",
              "    </button>\n",
              "\n",
              "  <style>\n",
              "    .colab-df-container {\n",
              "      display:flex;\n",
              "      gap: 12px;\n",
              "    }\n",
              "\n",
              "    .colab-df-convert {\n",
              "      background-color: #E8F0FE;\n",
              "      border: none;\n",
              "      border-radius: 50%;\n",
              "      cursor: pointer;\n",
              "      display: none;\n",
              "      fill: #1967D2;\n",
              "      height: 32px;\n",
              "      padding: 0 0 0 0;\n",
              "      width: 32px;\n",
              "    }\n",
              "\n",
              "    .colab-df-convert:hover {\n",
              "      background-color: #E2EBFA;\n",
              "      box-shadow: 0px 1px 2px rgba(60, 64, 67, 0.3), 0px 1px 3px 1px rgba(60, 64, 67, 0.15);\n",
              "      fill: #174EA6;\n",
              "    }\n",
              "\n",
              "    .colab-df-buttons div {\n",
              "      margin-bottom: 4px;\n",
              "    }\n",
              "\n",
              "    [theme=dark] .colab-df-convert {\n",
              "      background-color: #3B4455;\n",
              "      fill: #D2E3FC;\n",
              "    }\n",
              "\n",
              "    [theme=dark] .colab-df-convert:hover {\n",
              "      background-color: #434B5C;\n",
              "      box-shadow: 0px 1px 3px 1px rgba(0, 0, 0, 0.15);\n",
              "      filter: drop-shadow(0px 1px 2px rgba(0, 0, 0, 0.3));\n",
              "      fill: #FFFFFF;\n",
              "    }\n",
              "  </style>\n",
              "\n",
              "    <script>\n",
              "      const buttonEl =\n",
              "        document.querySelector('#df-4c1d55d2-2bdc-4709-a31c-f5ec5c3ebd3d button.colab-df-convert');\n",
              "      buttonEl.style.display =\n",
              "        google.colab.kernel.accessAllowed ? 'block' : 'none';\n",
              "\n",
              "      async function convertToInteractive(key) {\n",
              "        const element = document.querySelector('#df-4c1d55d2-2bdc-4709-a31c-f5ec5c3ebd3d');\n",
              "        const dataTable =\n",
              "          await google.colab.kernel.invokeFunction('convertToInteractive',\n",
              "                                                    [key], {});\n",
              "        if (!dataTable) return;\n",
              "\n",
              "        const docLinkHtml = 'Like what you see? Visit the ' +\n",
              "          '<a target=\"_blank\" href=https://colab.research.google.com/notebooks/data_table.ipynb>data table notebook</a>'\n",
              "          + ' to learn more about interactive tables.';\n",
              "        element.innerHTML = '';\n",
              "        dataTable['output_type'] = 'display_data';\n",
              "        await google.colab.output.renderOutput(dataTable, element);\n",
              "        const docLink = document.createElement('div');\n",
              "        docLink.innerHTML = docLinkHtml;\n",
              "        element.appendChild(docLink);\n",
              "      }\n",
              "    </script>\n",
              "  </div>\n",
              "\n",
              "\n",
              "    <div id=\"df-c8063a98-09e7-4fa7-8db4-a73a695fe13f\">\n",
              "      <button class=\"colab-df-quickchart\" onclick=\"quickchart('df-c8063a98-09e7-4fa7-8db4-a73a695fe13f')\"\n",
              "                title=\"Suggest charts\"\n",
              "                style=\"display:none;\">\n",
              "\n",
              "<svg xmlns=\"http://www.w3.org/2000/svg\" height=\"24px\"viewBox=\"0 0 24 24\"\n",
              "     width=\"24px\">\n",
              "    <g>\n",
              "        <path d=\"M19 3H5c-1.1 0-2 .9-2 2v14c0 1.1.9 2 2 2h14c1.1 0 2-.9 2-2V5c0-1.1-.9-2-2-2zM9 17H7v-7h2v7zm4 0h-2V7h2v10zm4 0h-2v-4h2v4z\"/>\n",
              "    </g>\n",
              "</svg>\n",
              "      </button>\n",
              "\n",
              "<style>\n",
              "  .colab-df-quickchart {\n",
              "      --bg-color: #E8F0FE;\n",
              "      --fill-color: #1967D2;\n",
              "      --hover-bg-color: #E2EBFA;\n",
              "      --hover-fill-color: #174EA6;\n",
              "      --disabled-fill-color: #AAA;\n",
              "      --disabled-bg-color: #DDD;\n",
              "  }\n",
              "\n",
              "  [theme=dark] .colab-df-quickchart {\n",
              "      --bg-color: #3B4455;\n",
              "      --fill-color: #D2E3FC;\n",
              "      --hover-bg-color: #434B5C;\n",
              "      --hover-fill-color: #FFFFFF;\n",
              "      --disabled-bg-color: #3B4455;\n",
              "      --disabled-fill-color: #666;\n",
              "  }\n",
              "\n",
              "  .colab-df-quickchart {\n",
              "    background-color: var(--bg-color);\n",
              "    border: none;\n",
              "    border-radius: 50%;\n",
              "    cursor: pointer;\n",
              "    display: none;\n",
              "    fill: var(--fill-color);\n",
              "    height: 32px;\n",
              "    padding: 0;\n",
              "    width: 32px;\n",
              "  }\n",
              "\n",
              "  .colab-df-quickchart:hover {\n",
              "    background-color: var(--hover-bg-color);\n",
              "    box-shadow: 0 1px 2px rgba(60, 64, 67, 0.3), 0 1px 3px 1px rgba(60, 64, 67, 0.15);\n",
              "    fill: var(--button-hover-fill-color);\n",
              "  }\n",
              "\n",
              "  .colab-df-quickchart-complete:disabled,\n",
              "  .colab-df-quickchart-complete:disabled:hover {\n",
              "    background-color: var(--disabled-bg-color);\n",
              "    fill: var(--disabled-fill-color);\n",
              "    box-shadow: none;\n",
              "  }\n",
              "\n",
              "  .colab-df-spinner {\n",
              "    border: 2px solid var(--fill-color);\n",
              "    border-color: transparent;\n",
              "    border-bottom-color: var(--fill-color);\n",
              "    animation:\n",
              "      spin 1s steps(1) infinite;\n",
              "  }\n",
              "\n",
              "  @keyframes spin {\n",
              "    0% {\n",
              "      border-color: transparent;\n",
              "      border-bottom-color: var(--fill-color);\n",
              "      border-left-color: var(--fill-color);\n",
              "    }\n",
              "    20% {\n",
              "      border-color: transparent;\n",
              "      border-left-color: var(--fill-color);\n",
              "      border-top-color: var(--fill-color);\n",
              "    }\n",
              "    30% {\n",
              "      border-color: transparent;\n",
              "      border-left-color: var(--fill-color);\n",
              "      border-top-color: var(--fill-color);\n",
              "      border-right-color: var(--fill-color);\n",
              "    }\n",
              "    40% {\n",
              "      border-color: transparent;\n",
              "      border-right-color: var(--fill-color);\n",
              "      border-top-color: var(--fill-color);\n",
              "    }\n",
              "    60% {\n",
              "      border-color: transparent;\n",
              "      border-right-color: var(--fill-color);\n",
              "    }\n",
              "    80% {\n",
              "      border-color: transparent;\n",
              "      border-right-color: var(--fill-color);\n",
              "      border-bottom-color: var(--fill-color);\n",
              "    }\n",
              "    90% {\n",
              "      border-color: transparent;\n",
              "      border-bottom-color: var(--fill-color);\n",
              "    }\n",
              "  }\n",
              "</style>\n",
              "\n",
              "      <script>\n",
              "        async function quickchart(key) {\n",
              "          const quickchartButtonEl =\n",
              "            document.querySelector('#' + key + ' button');\n",
              "          quickchartButtonEl.disabled = true;  // To prevent multiple clicks.\n",
              "          quickchartButtonEl.classList.add('colab-df-spinner');\n",
              "          try {\n",
              "            const charts = await google.colab.kernel.invokeFunction(\n",
              "                'suggestCharts', [key], {});\n",
              "          } catch (error) {\n",
              "            console.error('Error during call to suggestCharts:', error);\n",
              "          }\n",
              "          quickchartButtonEl.classList.remove('colab-df-spinner');\n",
              "          quickchartButtonEl.classList.add('colab-df-quickchart-complete');\n",
              "        }\n",
              "        (() => {\n",
              "          let quickchartButtonEl =\n",
              "            document.querySelector('#df-c8063a98-09e7-4fa7-8db4-a73a695fe13f button');\n",
              "          quickchartButtonEl.style.display =\n",
              "            google.colab.kernel.accessAllowed ? 'block' : 'none';\n",
              "        })();\n",
              "      </script>\n",
              "    </div>\n",
              "\n",
              "    </div>\n",
              "  </div>\n"
            ],
            "application/vnd.google.colaboratory.intrinsic+json": {
              "type": "dataframe",
              "variable_name": "vendas",
              "summary": "{\n  \"name\": \"vendas\",\n  \"rows\": 3547,\n  \"fields\": [\n    {\n      \"column\": \"hora_do_dia\",\n      \"properties\": {\n        \"dtype\": \"number\",\n        \"std\": 4,\n        \"min\": 6,\n        \"max\": 22,\n        \"num_unique_values\": 17,\n        \"samples\": [\n          10,\n          12,\n          18\n        ],\n        \"semantic_type\": \"\",\n        \"description\": \"\"\n      }\n    },\n    {\n      \"column\": \"tipo_pagamento\",\n      \"properties\": {\n        \"dtype\": \"category\",\n        \"num_unique_values\": 2,\n        \"samples\": [\n          \"dinheiro\",\n          \"cart\\u00e3o\"\n        ],\n        \"semantic_type\": \"\",\n        \"description\": \"\"\n      }\n    },\n    {\n      \"column\": \"valor\",\n      \"properties\": {\n        \"dtype\": \"number\",\n        \"std\": 4.877753703590957,\n        \"min\": 18.12,\n        \"max\": 38.7,\n        \"num_unique_values\": 13,\n        \"samples\": [\n          25.96,\n          35.76\n        ],\n        \"semantic_type\": \"\",\n        \"description\": \"\"\n      }\n    },\n    {\n      \"column\": \"nome_cafe\",\n      \"properties\": {\n        \"dtype\": \"category\",\n        \"num_unique_values\": 8,\n        \"samples\": [\n          \"Chocolate Quente\",\n          \"Cortado\"\n        ],\n        \"semantic_type\": \"\",\n        \"description\": \"\"\n      }\n    },\n    {\n      \"column\": \"periodo_do_dia\",\n      \"properties\": {\n        \"dtype\": \"category\",\n        \"num_unique_values\": 3,\n        \"samples\": [\n          \"Manh\\u00e3\",\n          \"Tarde\"\n        ],\n        \"semantic_type\": \"\",\n        \"description\": \"\"\n      }\n    },\n    {\n      \"column\": \"dia_da_semana\",\n      \"properties\": {\n        \"dtype\": \"category\",\n        \"num_unique_values\": 7,\n        \"samples\": [\n          \"Sex\",\n          \"S\\u00e1b\"\n        ],\n        \"semantic_type\": \"\",\n        \"description\": \"\"\n      }\n    },\n    {\n      \"column\": \"mes\",\n      \"properties\": {\n        \"dtype\": \"category\",\n        \"num_unique_values\": 12,\n        \"samples\": [\n          \"Janeiro\",\n          \"Dezembro\"\n        ],\n        \"semantic_type\": \"\",\n        \"description\": \"\"\n      }\n    },\n    {\n      \"column\": \"ordem_dia\",\n      \"properties\": {\n        \"dtype\": \"number\",\n        \"std\": 1,\n        \"min\": 1,\n        \"max\": 7,\n        \"num_unique_values\": 7,\n        \"samples\": [\n          5,\n          6\n        ],\n        \"semantic_type\": \"\",\n        \"description\": \"\"\n      }\n    },\n    {\n      \"column\": \"ordem_mes\",\n      \"properties\": {\n        \"dtype\": \"number\",\n        \"std\": 3,\n        \"min\": 1,\n        \"max\": 12,\n        \"num_unique_values\": 12,\n        \"samples\": [\n          1,\n          12\n        ],\n        \"semantic_type\": \"\",\n        \"description\": \"\"\n      }\n    },\n    {\n      \"column\": \"data\",\n      \"properties\": {\n        \"dtype\": \"object\",\n        \"num_unique_values\": 381,\n        \"samples\": [\n          \"2024-11-25\",\n          \"2024-09-12\"\n        ],\n        \"semantic_type\": \"\",\n        \"description\": \"\"\n      }\n    },\n    {\n      \"column\": \"hora\",\n      \"properties\": {\n        \"dtype\": \"object\",\n        \"num_unique_values\": 3547,\n        \"samples\": [\n          \"19:43:26.234000\",\n          \"21:57:30.270000\"\n        ],\n        \"semantic_type\": \"\",\n        \"description\": \"\"\n      }\n    }\n  ]\n}"
            }
          },
          "metadata": {},
          "execution_count": 3
        }
      ]
    },
    {
      "cell_type": "code",
      "source": [
        "#Verifique o tipo de dados de cada coluna.\n",
        "vendas.dtypes"
      ],
      "metadata": {
        "id": "hQrc0FodBUm4",
        "colab": {
          "base_uri": "https://localhost:8080/",
          "height": 429
        },
        "outputId": "17d81f1a-898d-402c-ee16-6832f098abcd"
      },
      "execution_count": 4,
      "outputs": [
        {
          "output_type": "execute_result",
          "data": {
            "text/plain": [
              "hora_do_dia         int64\n",
              "tipo_pagamento     object\n",
              "valor             float64\n",
              "nome_cafe          object\n",
              "periodo_do_dia     object\n",
              "dia_da_semana      object\n",
              "mes                object\n",
              "ordem_dia           int64\n",
              "ordem_mes           int64\n",
              "data               object\n",
              "hora               object\n",
              "dtype: object"
            ],
            "text/html": [
              "<div>\n",
              "<style scoped>\n",
              "    .dataframe tbody tr th:only-of-type {\n",
              "        vertical-align: middle;\n",
              "    }\n",
              "\n",
              "    .dataframe tbody tr th {\n",
              "        vertical-align: top;\n",
              "    }\n",
              "\n",
              "    .dataframe thead th {\n",
              "        text-align: right;\n",
              "    }\n",
              "</style>\n",
              "<table border=\"1\" class=\"dataframe\">\n",
              "  <thead>\n",
              "    <tr style=\"text-align: right;\">\n",
              "      <th></th>\n",
              "      <th>0</th>\n",
              "    </tr>\n",
              "  </thead>\n",
              "  <tbody>\n",
              "    <tr>\n",
              "      <th>hora_do_dia</th>\n",
              "      <td>int64</td>\n",
              "    </tr>\n",
              "    <tr>\n",
              "      <th>tipo_pagamento</th>\n",
              "      <td>object</td>\n",
              "    </tr>\n",
              "    <tr>\n",
              "      <th>valor</th>\n",
              "      <td>float64</td>\n",
              "    </tr>\n",
              "    <tr>\n",
              "      <th>nome_cafe</th>\n",
              "      <td>object</td>\n",
              "    </tr>\n",
              "    <tr>\n",
              "      <th>periodo_do_dia</th>\n",
              "      <td>object</td>\n",
              "    </tr>\n",
              "    <tr>\n",
              "      <th>dia_da_semana</th>\n",
              "      <td>object</td>\n",
              "    </tr>\n",
              "    <tr>\n",
              "      <th>mes</th>\n",
              "      <td>object</td>\n",
              "    </tr>\n",
              "    <tr>\n",
              "      <th>ordem_dia</th>\n",
              "      <td>int64</td>\n",
              "    </tr>\n",
              "    <tr>\n",
              "      <th>ordem_mes</th>\n",
              "      <td>int64</td>\n",
              "    </tr>\n",
              "    <tr>\n",
              "      <th>data</th>\n",
              "      <td>object</td>\n",
              "    </tr>\n",
              "    <tr>\n",
              "      <th>hora</th>\n",
              "      <td>object</td>\n",
              "    </tr>\n",
              "  </tbody>\n",
              "</table>\n",
              "</div><br><label><b>dtype:</b> object</label>"
            ]
          },
          "metadata": {},
          "execution_count": 4
        }
      ]
    },
    {
      "cell_type": "code",
      "source": [
        "vendas.info()"
      ],
      "metadata": {
        "colab": {
          "base_uri": "https://localhost:8080/"
        },
        "id": "E5JprCkUEPhQ",
        "outputId": "591b02ba-d552-4ca9-f8f8-fc7cf14e54f8"
      },
      "execution_count": 6,
      "outputs": [
        {
          "output_type": "stream",
          "name": "stdout",
          "text": [
            "<class 'pandas.core.frame.DataFrame'>\n",
            "RangeIndex: 3547 entries, 0 to 3546\n",
            "Data columns (total 11 columns):\n",
            " #   Column          Non-Null Count  Dtype  \n",
            "---  ------          --------------  -----  \n",
            " 0   hora_do_dia     3547 non-null   int64  \n",
            " 1   tipo_pagamento  2698 non-null   object \n",
            " 2   valor           3547 non-null   float64\n",
            " 3   nome_cafe       3547 non-null   object \n",
            " 4   periodo_do_dia  3547 non-null   object \n",
            " 5   dia_da_semana   3547 non-null   object \n",
            " 6   mes             3547 non-null   object \n",
            " 7   ordem_dia       3547 non-null   int64  \n",
            " 8   ordem_mes       3547 non-null   int64  \n",
            " 9   data            3547 non-null   object \n",
            " 10  hora            3547 non-null   object \n",
            "dtypes: float64(1), int64(3), object(7)\n",
            "memory usage: 304.9+ KB\n"
          ]
        }
      ]
    },
    {
      "cell_type": "code",
      "source": [
        "#Verifique se há valores ausentes.\n",
        "vendas.isnull().sum()"
      ],
      "metadata": {
        "colab": {
          "base_uri": "https://localhost:8080/",
          "height": 429
        },
        "id": "fEUtNaOxD54k",
        "outputId": "c2d277e9-4257-4aa5-c6b9-4e05bcf99514"
      },
      "execution_count": 5,
      "outputs": [
        {
          "output_type": "execute_result",
          "data": {
            "text/plain": [
              "hora_do_dia         0\n",
              "tipo_pagamento    849\n",
              "valor               0\n",
              "nome_cafe           0\n",
              "periodo_do_dia      0\n",
              "dia_da_semana       0\n",
              "mes                 0\n",
              "ordem_dia           0\n",
              "ordem_mes           0\n",
              "data                0\n",
              "hora                0\n",
              "dtype: int64"
            ],
            "text/html": [
              "<div>\n",
              "<style scoped>\n",
              "    .dataframe tbody tr th:only-of-type {\n",
              "        vertical-align: middle;\n",
              "    }\n",
              "\n",
              "    .dataframe tbody tr th {\n",
              "        vertical-align: top;\n",
              "    }\n",
              "\n",
              "    .dataframe thead th {\n",
              "        text-align: right;\n",
              "    }\n",
              "</style>\n",
              "<table border=\"1\" class=\"dataframe\">\n",
              "  <thead>\n",
              "    <tr style=\"text-align: right;\">\n",
              "      <th></th>\n",
              "      <th>0</th>\n",
              "    </tr>\n",
              "  </thead>\n",
              "  <tbody>\n",
              "    <tr>\n",
              "      <th>hora_do_dia</th>\n",
              "      <td>0</td>\n",
              "    </tr>\n",
              "    <tr>\n",
              "      <th>tipo_pagamento</th>\n",
              "      <td>849</td>\n",
              "    </tr>\n",
              "    <tr>\n",
              "      <th>valor</th>\n",
              "      <td>0</td>\n",
              "    </tr>\n",
              "    <tr>\n",
              "      <th>nome_cafe</th>\n",
              "      <td>0</td>\n",
              "    </tr>\n",
              "    <tr>\n",
              "      <th>periodo_do_dia</th>\n",
              "      <td>0</td>\n",
              "    </tr>\n",
              "    <tr>\n",
              "      <th>dia_da_semana</th>\n",
              "      <td>0</td>\n",
              "    </tr>\n",
              "    <tr>\n",
              "      <th>mes</th>\n",
              "      <td>0</td>\n",
              "    </tr>\n",
              "    <tr>\n",
              "      <th>ordem_dia</th>\n",
              "      <td>0</td>\n",
              "    </tr>\n",
              "    <tr>\n",
              "      <th>ordem_mes</th>\n",
              "      <td>0</td>\n",
              "    </tr>\n",
              "    <tr>\n",
              "      <th>data</th>\n",
              "      <td>0</td>\n",
              "    </tr>\n",
              "    <tr>\n",
              "      <th>hora</th>\n",
              "      <td>0</td>\n",
              "    </tr>\n",
              "  </tbody>\n",
              "</table>\n",
              "</div><br><label><b>dtype:</b> int64</label>"
            ]
          },
          "metadata": {},
          "execution_count": 5
        }
      ]
    },
    {
      "cell_type": "markdown",
      "source": [
        "### Exercício 2 — Padronização e limpeza básica\n",
        "\n",
        "1. Verifique se há valores ausentes na coluna `tipo_pagamento`.\n",
        "\n",
        "2. Substitua qualquer valor ausente em `tipo_pagamento` por \"indefinido\".\n",
        "\n",
        "3. Verifique novamente se ainda há valores nulos."
      ],
      "metadata": {
        "id": "jdlkypEu47M1"
      }
    },
    {
      "cell_type": "code",
      "source": [
        "#Verifique se há valores ausentes na coluna tipo_pagamento.\n",
        "vendas['tipo_pagamento'].isnull().sum()"
      ],
      "metadata": {
        "id": "X4aXLEtE47QK",
        "colab": {
          "base_uri": "https://localhost:8080/"
        },
        "outputId": "862d3206-9d46-4b38-ff13-a1f9b70feefe"
      },
      "execution_count": 7,
      "outputs": [
        {
          "output_type": "execute_result",
          "data": {
            "text/plain": [
              "np.int64(849)"
            ]
          },
          "metadata": {},
          "execution_count": 7
        }
      ]
    },
    {
      "cell_type": "code",
      "source": [
        "# Substitua qualquer valor ausente em tipo_pagamento por \"indefinido\".\n",
        "vendas['tipo_pagamento'].fillna('indefinido', inplace=True)"
      ],
      "metadata": {
        "colab": {
          "base_uri": "https://localhost:8080/"
        },
        "id": "cI6QRfoKE2Rf",
        "outputId": "ef468a16-b1ae-4880-c7e5-d1cd624ef91f"
      },
      "execution_count": 8,
      "outputs": [
        {
          "output_type": "stream",
          "name": "stderr",
          "text": [
            "/tmp/ipython-input-2666151634.py:2: FutureWarning: A value is trying to be set on a copy of a DataFrame or Series through chained assignment using an inplace method.\n",
            "The behavior will change in pandas 3.0. This inplace method will never work because the intermediate object on which we are setting values always behaves as a copy.\n",
            "\n",
            "For example, when doing 'df[col].method(value, inplace=True)', try using 'df.method({col: value}, inplace=True)' or df[col] = df[col].method(value) instead, to perform the operation inplace on the original object.\n",
            "\n",
            "\n",
            "  vendas['tipo_pagamento'].fillna('indefinido', inplace=True)\n"
          ]
        }
      ]
    },
    {
      "cell_type": "code",
      "source": [
        "# Verifique novamente se ainda há valores nulos.\n",
        "vendas.isnull().sum()"
      ],
      "metadata": {
        "colab": {
          "base_uri": "https://localhost:8080/",
          "height": 429
        },
        "id": "grrcXnpfE7xO",
        "outputId": "dfd41164-3c60-4cc0-de7d-db3e6d0cd32e"
      },
      "execution_count": 9,
      "outputs": [
        {
          "output_type": "execute_result",
          "data": {
            "text/plain": [
              "hora_do_dia       0\n",
              "tipo_pagamento    0\n",
              "valor             0\n",
              "nome_cafe         0\n",
              "periodo_do_dia    0\n",
              "dia_da_semana     0\n",
              "mes               0\n",
              "ordem_dia         0\n",
              "ordem_mes         0\n",
              "data              0\n",
              "hora              0\n",
              "dtype: int64"
            ],
            "text/html": [
              "<div>\n",
              "<style scoped>\n",
              "    .dataframe tbody tr th:only-of-type {\n",
              "        vertical-align: middle;\n",
              "    }\n",
              "\n",
              "    .dataframe tbody tr th {\n",
              "        vertical-align: top;\n",
              "    }\n",
              "\n",
              "    .dataframe thead th {\n",
              "        text-align: right;\n",
              "    }\n",
              "</style>\n",
              "<table border=\"1\" class=\"dataframe\">\n",
              "  <thead>\n",
              "    <tr style=\"text-align: right;\">\n",
              "      <th></th>\n",
              "      <th>0</th>\n",
              "    </tr>\n",
              "  </thead>\n",
              "  <tbody>\n",
              "    <tr>\n",
              "      <th>hora_do_dia</th>\n",
              "      <td>0</td>\n",
              "    </tr>\n",
              "    <tr>\n",
              "      <th>tipo_pagamento</th>\n",
              "      <td>0</td>\n",
              "    </tr>\n",
              "    <tr>\n",
              "      <th>valor</th>\n",
              "      <td>0</td>\n",
              "    </tr>\n",
              "    <tr>\n",
              "      <th>nome_cafe</th>\n",
              "      <td>0</td>\n",
              "    </tr>\n",
              "    <tr>\n",
              "      <th>periodo_do_dia</th>\n",
              "      <td>0</td>\n",
              "    </tr>\n",
              "    <tr>\n",
              "      <th>dia_da_semana</th>\n",
              "      <td>0</td>\n",
              "    </tr>\n",
              "    <tr>\n",
              "      <th>mes</th>\n",
              "      <td>0</td>\n",
              "    </tr>\n",
              "    <tr>\n",
              "      <th>ordem_dia</th>\n",
              "      <td>0</td>\n",
              "    </tr>\n",
              "    <tr>\n",
              "      <th>ordem_mes</th>\n",
              "      <td>0</td>\n",
              "    </tr>\n",
              "    <tr>\n",
              "      <th>data</th>\n",
              "      <td>0</td>\n",
              "    </tr>\n",
              "    <tr>\n",
              "      <th>hora</th>\n",
              "      <td>0</td>\n",
              "    </tr>\n",
              "  </tbody>\n",
              "</table>\n",
              "</div><br><label><b>dtype:</b> int64</label>"
            ]
          },
          "metadata": {},
          "execution_count": 9
        }
      ]
    },
    {
      "cell_type": "markdown",
      "source": [
        "### Exercício 3\n",
        "1. Quais são todos os tipos de cafés vendidos?\n",
        "\n",
        "2. Qual tipo de café teve o maior número de vendas?\n",
        "\n",
        "3. Qual tipo de café gerou o maior faturamento total?\n",
        "\n",
        "4. Qual a média de valor por tipo de café?"
      ],
      "metadata": {
        "id": "mLYRLx9_6E-H"
      }
    },
    {
      "cell_type": "code",
      "source": [
        "# Quais são todos os tipos de cafés vendidos?\n",
        "vendas['nome_cafe'].unique()"
      ],
      "metadata": {
        "id": "-ayvxE2N6FGq",
        "colab": {
          "base_uri": "https://localhost:8080/"
        },
        "outputId": "a81b0a8e-7408-4699-e611-9c90135ebfbb"
      },
      "execution_count": 12,
      "outputs": [
        {
          "output_type": "execute_result",
          "data": {
            "text/plain": [
              "array(['Latte', 'Chocolate Quente', 'Café Americano',\n",
              "       'Americano com Leite', 'Cocoa', 'Cortado', 'Expresso', 'Capuccino'],\n",
              "      dtype=object)"
            ]
          },
          "metadata": {},
          "execution_count": 12
        }
      ]
    },
    {
      "cell_type": "code",
      "source": [
        "# Qual tipo de café teve o maior número de vendas?\n",
        "vendas['nome_cafe'].value_counts()"
      ],
      "metadata": {
        "colab": {
          "base_uri": "https://localhost:8080/",
          "height": 366
        },
        "id": "9OsC4RokGs9v",
        "outputId": "52bad227-8bc1-4e1e-850c-1182087c7912"
      },
      "execution_count": 13,
      "outputs": [
        {
          "output_type": "execute_result",
          "data": {
            "text/plain": [
              "nome_cafe\n",
              "Americano com Leite    809\n",
              "Latte                  757\n",
              "Café Americano         564\n",
              "Capuccino              486\n",
              "Cortado                287\n",
              "Chocolate Quente       276\n",
              "Cocoa                  239\n",
              "Expresso               129\n",
              "Name: count, dtype: int64"
            ],
            "text/html": [
              "<div>\n",
              "<style scoped>\n",
              "    .dataframe tbody tr th:only-of-type {\n",
              "        vertical-align: middle;\n",
              "    }\n",
              "\n",
              "    .dataframe tbody tr th {\n",
              "        vertical-align: top;\n",
              "    }\n",
              "\n",
              "    .dataframe thead th {\n",
              "        text-align: right;\n",
              "    }\n",
              "</style>\n",
              "<table border=\"1\" class=\"dataframe\">\n",
              "  <thead>\n",
              "    <tr style=\"text-align: right;\">\n",
              "      <th></th>\n",
              "      <th>count</th>\n",
              "    </tr>\n",
              "    <tr>\n",
              "      <th>nome_cafe</th>\n",
              "      <th></th>\n",
              "    </tr>\n",
              "  </thead>\n",
              "  <tbody>\n",
              "    <tr>\n",
              "      <th>Americano com Leite</th>\n",
              "      <td>809</td>\n",
              "    </tr>\n",
              "    <tr>\n",
              "      <th>Latte</th>\n",
              "      <td>757</td>\n",
              "    </tr>\n",
              "    <tr>\n",
              "      <th>Café Americano</th>\n",
              "      <td>564</td>\n",
              "    </tr>\n",
              "    <tr>\n",
              "      <th>Capuccino</th>\n",
              "      <td>486</td>\n",
              "    </tr>\n",
              "    <tr>\n",
              "      <th>Cortado</th>\n",
              "      <td>287</td>\n",
              "    </tr>\n",
              "    <tr>\n",
              "      <th>Chocolate Quente</th>\n",
              "      <td>276</td>\n",
              "    </tr>\n",
              "    <tr>\n",
              "      <th>Cocoa</th>\n",
              "      <td>239</td>\n",
              "    </tr>\n",
              "    <tr>\n",
              "      <th>Expresso</th>\n",
              "      <td>129</td>\n",
              "    </tr>\n",
              "  </tbody>\n",
              "</table>\n",
              "</div><br><label><b>dtype:</b> int64</label>"
            ]
          },
          "metadata": {},
          "execution_count": 13
        }
      ]
    },
    {
      "cell_type": "code",
      "source": [
        "# Qual tipo de café gerou o maior faturamento total?\n",
        "vendas.groupby('nome_cafe')['valor'].sum().sort_values(ascending=False)\n"
      ],
      "metadata": {
        "colab": {
          "base_uri": "https://localhost:8080/",
          "height": 366
        },
        "id": "GH61BPBTGs6h",
        "outputId": "8fe2b7c0-b96b-490b-f031-e31a3ba431bb"
      },
      "execution_count": 22,
      "outputs": [
        {
          "output_type": "execute_result",
          "data": {
            "text/plain": [
              "nome_cafe\n",
              "Latte                  26875.30\n",
              "Americano com Leite    24751.12\n",
              "Capuccino              17439.14\n",
              "Café Americano         14650.26\n",
              "Chocolate Quente        9933.46\n",
              "Cocoa                   8521.16\n",
              "Cortado                 7384.86\n",
              "Expresso                2690.28\n",
              "Name: valor, dtype: float64"
            ],
            "text/html": [
              "<div>\n",
              "<style scoped>\n",
              "    .dataframe tbody tr th:only-of-type {\n",
              "        vertical-align: middle;\n",
              "    }\n",
              "\n",
              "    .dataframe tbody tr th {\n",
              "        vertical-align: top;\n",
              "    }\n",
              "\n",
              "    .dataframe thead th {\n",
              "        text-align: right;\n",
              "    }\n",
              "</style>\n",
              "<table border=\"1\" class=\"dataframe\">\n",
              "  <thead>\n",
              "    <tr style=\"text-align: right;\">\n",
              "      <th></th>\n",
              "      <th>valor</th>\n",
              "    </tr>\n",
              "    <tr>\n",
              "      <th>nome_cafe</th>\n",
              "      <th></th>\n",
              "    </tr>\n",
              "  </thead>\n",
              "  <tbody>\n",
              "    <tr>\n",
              "      <th>Latte</th>\n",
              "      <td>26875.30</td>\n",
              "    </tr>\n",
              "    <tr>\n",
              "      <th>Americano com Leite</th>\n",
              "      <td>24751.12</td>\n",
              "    </tr>\n",
              "    <tr>\n",
              "      <th>Capuccino</th>\n",
              "      <td>17439.14</td>\n",
              "    </tr>\n",
              "    <tr>\n",
              "      <th>Café Americano</th>\n",
              "      <td>14650.26</td>\n",
              "    </tr>\n",
              "    <tr>\n",
              "      <th>Chocolate Quente</th>\n",
              "      <td>9933.46</td>\n",
              "    </tr>\n",
              "    <tr>\n",
              "      <th>Cocoa</th>\n",
              "      <td>8521.16</td>\n",
              "    </tr>\n",
              "    <tr>\n",
              "      <th>Cortado</th>\n",
              "      <td>7384.86</td>\n",
              "    </tr>\n",
              "    <tr>\n",
              "      <th>Expresso</th>\n",
              "      <td>2690.28</td>\n",
              "    </tr>\n",
              "  </tbody>\n",
              "</table>\n",
              "</div><br><label><b>dtype:</b> float64</label>"
            ]
          },
          "metadata": {},
          "execution_count": 22
        }
      ]
    },
    {
      "cell_type": "code",
      "source": [
        "#Qual a média de valor por tipo de café?\n",
        "vendas.groupby('nome_cafe')['valor'].mean().sort_values(ascending=False)\n"
      ],
      "metadata": {
        "colab": {
          "base_uri": "https://localhost:8080/",
          "height": 366
        },
        "id": "9hvyNVGsJyp6",
        "outputId": "5827912e-6af7-4020-e241-a80247540c5d"
      },
      "execution_count": 23,
      "outputs": [
        {
          "output_type": "execute_result",
          "data": {
            "text/plain": [
              "nome_cafe\n",
              "Chocolate Quente       35.990797\n",
              "Capuccino              35.883004\n",
              "Cocoa                  35.653389\n",
              "Latte                  35.502378\n",
              "Americano com Leite    30.594710\n",
              "Café Americano         25.975638\n",
              "Cortado                25.731220\n",
              "Expresso               20.854884\n",
              "Name: valor, dtype: float64"
            ],
            "text/html": [
              "<div>\n",
              "<style scoped>\n",
              "    .dataframe tbody tr th:only-of-type {\n",
              "        vertical-align: middle;\n",
              "    }\n",
              "\n",
              "    .dataframe tbody tr th {\n",
              "        vertical-align: top;\n",
              "    }\n",
              "\n",
              "    .dataframe thead th {\n",
              "        text-align: right;\n",
              "    }\n",
              "</style>\n",
              "<table border=\"1\" class=\"dataframe\">\n",
              "  <thead>\n",
              "    <tr style=\"text-align: right;\">\n",
              "      <th></th>\n",
              "      <th>valor</th>\n",
              "    </tr>\n",
              "    <tr>\n",
              "      <th>nome_cafe</th>\n",
              "      <th></th>\n",
              "    </tr>\n",
              "  </thead>\n",
              "  <tbody>\n",
              "    <tr>\n",
              "      <th>Chocolate Quente</th>\n",
              "      <td>35.990797</td>\n",
              "    </tr>\n",
              "    <tr>\n",
              "      <th>Capuccino</th>\n",
              "      <td>35.883004</td>\n",
              "    </tr>\n",
              "    <tr>\n",
              "      <th>Cocoa</th>\n",
              "      <td>35.653389</td>\n",
              "    </tr>\n",
              "    <tr>\n",
              "      <th>Latte</th>\n",
              "      <td>35.502378</td>\n",
              "    </tr>\n",
              "    <tr>\n",
              "      <th>Americano com Leite</th>\n",
              "      <td>30.594710</td>\n",
              "    </tr>\n",
              "    <tr>\n",
              "      <th>Café Americano</th>\n",
              "      <td>25.975638</td>\n",
              "    </tr>\n",
              "    <tr>\n",
              "      <th>Cortado</th>\n",
              "      <td>25.731220</td>\n",
              "    </tr>\n",
              "    <tr>\n",
              "      <th>Expresso</th>\n",
              "      <td>20.854884</td>\n",
              "    </tr>\n",
              "  </tbody>\n",
              "</table>\n",
              "</div><br><label><b>dtype:</b> float64</label>"
            ]
          },
          "metadata": {},
          "execution_count": 23
        }
      ]
    },
    {
      "cell_type": "markdown",
      "source": [
        "### Exercício 4\n",
        "\n",
        "1. Qual total de vendas por dia da semana? Ordene o resultado de forma crescente.\n",
        "\n",
        "2. Em qual horário do dia ocorrem mais vendas?\n",
        "\n",
        "3. Qual o valor médio das vendas por mês?\n",
        "\n",
        "4. Há diferença no ticket médio entre pagamentos em cartão e dinheiro?"
      ],
      "metadata": {
        "id": "C6ncN7nY6Y-S"
      }
    },
    {
      "cell_type": "code",
      "source": [
        "# Qual total de vendas por dia da semana? Ordene o resultado de forma crescente.\n",
        "vendas['dia_da_semana'].value_counts()"
      ],
      "metadata": {
        "id": "pnBTH9gi6d4Y",
        "colab": {
          "base_uri": "https://localhost:8080/",
          "height": 335
        },
        "outputId": "767d2565-050d-41d9-9667-baddc251edbc"
      },
      "execution_count": 28,
      "outputs": [
        {
          "output_type": "execute_result",
          "data": {
            "text/plain": [
              "dia_da_semana\n",
              "Ter    572\n",
              "Seg    544\n",
              "Sex    532\n",
              "Qui    510\n",
              "Qua    500\n",
              "Sáb    470\n",
              "Dom    419\n",
              "Name: count, dtype: int64"
            ],
            "text/html": [
              "<div>\n",
              "<style scoped>\n",
              "    .dataframe tbody tr th:only-of-type {\n",
              "        vertical-align: middle;\n",
              "    }\n",
              "\n",
              "    .dataframe tbody tr th {\n",
              "        vertical-align: top;\n",
              "    }\n",
              "\n",
              "    .dataframe thead th {\n",
              "        text-align: right;\n",
              "    }\n",
              "</style>\n",
              "<table border=\"1\" class=\"dataframe\">\n",
              "  <thead>\n",
              "    <tr style=\"text-align: right;\">\n",
              "      <th></th>\n",
              "      <th>count</th>\n",
              "    </tr>\n",
              "    <tr>\n",
              "      <th>dia_da_semana</th>\n",
              "      <th></th>\n",
              "    </tr>\n",
              "  </thead>\n",
              "  <tbody>\n",
              "    <tr>\n",
              "      <th>Ter</th>\n",
              "      <td>572</td>\n",
              "    </tr>\n",
              "    <tr>\n",
              "      <th>Seg</th>\n",
              "      <td>544</td>\n",
              "    </tr>\n",
              "    <tr>\n",
              "      <th>Sex</th>\n",
              "      <td>532</td>\n",
              "    </tr>\n",
              "    <tr>\n",
              "      <th>Qui</th>\n",
              "      <td>510</td>\n",
              "    </tr>\n",
              "    <tr>\n",
              "      <th>Qua</th>\n",
              "      <td>500</td>\n",
              "    </tr>\n",
              "    <tr>\n",
              "      <th>Sáb</th>\n",
              "      <td>470</td>\n",
              "    </tr>\n",
              "    <tr>\n",
              "      <th>Dom</th>\n",
              "      <td>419</td>\n",
              "    </tr>\n",
              "  </tbody>\n",
              "</table>\n",
              "</div><br><label><b>dtype:</b> int64</label>"
            ]
          },
          "metadata": {},
          "execution_count": 28
        }
      ]
    },
    {
      "cell_type": "code",
      "source": [
        "vendas.groupby('dia_da_semana')['valor'].mean().sort_values(ascending=False)"
      ],
      "metadata": {
        "colab": {
          "base_uri": "https://localhost:8080/",
          "height": 335
        },
        "id": "JpudxmJBSxsO",
        "outputId": "15821c33-5128-46d4-d16d-b1bde3d18f5d"
      },
      "execution_count": 29,
      "outputs": [
        {
          "output_type": "execute_result",
          "data": {
            "text/plain": [
              "dia_da_semana\n",
              "Seg    31.917463\n",
              "Dom    31.828305\n",
              "Ter    31.762902\n",
              "Sex    31.583947\n",
              "Qui    31.551765\n",
              "Qua    31.500920\n",
              "Sáb    31.347915\n",
              "Name: valor, dtype: float64"
            ],
            "text/html": [
              "<div>\n",
              "<style scoped>\n",
              "    .dataframe tbody tr th:only-of-type {\n",
              "        vertical-align: middle;\n",
              "    }\n",
              "\n",
              "    .dataframe tbody tr th {\n",
              "        vertical-align: top;\n",
              "    }\n",
              "\n",
              "    .dataframe thead th {\n",
              "        text-align: right;\n",
              "    }\n",
              "</style>\n",
              "<table border=\"1\" class=\"dataframe\">\n",
              "  <thead>\n",
              "    <tr style=\"text-align: right;\">\n",
              "      <th></th>\n",
              "      <th>valor</th>\n",
              "    </tr>\n",
              "    <tr>\n",
              "      <th>dia_da_semana</th>\n",
              "      <th></th>\n",
              "    </tr>\n",
              "  </thead>\n",
              "  <tbody>\n",
              "    <tr>\n",
              "      <th>Seg</th>\n",
              "      <td>31.917463</td>\n",
              "    </tr>\n",
              "    <tr>\n",
              "      <th>Dom</th>\n",
              "      <td>31.828305</td>\n",
              "    </tr>\n",
              "    <tr>\n",
              "      <th>Ter</th>\n",
              "      <td>31.762902</td>\n",
              "    </tr>\n",
              "    <tr>\n",
              "      <th>Sex</th>\n",
              "      <td>31.583947</td>\n",
              "    </tr>\n",
              "    <tr>\n",
              "      <th>Qui</th>\n",
              "      <td>31.551765</td>\n",
              "    </tr>\n",
              "    <tr>\n",
              "      <th>Qua</th>\n",
              "      <td>31.500920</td>\n",
              "    </tr>\n",
              "    <tr>\n",
              "      <th>Sáb</th>\n",
              "      <td>31.347915</td>\n",
              "    </tr>\n",
              "  </tbody>\n",
              "</table>\n",
              "</div><br><label><b>dtype:</b> float64</label>"
            ]
          },
          "metadata": {},
          "execution_count": 29
        }
      ]
    },
    {
      "cell_type": "code",
      "source": [
        "# Em qual horário do dia ocorrem mais vendas?\n",
        "vendas['periodo_do_dia'].value_counts()"
      ],
      "metadata": {
        "colab": {
          "base_uri": "https://localhost:8080/",
          "height": 210
        },
        "id": "oY1h4ov_PdMz",
        "outputId": "add9b22c-5586-4e68-9619-79e85b669928"
      },
      "execution_count": 30,
      "outputs": [
        {
          "output_type": "execute_result",
          "data": {
            "text/plain": [
              "periodo_do_dia\n",
              "Tarde    1205\n",
              "Manhã    1181\n",
              "Night    1161\n",
              "Name: count, dtype: int64"
            ],
            "text/html": [
              "<div>\n",
              "<style scoped>\n",
              "    .dataframe tbody tr th:only-of-type {\n",
              "        vertical-align: middle;\n",
              "    }\n",
              "\n",
              "    .dataframe tbody tr th {\n",
              "        vertical-align: top;\n",
              "    }\n",
              "\n",
              "    .dataframe thead th {\n",
              "        text-align: right;\n",
              "    }\n",
              "</style>\n",
              "<table border=\"1\" class=\"dataframe\">\n",
              "  <thead>\n",
              "    <tr style=\"text-align: right;\">\n",
              "      <th></th>\n",
              "      <th>count</th>\n",
              "    </tr>\n",
              "    <tr>\n",
              "      <th>periodo_do_dia</th>\n",
              "      <th></th>\n",
              "    </tr>\n",
              "  </thead>\n",
              "  <tbody>\n",
              "    <tr>\n",
              "      <th>Tarde</th>\n",
              "      <td>1205</td>\n",
              "    </tr>\n",
              "    <tr>\n",
              "      <th>Manhã</th>\n",
              "      <td>1181</td>\n",
              "    </tr>\n",
              "    <tr>\n",
              "      <th>Night</th>\n",
              "      <td>1161</td>\n",
              "    </tr>\n",
              "  </tbody>\n",
              "</table>\n",
              "</div><br><label><b>dtype:</b> int64</label>"
            ]
          },
          "metadata": {},
          "execution_count": 30
        }
      ]
    },
    {
      "cell_type": "code",
      "source": [
        "vendas.groupby('periodo_do_dia')['valor'].mean().sort_values(ascending=False)"
      ],
      "metadata": {
        "colab": {
          "base_uri": "https://localhost:8080/",
          "height": 210
        },
        "id": "V86c8qEQTSjk",
        "outputId": "d6c575d0-f562-42e0-da8d-99076b216bdf"
      },
      "execution_count": 31,
      "outputs": [
        {
          "output_type": "execute_result",
          "data": {
            "text/plain": [
              "periodo_do_dia\n",
              "Night    32.890904\n",
              "Tarde    31.643187\n",
              "Manhã    30.422693\n",
              "Name: valor, dtype: float64"
            ],
            "text/html": [
              "<div>\n",
              "<style scoped>\n",
              "    .dataframe tbody tr th:only-of-type {\n",
              "        vertical-align: middle;\n",
              "    }\n",
              "\n",
              "    .dataframe tbody tr th {\n",
              "        vertical-align: top;\n",
              "    }\n",
              "\n",
              "    .dataframe thead th {\n",
              "        text-align: right;\n",
              "    }\n",
              "</style>\n",
              "<table border=\"1\" class=\"dataframe\">\n",
              "  <thead>\n",
              "    <tr style=\"text-align: right;\">\n",
              "      <th></th>\n",
              "      <th>valor</th>\n",
              "    </tr>\n",
              "    <tr>\n",
              "      <th>periodo_do_dia</th>\n",
              "      <th></th>\n",
              "    </tr>\n",
              "  </thead>\n",
              "  <tbody>\n",
              "    <tr>\n",
              "      <th>Night</th>\n",
              "      <td>32.890904</td>\n",
              "    </tr>\n",
              "    <tr>\n",
              "      <th>Tarde</th>\n",
              "      <td>31.643187</td>\n",
              "    </tr>\n",
              "    <tr>\n",
              "      <th>Manhã</th>\n",
              "      <td>30.422693</td>\n",
              "    </tr>\n",
              "  </tbody>\n",
              "</table>\n",
              "</div><br><label><b>dtype:</b> float64</label>"
            ]
          },
          "metadata": {},
          "execution_count": 31
        }
      ]
    },
    {
      "cell_type": "code",
      "source": [
        "# Qual o valor médio das vendas por mês?\n",
        "vendas.groupby('mes')['valor'].mean().sort_values(ascending=False)"
      ],
      "metadata": {
        "colab": {
          "base_uri": "https://localhost:8080/",
          "height": 492
        },
        "id": "_SIHXYNQPmsw",
        "outputId": "aa0ff97c-ba8d-41a4-d3ec-9d1862aa6155"
      },
      "execution_count": 32,
      "outputs": [
        {
          "output_type": "execute_result",
          "data": {
            "text/plain": [
              "mes\n",
              "Junho        34.160359\n",
              "Abril        34.045000\n",
              "Maio         33.877261\n",
              "Novembro     33.168108\n",
              "Outubro      32.608357\n",
              "Março        32.169312\n",
              "Janeiro      31.835124\n",
              "Dezembro     31.805946\n",
              "Fevereiro    31.242270\n",
              "Julho        29.181181\n",
              "Setembro     29.036744\n",
              "Agosto       27.992059\n",
              "Name: valor, dtype: float64"
            ],
            "text/html": [
              "<div>\n",
              "<style scoped>\n",
              "    .dataframe tbody tr th:only-of-type {\n",
              "        vertical-align: middle;\n",
              "    }\n",
              "\n",
              "    .dataframe tbody tr th {\n",
              "        vertical-align: top;\n",
              "    }\n",
              "\n",
              "    .dataframe thead th {\n",
              "        text-align: right;\n",
              "    }\n",
              "</style>\n",
              "<table border=\"1\" class=\"dataframe\">\n",
              "  <thead>\n",
              "    <tr style=\"text-align: right;\">\n",
              "      <th></th>\n",
              "      <th>valor</th>\n",
              "    </tr>\n",
              "    <tr>\n",
              "      <th>mes</th>\n",
              "      <th></th>\n",
              "    </tr>\n",
              "  </thead>\n",
              "  <tbody>\n",
              "    <tr>\n",
              "      <th>Junho</th>\n",
              "      <td>34.160359</td>\n",
              "    </tr>\n",
              "    <tr>\n",
              "      <th>Abril</th>\n",
              "      <td>34.045000</td>\n",
              "    </tr>\n",
              "    <tr>\n",
              "      <th>Maio</th>\n",
              "      <td>33.877261</td>\n",
              "    </tr>\n",
              "    <tr>\n",
              "      <th>Novembro</th>\n",
              "      <td>33.168108</td>\n",
              "    </tr>\n",
              "    <tr>\n",
              "      <th>Outubro</th>\n",
              "      <td>32.608357</td>\n",
              "    </tr>\n",
              "    <tr>\n",
              "      <th>Março</th>\n",
              "      <td>32.169312</td>\n",
              "    </tr>\n",
              "    <tr>\n",
              "      <th>Janeiro</th>\n",
              "      <td>31.835124</td>\n",
              "    </tr>\n",
              "    <tr>\n",
              "      <th>Dezembro</th>\n",
              "      <td>31.805946</td>\n",
              "    </tr>\n",
              "    <tr>\n",
              "      <th>Fevereiro</th>\n",
              "      <td>31.242270</td>\n",
              "    </tr>\n",
              "    <tr>\n",
              "      <th>Julho</th>\n",
              "      <td>29.181181</td>\n",
              "    </tr>\n",
              "    <tr>\n",
              "      <th>Setembro</th>\n",
              "      <td>29.036744</td>\n",
              "    </tr>\n",
              "    <tr>\n",
              "      <th>Agosto</th>\n",
              "      <td>27.992059</td>\n",
              "    </tr>\n",
              "  </tbody>\n",
              "</table>\n",
              "</div><br><label><b>dtype:</b> float64</label>"
            ]
          },
          "metadata": {},
          "execution_count": 32
        }
      ]
    },
    {
      "cell_type": "code",
      "source": [
        "# Há diferença no ticket médio entre pagamentos em cartão e dinheiro?\n",
        "vendas.groupby('tipo_pagamento')['valor'].mean()\n"
      ],
      "metadata": {
        "colab": {
          "base_uri": "https://localhost:8080/",
          "height": 210
        },
        "id": "KcykAHlUPw50",
        "outputId": "bc0f2c6b-057a-4c68-e731-9a5043fd31bd"
      },
      "execution_count": 27,
      "outputs": [
        {
          "output_type": "execute_result",
          "data": {
            "text/plain": [
              "tipo_pagamento\n",
              "cartão        31.743364\n",
              "dinheiro      31.691250\n",
              "indefinido    31.340188\n",
              "Name: valor, dtype: float64"
            ],
            "text/html": [
              "<div>\n",
              "<style scoped>\n",
              "    .dataframe tbody tr th:only-of-type {\n",
              "        vertical-align: middle;\n",
              "    }\n",
              "\n",
              "    .dataframe tbody tr th {\n",
              "        vertical-align: top;\n",
              "    }\n",
              "\n",
              "    .dataframe thead th {\n",
              "        text-align: right;\n",
              "    }\n",
              "</style>\n",
              "<table border=\"1\" class=\"dataframe\">\n",
              "  <thead>\n",
              "    <tr style=\"text-align: right;\">\n",
              "      <th></th>\n",
              "      <th>valor</th>\n",
              "    </tr>\n",
              "    <tr>\n",
              "      <th>tipo_pagamento</th>\n",
              "      <th></th>\n",
              "    </tr>\n",
              "  </thead>\n",
              "  <tbody>\n",
              "    <tr>\n",
              "      <th>cartão</th>\n",
              "      <td>31.743364</td>\n",
              "    </tr>\n",
              "    <tr>\n",
              "      <th>dinheiro</th>\n",
              "      <td>31.691250</td>\n",
              "    </tr>\n",
              "    <tr>\n",
              "      <th>indefinido</th>\n",
              "      <td>31.340188</td>\n",
              "    </tr>\n",
              "  </tbody>\n",
              "</table>\n",
              "</div><br><label><b>dtype:</b> float64</label>"
            ]
          },
          "metadata": {},
          "execution_count": 27
        }
      ]
    },
    {
      "cell_type": "markdown",
      "source": [
        "### Exercício 5\n",
        "\n",
        "1. Crie uma nova coluna chamada valor_total, que some o valor pago com 10% de taxa de serviço.\n",
        "\n",
        "2. Crie uma nova coluna categoria_valor com:\n",
        "\n",
        "- \"alta\" se o valor for maior que R$40,\n",
        "\n",
        "- \"média\" se entre R$20 e R$40,\n",
        "\n",
        "- \"baixa\" se menor que R$20.\n",
        "\n",
        "3. Responda: Quantas vendas pertencem a cada categoria?"
      ],
      "metadata": {
        "id": "t-WySAv_6eoQ"
      }
    },
    {
      "cell_type": "code",
      "source": [
        "# Crie uma nova coluna chamada valor_total, que some o valor pago com 10% de taxa de serviço.\n",
        "vendas['valor_total'] = vendas['valor'] * 1.1\n",
        "vendas.head()"
      ],
      "metadata": {
        "id": "68YuBc1K6e3V",
        "colab": {
          "base_uri": "https://localhost:8080/",
          "height": 206
        },
        "outputId": "e5f6b35d-5c55-4372-8958-703853be8420"
      },
      "execution_count": 33,
      "outputs": [
        {
          "output_type": "execute_result",
          "data": {
            "text/plain": [
              "   hora_do_dia tipo_pagamento  valor         nome_cafe periodo_do_dia  \\\n",
              "0           10         cartão   38.7             Latte          Manhã   \n",
              "1           12         cartão   38.7  Chocolate Quente          Tarde   \n",
              "2           12         cartão   38.7  Chocolate Quente          Tarde   \n",
              "3           13         cartão   28.9    Café Americano          Tarde   \n",
              "4           13         cartão   38.7             Latte          Tarde   \n",
              "\n",
              "  dia_da_semana    mes  ordem_dia  ordem_mes        data             hora  \\\n",
              "0           Sex  Março          5          3  2024-03-01  10:15:50.520000   \n",
              "1           Sex  Março          5          3  2024-03-01  12:19:22.539000   \n",
              "2           Sex  Março          5          3  2024-03-01  12:20:18.089000   \n",
              "3           Sex  Março          5          3  2024-03-01  13:46:33.006000   \n",
              "4           Sex  Março          5          3  2024-03-01  13:48:14.626000   \n",
              "\n",
              "   valor_total  \n",
              "0        42.57  \n",
              "1        42.57  \n",
              "2        42.57  \n",
              "3        31.79  \n",
              "4        42.57  "
            ],
            "text/html": [
              "\n",
              "  <div id=\"df-e28864c4-9333-4191-a3b1-a4e16b5ed2bd\" class=\"colab-df-container\">\n",
              "    <div>\n",
              "<style scoped>\n",
              "    .dataframe tbody tr th:only-of-type {\n",
              "        vertical-align: middle;\n",
              "    }\n",
              "\n",
              "    .dataframe tbody tr th {\n",
              "        vertical-align: top;\n",
              "    }\n",
              "\n",
              "    .dataframe thead th {\n",
              "        text-align: right;\n",
              "    }\n",
              "</style>\n",
              "<table border=\"1\" class=\"dataframe\">\n",
              "  <thead>\n",
              "    <tr style=\"text-align: right;\">\n",
              "      <th></th>\n",
              "      <th>hora_do_dia</th>\n",
              "      <th>tipo_pagamento</th>\n",
              "      <th>valor</th>\n",
              "      <th>nome_cafe</th>\n",
              "      <th>periodo_do_dia</th>\n",
              "      <th>dia_da_semana</th>\n",
              "      <th>mes</th>\n",
              "      <th>ordem_dia</th>\n",
              "      <th>ordem_mes</th>\n",
              "      <th>data</th>\n",
              "      <th>hora</th>\n",
              "      <th>valor_total</th>\n",
              "    </tr>\n",
              "  </thead>\n",
              "  <tbody>\n",
              "    <tr>\n",
              "      <th>0</th>\n",
              "      <td>10</td>\n",
              "      <td>cartão</td>\n",
              "      <td>38.7</td>\n",
              "      <td>Latte</td>\n",
              "      <td>Manhã</td>\n",
              "      <td>Sex</td>\n",
              "      <td>Março</td>\n",
              "      <td>5</td>\n",
              "      <td>3</td>\n",
              "      <td>2024-03-01</td>\n",
              "      <td>10:15:50.520000</td>\n",
              "      <td>42.57</td>\n",
              "    </tr>\n",
              "    <tr>\n",
              "      <th>1</th>\n",
              "      <td>12</td>\n",
              "      <td>cartão</td>\n",
              "      <td>38.7</td>\n",
              "      <td>Chocolate Quente</td>\n",
              "      <td>Tarde</td>\n",
              "      <td>Sex</td>\n",
              "      <td>Março</td>\n",
              "      <td>5</td>\n",
              "      <td>3</td>\n",
              "      <td>2024-03-01</td>\n",
              "      <td>12:19:22.539000</td>\n",
              "      <td>42.57</td>\n",
              "    </tr>\n",
              "    <tr>\n",
              "      <th>2</th>\n",
              "      <td>12</td>\n",
              "      <td>cartão</td>\n",
              "      <td>38.7</td>\n",
              "      <td>Chocolate Quente</td>\n",
              "      <td>Tarde</td>\n",
              "      <td>Sex</td>\n",
              "      <td>Março</td>\n",
              "      <td>5</td>\n",
              "      <td>3</td>\n",
              "      <td>2024-03-01</td>\n",
              "      <td>12:20:18.089000</td>\n",
              "      <td>42.57</td>\n",
              "    </tr>\n",
              "    <tr>\n",
              "      <th>3</th>\n",
              "      <td>13</td>\n",
              "      <td>cartão</td>\n",
              "      <td>28.9</td>\n",
              "      <td>Café Americano</td>\n",
              "      <td>Tarde</td>\n",
              "      <td>Sex</td>\n",
              "      <td>Março</td>\n",
              "      <td>5</td>\n",
              "      <td>3</td>\n",
              "      <td>2024-03-01</td>\n",
              "      <td>13:46:33.006000</td>\n",
              "      <td>31.79</td>\n",
              "    </tr>\n",
              "    <tr>\n",
              "      <th>4</th>\n",
              "      <td>13</td>\n",
              "      <td>cartão</td>\n",
              "      <td>38.7</td>\n",
              "      <td>Latte</td>\n",
              "      <td>Tarde</td>\n",
              "      <td>Sex</td>\n",
              "      <td>Março</td>\n",
              "      <td>5</td>\n",
              "      <td>3</td>\n",
              "      <td>2024-03-01</td>\n",
              "      <td>13:48:14.626000</td>\n",
              "      <td>42.57</td>\n",
              "    </tr>\n",
              "  </tbody>\n",
              "</table>\n",
              "</div>\n",
              "    <div class=\"colab-df-buttons\">\n",
              "\n",
              "  <div class=\"colab-df-container\">\n",
              "    <button class=\"colab-df-convert\" onclick=\"convertToInteractive('df-e28864c4-9333-4191-a3b1-a4e16b5ed2bd')\"\n",
              "            title=\"Convert this dataframe to an interactive table.\"\n",
              "            style=\"display:none;\">\n",
              "\n",
              "  <svg xmlns=\"http://www.w3.org/2000/svg\" height=\"24px\" viewBox=\"0 -960 960 960\">\n",
              "    <path d=\"M120-120v-720h720v720H120Zm60-500h600v-160H180v160Zm220 220h160v-160H400v160Zm0 220h160v-160H400v160ZM180-400h160v-160H180v160Zm440 0h160v-160H620v160ZM180-180h160v-160H180v160Zm440 0h160v-160H620v160Z\"/>\n",
              "  </svg>\n",
              "    </button>\n",
              "\n",
              "  <style>\n",
              "    .colab-df-container {\n",
              "      display:flex;\n",
              "      gap: 12px;\n",
              "    }\n",
              "\n",
              "    .colab-df-convert {\n",
              "      background-color: #E8F0FE;\n",
              "      border: none;\n",
              "      border-radius: 50%;\n",
              "      cursor: pointer;\n",
              "      display: none;\n",
              "      fill: #1967D2;\n",
              "      height: 32px;\n",
              "      padding: 0 0 0 0;\n",
              "      width: 32px;\n",
              "    }\n",
              "\n",
              "    .colab-df-convert:hover {\n",
              "      background-color: #E2EBFA;\n",
              "      box-shadow: 0px 1px 2px rgba(60, 64, 67, 0.3), 0px 1px 3px 1px rgba(60, 64, 67, 0.15);\n",
              "      fill: #174EA6;\n",
              "    }\n",
              "\n",
              "    .colab-df-buttons div {\n",
              "      margin-bottom: 4px;\n",
              "    }\n",
              "\n",
              "    [theme=dark] .colab-df-convert {\n",
              "      background-color: #3B4455;\n",
              "      fill: #D2E3FC;\n",
              "    }\n",
              "\n",
              "    [theme=dark] .colab-df-convert:hover {\n",
              "      background-color: #434B5C;\n",
              "      box-shadow: 0px 1px 3px 1px rgba(0, 0, 0, 0.15);\n",
              "      filter: drop-shadow(0px 1px 2px rgba(0, 0, 0, 0.3));\n",
              "      fill: #FFFFFF;\n",
              "    }\n",
              "  </style>\n",
              "\n",
              "    <script>\n",
              "      const buttonEl =\n",
              "        document.querySelector('#df-e28864c4-9333-4191-a3b1-a4e16b5ed2bd button.colab-df-convert');\n",
              "      buttonEl.style.display =\n",
              "        google.colab.kernel.accessAllowed ? 'block' : 'none';\n",
              "\n",
              "      async function convertToInteractive(key) {\n",
              "        const element = document.querySelector('#df-e28864c4-9333-4191-a3b1-a4e16b5ed2bd');\n",
              "        const dataTable =\n",
              "          await google.colab.kernel.invokeFunction('convertToInteractive',\n",
              "                                                    [key], {});\n",
              "        if (!dataTable) return;\n",
              "\n",
              "        const docLinkHtml = 'Like what you see? Visit the ' +\n",
              "          '<a target=\"_blank\" href=https://colab.research.google.com/notebooks/data_table.ipynb>data table notebook</a>'\n",
              "          + ' to learn more about interactive tables.';\n",
              "        element.innerHTML = '';\n",
              "        dataTable['output_type'] = 'display_data';\n",
              "        await google.colab.output.renderOutput(dataTable, element);\n",
              "        const docLink = document.createElement('div');\n",
              "        docLink.innerHTML = docLinkHtml;\n",
              "        element.appendChild(docLink);\n",
              "      }\n",
              "    </script>\n",
              "  </div>\n",
              "\n",
              "\n",
              "    <div id=\"df-b87213fb-34fb-400b-a205-3ccb9333d069\">\n",
              "      <button class=\"colab-df-quickchart\" onclick=\"quickchart('df-b87213fb-34fb-400b-a205-3ccb9333d069')\"\n",
              "                title=\"Suggest charts\"\n",
              "                style=\"display:none;\">\n",
              "\n",
              "<svg xmlns=\"http://www.w3.org/2000/svg\" height=\"24px\"viewBox=\"0 0 24 24\"\n",
              "     width=\"24px\">\n",
              "    <g>\n",
              "        <path d=\"M19 3H5c-1.1 0-2 .9-2 2v14c0 1.1.9 2 2 2h14c1.1 0 2-.9 2-2V5c0-1.1-.9-2-2-2zM9 17H7v-7h2v7zm4 0h-2V7h2v10zm4 0h-2v-4h2v4z\"/>\n",
              "    </g>\n",
              "</svg>\n",
              "      </button>\n",
              "\n",
              "<style>\n",
              "  .colab-df-quickchart {\n",
              "      --bg-color: #E8F0FE;\n",
              "      --fill-color: #1967D2;\n",
              "      --hover-bg-color: #E2EBFA;\n",
              "      --hover-fill-color: #174EA6;\n",
              "      --disabled-fill-color: #AAA;\n",
              "      --disabled-bg-color: #DDD;\n",
              "  }\n",
              "\n",
              "  [theme=dark] .colab-df-quickchart {\n",
              "      --bg-color: #3B4455;\n",
              "      --fill-color: #D2E3FC;\n",
              "      --hover-bg-color: #434B5C;\n",
              "      --hover-fill-color: #FFFFFF;\n",
              "      --disabled-bg-color: #3B4455;\n",
              "      --disabled-fill-color: #666;\n",
              "  }\n",
              "\n",
              "  .colab-df-quickchart {\n",
              "    background-color: var(--bg-color);\n",
              "    border: none;\n",
              "    border-radius: 50%;\n",
              "    cursor: pointer;\n",
              "    display: none;\n",
              "    fill: var(--fill-color);\n",
              "    height: 32px;\n",
              "    padding: 0;\n",
              "    width: 32px;\n",
              "  }\n",
              "\n",
              "  .colab-df-quickchart:hover {\n",
              "    background-color: var(--hover-bg-color);\n",
              "    box-shadow: 0 1px 2px rgba(60, 64, 67, 0.3), 0 1px 3px 1px rgba(60, 64, 67, 0.15);\n",
              "    fill: var(--button-hover-fill-color);\n",
              "  }\n",
              "\n",
              "  .colab-df-quickchart-complete:disabled,\n",
              "  .colab-df-quickchart-complete:disabled:hover {\n",
              "    background-color: var(--disabled-bg-color);\n",
              "    fill: var(--disabled-fill-color);\n",
              "    box-shadow: none;\n",
              "  }\n",
              "\n",
              "  .colab-df-spinner {\n",
              "    border: 2px solid var(--fill-color);\n",
              "    border-color: transparent;\n",
              "    border-bottom-color: var(--fill-color);\n",
              "    animation:\n",
              "      spin 1s steps(1) infinite;\n",
              "  }\n",
              "\n",
              "  @keyframes spin {\n",
              "    0% {\n",
              "      border-color: transparent;\n",
              "      border-bottom-color: var(--fill-color);\n",
              "      border-left-color: var(--fill-color);\n",
              "    }\n",
              "    20% {\n",
              "      border-color: transparent;\n",
              "      border-left-color: var(--fill-color);\n",
              "      border-top-color: var(--fill-color);\n",
              "    }\n",
              "    30% {\n",
              "      border-color: transparent;\n",
              "      border-left-color: var(--fill-color);\n",
              "      border-top-color: var(--fill-color);\n",
              "      border-right-color: var(--fill-color);\n",
              "    }\n",
              "    40% {\n",
              "      border-color: transparent;\n",
              "      border-right-color: var(--fill-color);\n",
              "      border-top-color: var(--fill-color);\n",
              "    }\n",
              "    60% {\n",
              "      border-color: transparent;\n",
              "      border-right-color: var(--fill-color);\n",
              "    }\n",
              "    80% {\n",
              "      border-color: transparent;\n",
              "      border-right-color: var(--fill-color);\n",
              "      border-bottom-color: var(--fill-color);\n",
              "    }\n",
              "    90% {\n",
              "      border-color: transparent;\n",
              "      border-bottom-color: var(--fill-color);\n",
              "    }\n",
              "  }\n",
              "</style>\n",
              "\n",
              "      <script>\n",
              "        async function quickchart(key) {\n",
              "          const quickchartButtonEl =\n",
              "            document.querySelector('#' + key + ' button');\n",
              "          quickchartButtonEl.disabled = true;  // To prevent multiple clicks.\n",
              "          quickchartButtonEl.classList.add('colab-df-spinner');\n",
              "          try {\n",
              "            const charts = await google.colab.kernel.invokeFunction(\n",
              "                'suggestCharts', [key], {});\n",
              "          } catch (error) {\n",
              "            console.error('Error during call to suggestCharts:', error);\n",
              "          }\n",
              "          quickchartButtonEl.classList.remove('colab-df-spinner');\n",
              "          quickchartButtonEl.classList.add('colab-df-quickchart-complete');\n",
              "        }\n",
              "        (() => {\n",
              "          let quickchartButtonEl =\n",
              "            document.querySelector('#df-b87213fb-34fb-400b-a205-3ccb9333d069 button');\n",
              "          quickchartButtonEl.style.display =\n",
              "            google.colab.kernel.accessAllowed ? 'block' : 'none';\n",
              "        })();\n",
              "      </script>\n",
              "    </div>\n",
              "\n",
              "    </div>\n",
              "  </div>\n"
            ],
            "application/vnd.google.colaboratory.intrinsic+json": {
              "type": "dataframe",
              "variable_name": "vendas",
              "summary": "{\n  \"name\": \"vendas\",\n  \"rows\": 3547,\n  \"fields\": [\n    {\n      \"column\": \"hora_do_dia\",\n      \"properties\": {\n        \"dtype\": \"number\",\n        \"std\": 4,\n        \"min\": 6,\n        \"max\": 22,\n        \"num_unique_values\": 17,\n        \"samples\": [\n          10,\n          12,\n          18\n        ],\n        \"semantic_type\": \"\",\n        \"description\": \"\"\n      }\n    },\n    {\n      \"column\": \"tipo_pagamento\",\n      \"properties\": {\n        \"dtype\": \"category\",\n        \"num_unique_values\": 3,\n        \"samples\": [\n          \"cart\\u00e3o\",\n          \"indefinido\",\n          \"dinheiro\"\n        ],\n        \"semantic_type\": \"\",\n        \"description\": \"\"\n      }\n    },\n    {\n      \"column\": \"valor\",\n      \"properties\": {\n        \"dtype\": \"number\",\n        \"std\": 4.877753703590957,\n        \"min\": 18.12,\n        \"max\": 38.7,\n        \"num_unique_values\": 13,\n        \"samples\": [\n          25.96,\n          35.76,\n          38.7\n        ],\n        \"semantic_type\": \"\",\n        \"description\": \"\"\n      }\n    },\n    {\n      \"column\": \"nome_cafe\",\n      \"properties\": {\n        \"dtype\": \"category\",\n        \"num_unique_values\": 8,\n        \"samples\": [\n          \"Chocolate Quente\",\n          \"Cortado\",\n          \"Latte\"\n        ],\n        \"semantic_type\": \"\",\n        \"description\": \"\"\n      }\n    },\n    {\n      \"column\": \"periodo_do_dia\",\n      \"properties\": {\n        \"dtype\": \"category\",\n        \"num_unique_values\": 3,\n        \"samples\": [\n          \"Manh\\u00e3\",\n          \"Tarde\",\n          \"Night\"\n        ],\n        \"semantic_type\": \"\",\n        \"description\": \"\"\n      }\n    },\n    {\n      \"column\": \"dia_da_semana\",\n      \"properties\": {\n        \"dtype\": \"category\",\n        \"num_unique_values\": 7,\n        \"samples\": [\n          \"Sex\",\n          \"S\\u00e1b\",\n          \"Qua\"\n        ],\n        \"semantic_type\": \"\",\n        \"description\": \"\"\n      }\n    },\n    {\n      \"column\": \"mes\",\n      \"properties\": {\n        \"dtype\": \"category\",\n        \"num_unique_values\": 12,\n        \"samples\": [\n          \"Janeiro\",\n          \"Dezembro\",\n          \"Mar\\u00e7o\"\n        ],\n        \"semantic_type\": \"\",\n        \"description\": \"\"\n      }\n    },\n    {\n      \"column\": \"ordem_dia\",\n      \"properties\": {\n        \"dtype\": \"number\",\n        \"std\": 1,\n        \"min\": 1,\n        \"max\": 7,\n        \"num_unique_values\": 7,\n        \"samples\": [\n          5,\n          6,\n          3\n        ],\n        \"semantic_type\": \"\",\n        \"description\": \"\"\n      }\n    },\n    {\n      \"column\": \"ordem_mes\",\n      \"properties\": {\n        \"dtype\": \"number\",\n        \"std\": 3,\n        \"min\": 1,\n        \"max\": 12,\n        \"num_unique_values\": 12,\n        \"samples\": [\n          1,\n          12,\n          3\n        ],\n        \"semantic_type\": \"\",\n        \"description\": \"\"\n      }\n    },\n    {\n      \"column\": \"data\",\n      \"properties\": {\n        \"dtype\": \"object\",\n        \"num_unique_values\": 381,\n        \"samples\": [\n          \"2024-11-25\",\n          \"2024-09-12\",\n          \"2024-04-16\"\n        ],\n        \"semantic_type\": \"\",\n        \"description\": \"\"\n      }\n    },\n    {\n      \"column\": \"hora\",\n      \"properties\": {\n        \"dtype\": \"object\",\n        \"num_unique_values\": 3547,\n        \"samples\": [\n          \"19:43:26.234000\",\n          \"21:57:30.270000\",\n          \"17:34:49.096000\"\n        ],\n        \"semantic_type\": \"\",\n        \"description\": \"\"\n      }\n    },\n    {\n      \"column\": \"valor_total\",\n      \"properties\": {\n        \"dtype\": \"number\",\n        \"std\": 5.36552907395024,\n        \"min\": 19.932000000000002,\n        \"max\": 42.57000000000001,\n        \"num_unique_values\": 13,\n        \"samples\": [\n          28.556000000000004,\n          39.336,\n          42.57000000000001\n        ],\n        \"semantic_type\": \"\",\n        \"description\": \"\"\n      }\n    }\n  ]\n}"
            }
          },
          "metadata": {},
          "execution_count": 33
        }
      ]
    },
    {
      "cell_type": "code",
      "source": [
        "# Crie uma nova coluna categoria_valor com:\n",
        "# \"alta\" se o valor for maior que R$40,\n",
        "# \"média\" se entre R$20 e R$40,\n",
        "# \"baixa\" se menor que R$20.\n",
        "def categoria_valor(valor):\n",
        "    if valor > 40:\n",
        "        return 'alta'\n",
        "    elif valor >= 20:\n",
        "        return 'média'\n",
        "    else:\n",
        "        return 'baixa'"
      ],
      "metadata": {
        "id": "MFBp6sjQUxgc"
      },
      "execution_count": 34,
      "outputs": []
    },
    {
      "cell_type": "code",
      "source": [
        "categoria_valor(30)"
      ],
      "metadata": {
        "colab": {
          "base_uri": "https://localhost:8080/",
          "height": 36
        },
        "id": "oCn9xSqeXqmV",
        "outputId": "a0a04faf-fa7a-4317-f33a-767ac39a2522"
      },
      "execution_count": 41,
      "outputs": [
        {
          "output_type": "execute_result",
          "data": {
            "text/plain": [
              "'média'"
            ],
            "application/vnd.google.colaboratory.intrinsic+json": {
              "type": "string"
            }
          },
          "metadata": {},
          "execution_count": 41
        }
      ]
    },
    {
      "cell_type": "code",
      "source": [
        "# Responda: Quantas vendas pertencem a cada categoria?\n",
        "vendas['categoria_valor'] = vendas['valor'].apply(categoria_valor)\n",
        "vendas['categoria_valor'].value_counts()\n"
      ],
      "metadata": {
        "colab": {
          "base_uri": "https://localhost:8080/",
          "height": 178
        },
        "id": "ffTEDXmxVNBq",
        "outputId": "65cf6cf8-13e1-4e72-a62b-9a2885dfb305"
      },
      "execution_count": 36,
      "outputs": [
        {
          "output_type": "execute_result",
          "data": {
            "text/plain": [
              "categoria_valor\n",
              "média    3511\n",
              "baixa      36\n",
              "Name: count, dtype: int64"
            ],
            "text/html": [
              "<div>\n",
              "<style scoped>\n",
              "    .dataframe tbody tr th:only-of-type {\n",
              "        vertical-align: middle;\n",
              "    }\n",
              "\n",
              "    .dataframe tbody tr th {\n",
              "        vertical-align: top;\n",
              "    }\n",
              "\n",
              "    .dataframe thead th {\n",
              "        text-align: right;\n",
              "    }\n",
              "</style>\n",
              "<table border=\"1\" class=\"dataframe\">\n",
              "  <thead>\n",
              "    <tr style=\"text-align: right;\">\n",
              "      <th></th>\n",
              "      <th>count</th>\n",
              "    </tr>\n",
              "    <tr>\n",
              "      <th>categoria_valor</th>\n",
              "      <th></th>\n",
              "    </tr>\n",
              "  </thead>\n",
              "  <tbody>\n",
              "    <tr>\n",
              "      <th>média</th>\n",
              "      <td>3511</td>\n",
              "    </tr>\n",
              "    <tr>\n",
              "      <th>baixa</th>\n",
              "      <td>36</td>\n",
              "    </tr>\n",
              "  </tbody>\n",
              "</table>\n",
              "</div><br><label><b>dtype:</b> int64</label>"
            ]
          },
          "metadata": {},
          "execution_count": 36
        }
      ]
    },
    {
      "cell_type": "markdown",
      "source": [
        "### Exercício 6 - Visualização de dados com Pandas\n",
        "\n",
        "1. Crie um gráfico de barras mostrando o **faturamento total** por tipo de café.\n",
        "\n",
        "2. Crie um gráfico mostrando como as vendas estão distribuídas entre os tipos de pagamento.\n",
        "\n",
        "3. Crie um gráfico de linha mostrando o faturamento total diário ao longo do tempo.\n",
        "\n",
        "- Adicione título no gráfico e nos eixos, bem como grid no gráfico de linha."
      ],
      "metadata": {
        "id": "xk0C0jx3UEEW"
      }
    },
    {
      "cell_type": "code",
      "source": [
        "#Crie um gráfico de barras mostrando o faturamento total por tipo de café ordenar.\n",
        "\n",
        "vendas.groupby('nome_cafe')['valor'].sum().sort_values(ascending=False).plot(kind='bar')"
      ],
      "metadata": {
        "colab": {
          "base_uri": "https://localhost:8080/",
          "height": 599
        },
        "id": "WPLdMFYvUGIO",
        "outputId": "5245728a-25ff-4a88-ad63-2a392b1d731d"
      },
      "execution_count": 42,
      "outputs": [
        {
          "output_type": "execute_result",
          "data": {
            "text/plain": [
              "<Axes: xlabel='nome_cafe'>"
            ]
          },
          "metadata": {},
          "execution_count": 42
        },
        {
          "output_type": "display_data",
          "data": {
            "text/plain": [
              "<Figure size 640x480 with 1 Axes>"
            ],
            "image/png": "[encoded data removed]"
          },
          "metadata": {}
        }
      ]
    },
    {
      "cell_type": "code",
      "source": [
        "# Crie um gráfico mostrando como as vendas estão distribuídas entre os tipos de pagamento\n",
        "vendas.groupby('tipo_pagamento')['valor'].sum().plot(kind='bar')\n"
      ],
      "metadata": {
        "colab": {
          "base_uri": "https://localhost:8080/",
          "height": 521
        },
        "id": "2TThUJYYVZC3",
        "outputId": "abb617ad-92da-41a4-b1e2-402b45de3f45"
      },
      "execution_count": 38,
      "outputs": [
        {
          "output_type": "execute_result",
          "data": {
            "text/plain": [
              "<Axes: xlabel='tipo_pagamento'>"
            ]
          },
          "metadata": {},
          "execution_count": 38
        },
        {
          "output_type": "display_data",
          "data": {
            "text/plain": [
              "<Figure size 640x480 with 1 Axes>"
            ],
            "image/png": "[encoded data removed]"
          },
          "metadata": {}
        }
      ]
    },
    {
      "cell_type": "code",
      "source": [
        "# Crie um gráfico de linha mostrando o faturamento total diário ao longo do tempo.\n",
        "vendas.groupby('data')['valor'].sum().plot(kind='line')\n"
      ],
      "metadata": {
        "colab": {
          "base_uri": "https://localhost:8080/",
          "height": 466
        },
        "id": "l6JU0bxyVfBr",
        "outputId": "99bdf718-8b52-4d49-f466-20329f1e1e99"
      },
      "execution_count": 39,
      "outputs": [
        {
          "output_type": "execute_result",
          "data": {
            "text/plain": [
              "<Axes: xlabel='data'>"
            ]
          },
          "metadata": {},
          "execution_count": 39
        },
        {
          "output_type": "display_data",
          "data": {
            "text/plain": [
              "<Figure size 640x480 with 1 Axes>"
            ],
            "image/png": "[encoded data removed]"
          },
          "metadata": {}
        }
      ]
    },
    {
      "cell_type": "code",
      "source": [
        "# Adicione título no gráfico e nos eixos, bem como grid no gráfico de linha.\n",
        "vendas.groupby('data')['valor'].sum().plot(kind='line', title='Faturamento diário', grid=True)\n",
        "\n"
      ],
      "metadata": {
        "colab": {
          "base_uri": "https://localhost:8080/",
          "height": 489
        },
        "id": "Lrp93bYwVwT2",
        "outputId": "65674c30-cb88-44b3-8412-e37a3e64bd27"
      },
      "execution_count": 40,
      "outputs": [
        {
          "output_type": "execute_result",
          "data": {
            "text/plain": [
              "<Axes: title={'center': 'Faturamento diário'}, xlabel='data'>"
            ]
          },
          "metadata": {},
          "execution_count": 40
        },
        {
          "output_type": "display_data",
          "data": {
            "text/plain": [
              "<Figure size 640x480 with 1 Axes>"
            ],
            "image/png": "[encoded data removed]"
          },
          "metadata": {}
        }
      ]
    }
  ]
}